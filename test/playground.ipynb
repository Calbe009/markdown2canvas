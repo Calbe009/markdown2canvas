{
 "cells": [
  {
   "cell_type": "code",
   "execution_count": 2,
   "metadata": {},
   "outputs": [
    {
     "name": "stderr",
     "output_type": "stream",
     "text": [
      "INFO:root:using canvas with API_KEY as defined in /Users/amethyst/icloud/work/canvas_credentials.py\n",
      "DEBUG:urllib3.connectionpool:Starting new HTTPS connection (1): uweau.instructure.com:443\n",
      "DEBUG:urllib3.connectionpool:https://uweau.instructure.com:443 \"GET /api/v1/courses/705022 HTTP/1.1\" 200 None\n"
     ]
    }
   ],
   "source": [
    "import sys\n",
    "import datetime\n",
    "sys.path.insert(0,'../')\n",
    "import markdown2canvas as mc\n",
    "import canvasapi\n",
    "course_id = 705022 # silviana's sandbox for this development\n",
    "canvas_url = \"https://uweau.instructure.com/\"\n",
    "\n",
    "canvas = mc.make_canvas_api_obj(canvas_url)\n",
    "course = canvas.get_course(course_id)"
   ]
  },
  {
   "cell_type": "code",
   "execution_count": 3,
   "metadata": {},
   "outputs": [],
   "source": [
    "ass = course.get_assignments()"
   ]
  },
  {
   "cell_type": "code",
   "execution_count": 4,
   "metadata": {},
   "outputs": [
    {
     "name": "stderr",
     "output_type": "stream",
     "text": [
      "DEBUG:urllib3.connectionpool:https://uweau.instructure.com:443 \"GET /api/v1/courses/705022/assignments?per_page=100 HTTP/1.1\" 200 None\n"
     ]
    }
   ],
   "source": [
    "a = ass[0]"
   ]
  },
  {
   "cell_type": "code",
   "execution_count": 8,
   "metadata": {},
   "outputs": [
    {
     "data": {
      "text/plain": [
       "['pdf', 'docx', 'jpg']"
      ]
     },
     "execution_count": 8,
     "metadata": {},
     "output_type": "execute_result"
    }
   ],
   "source": [
    "a.allowed_extensions"
   ]
  },
  {
   "cell_type": "code",
   "execution_count": 10,
   "metadata": {},
   "outputs": [
    {
     "data": {
      "text/plain": [
       "'<link rel=\"stylesheet\" href=\"https://instructure-uploads.s3.amazonaws.com/account_118300000000000001/attachments/77485672/mobile.css\">\\n\\n<div id=\"uws-droplets-page\">\\n\\n<p>Markdown header content here</p>\\n<p><img alt=\"This is a photo of a natural heritage site in Ukraine, id: 59-247-5004.\" class=\"instructure_file_link inline_disabled\" data-api-endpoint=\"https://uweau.instructure.com/api/v1/courses/705022/files/77637707\" data-api-returntype=\"File\" src=\"https://uweau.instructure.com/courses/705022/files/77637707/preview?verifier=q0IaD70VkVNR8PBi2DnWP7UerI5g8ujMYfIiKuqo\"></p>\\n<hr>\\n<h1>purpose</h1>\\n<p>testing source</p>\\n<p>here\\'s some emoji using shortcodes:</p>\\n<ul>\\n<li>😀</li>\\n<li>🎭</li>\\n<li>🌈</li>\\n</ul>\\n<p>( \\\\sum_i^n f(x) )</p>\\n<h1>tasks</h1>\\n<h2>task 1</h2>\\n<div class=\"codehilite\"><pre><span></span><code><span class=\"k\">def</span> <span class=\"nf\">foo</span><span class=\"p\">():</span>\\n    <span class=\"nb\">print</span><span class=\"p\">(</span><span class=\"mi\">42</span><span class=\"p\">)</span>\\n\\n\\n<span class=\"n\">foo</span><span class=\"p\">()</span>\\n</code></pre></div>\\n<blockquote>\\n<p>this is a block<br>\\nquote<br>\\narst</p>\\n</blockquote>\\n<h2>task 2</h2>\\n<h1>criteria for success</h1>\\n<p>This is how you\\'ll be successful in this assignment:</p>\\n<ul>\\n<li>arst</li>\\n<li>ast</li>\\n</ul>\\n<p><img alt=\"a cute little penguin\" class=\"instructure_file_link inline_disabled\" data-api-endpoint=\"https://uweau.instructure.com/api/v1/courses/705022/files/77637708\" data-api-returntype=\"File\" src=\"https://uweau.instructure.com/courses/705022/files/77637708/preview?verifier=kasGpc99sQTGSYcXKLHO627l6REta5EaZwhAzqkh\"><br>\\nFrom <a href=\"https://commons.wikimedia.org/wiki/File:Ping%C3%BCino_(1).JPG\">wikimedia commons, CC-BY-SA</a></p>\\n<hr>\\n<p>Header image credit: Medoffer, CC BY-SA 4.0 <a href=\"https://creativecommons.org/licenses/by-sa/4.0\">https://creativecommons.org/licenses/by-sa/4.0</a>, via Wikimedia Commons</p>\\n</div>\\n'"
      ]
     },
     "execution_count": 10,
     "metadata": {},
     "output_type": "execute_result"
    }
   ],
   "source": [
    "a.description"
   ]
  },
  {
   "cell_type": "code",
   "execution_count": null,
   "metadata": {},
   "outputs": [],
   "source": [
    "print(f'due_at_date:\\t{a.due_at_date}\\ndue_at:\\t\\t{a.due_at}')"
   ]
  },
  {
   "cell_type": "code",
   "execution_count": null,
   "metadata": {},
   "outputs": [],
   "source": [
    "ass[0].edit(assignment={'lock_at':datetime.datetime(2021, 8, 17, 4, 59, 59),'due_at':datetime.datetime(2021, 8, 17, 4, 59, 59)})"
   ]
  },
  {
   "cell_type": "code",
   "execution_count": null,
   "metadata": {},
   "outputs": [],
   "source": [
    "a.allowed_extensions"
   ]
  },
  {
   "cell_type": "code",
   "execution_count": null,
   "metadata": {},
   "outputs": [],
   "source": [
    "course.)"
   ]
  },
  {
   "cell_type": "code",
   "execution_count": null,
   "metadata": {},
   "outputs": [],
   "source": [
    "course.create_assignment(assignment={'name':'arst'})"
   ]
  },
  {
   "cell_type": "code",
   "execution_count": null,
   "metadata": {},
   "outputs": [],
   "source": [
    "p = course.get_pages()[0]"
   ]
  },
  {
   "cell_type": "code",
   "execution_count": null,
   "metadata": {},
   "outputs": [],
   "source": [
    "p"
   ]
  },
  {
   "cell_type": "code",
   "execution_count": null,
   "metadata": {},
   "outputs": [],
   "source": [
    "p.title"
   ]
  },
  {
   "cell_type": "code",
   "execution_count": null,
   "metadata": {},
   "outputs": [],
   "source": [
    "p.html_url"
   ]
  },
  {
   "cell_type": "code",
   "execution_count": null,
   "metadata": {},
   "outputs": [],
   "source": [
    "course.create_page(wiki_page={'title':'qafrp','body':'emtpy'})"
   ]
  },
  {
   "cell_type": "code",
   "execution_count": null,
   "metadata": {},
   "outputs": [],
   "source": [
    "name = 'arst arst arst'\n",
    "result = course.create_page(wiki_page={'body':\"empty page\",'title':name})"
   ]
  },
  {
   "cell_type": "code",
   "execution_count": null,
   "metadata": {},
   "outputs": [],
   "source": [
    "result"
   ]
  },
  {
   "cell_type": "code",
   "execution_count": null,
   "metadata": {},
   "outputs": [],
   "source": [
    "_,i2 = course.upload('has_local_images/hauser_menagerie.jpg',on_duplicate='overwrite')"
   ]
  },
  {
   "cell_type": "code",
   "execution_count": null,
   "metadata": {},
   "outputs": [],
   "source": [
    "i1['url']"
   ]
  },
  {
   "cell_type": "code",
   "execution_count": null,
   "metadata": {},
   "outputs": [],
   "source": [
    "i2['url']"
   ]
  },
  {
   "cell_type": "code",
   "execution_count": null,
   "metadata": {},
   "outputs": [],
   "source": [
    "i1"
   ]
  },
  {
   "cell_type": "code",
   "execution_count": null,
   "metadata": {},
   "outputs": [],
   "source": [
    "n = i1['url'].find('files')"
   ]
  },
  {
   "cell_type": "code",
   "execution_count": null,
   "metadata": {},
   "outputs": [],
   "source": [
    "i1['url'][:n]+'courses/'+str(course.id)+'/files/'+str(i1['id'])+'/preview'"
   ]
  },
  {
   "cell_type": "code",
   "execution_count": null,
   "metadata": {},
   "outputs": [],
   "source": [
    "# https://uws-td.instructure.com/courses/3099/files/219835/preview"
   ]
  },
  {
   "cell_type": "code",
   "execution_count": null,
   "metadata": {},
   "outputs": [],
   "source": [
    "im = i1"
   ]
  },
  {
   "cell_type": "code",
   "execution_count": null,
   "metadata": {},
   "outputs": [],
   "source": [
    "n = im['url'].find('files')\n",
    "\t\tm = im['preview_url'].find(str(im['id']))"
   ]
  },
  {
   "cell_type": "code",
   "execution_count": null,
   "metadata": {},
   "outputs": [],
   "source": [
    "n = im['url'].find('/files')\n",
    "m = im['preview_url'].find('/'+str(im['id']))\n",
    "im['url'][:n]+im['preview_url'][:m]+'/'+str(im['id'])+'/preview'"
   ]
  },
  {
   "cell_type": "code",
   "execution_count": null,
   "metadata": {},
   "outputs": [],
   "source": [
    "f = course.get_files()[0]"
   ]
  },
  {
   "cell_type": "code",
   "execution_count": null,
   "metadata": {},
   "outputs": [],
   "source": [
    "f.filename"
   ]
  },
  {
   "cell_type": "code",
   "execution_count": null,
   "metadata": {},
   "outputs": [],
   "source": [
    "{'a':5}.values()"
   ]
  },
  {
   "cell_type": "code",
   "execution_count": null,
   "metadata": {},
   "outputs": [],
   "source": [
    "f.media_entry_id"
   ]
  },
  {
   "cell_type": "code",
   "execution_count": null,
   "metadata": {},
   "outputs": [],
   "source": [
    "f"
   ]
  },
  {
   "cell_type": "code",
   "execution_count": null,
   "metadata": {},
   "outputs": [],
   "source": [
    "dir(f)"
   ]
  },
  {
   "cell_type": "code",
   "execution_count": null,
   "metadata": {},
   "outputs": [],
   "source": [
    "f.url"
   ]
  },
  {
   "cell_type": "code",
   "execution_count": null,
   "metadata": {},
   "outputs": [],
   "source": [
    "im = course.get_files()[0]"
   ]
  },
  {
   "cell_type": "code",
   "execution_count": null,
   "metadata": {},
   "outputs": [],
   "source": [
    "n = im.url.find('/files')\n",
    "# m = im['preview_url'].find('/'+str(im['id']))\n",
    "\n",
    "base = im.url[:n]\n",
    "\n",
    "c_url = base+'/courses/'+str(course.id)+'/files/'+str(im.id)+'/preview'\n",
    "print(c_url)"
   ]
  },
  {
   "cell_type": "code",
   "execution_count": null,
   "metadata": {},
   "outputs": [],
   "source": [
    "f"
   ]
  },
  {
   "cell_type": "code",
   "execution_count": null,
   "metadata": {},
   "outputs": [],
   "source": [
    "r = f._requester"
   ]
  },
  {
   "cell_type": "code",
   "execution_count": null,
   "metadata": {},
   "outputs": [],
   "source": [
    "r.original_url"
   ]
  },
  {
   "cell_type": "code",
   "execution_count": 75,
   "metadata": {},
   "outputs": [],
   "source": [
    "modules = course.get_modules()\n",
    "m = modules[0]"
   ]
  },
  {
   "cell_type": "code",
   "execution_count": 76,
   "metadata": {},
   "outputs": [
    {
     "data": {
      "text/plain": [
       "Module(_requester=<canvasapi.requester.Requester object at 0x7fbcd1348bb0>, id=23291, name=manually created module 1, position=1, unlock_at=None, require_sequential_progress=False, publish_final_grade=False, prerequisite_module_ids=[], published=False, items_count=6, items_url=https://uws-td.instructure.com/api/v1/courses/3099/modules/23291/items, course_id=3099)"
      ]
     },
     "execution_count": 76,
     "metadata": {},
     "output_type": "execute_result"
    }
   ],
   "source": [
    "m"
   ]
  },
  {
   "cell_type": "code",
   "execution_count": null,
   "metadata": {},
   "outputs": [],
   "source": [
    "m.get_module_items()[0]"
   ]
  },
  {
   "cell_type": "code",
   "execution_count": null,
   "metadata": {},
   "outputs": [],
   "source": [
    "\n",
    "m.create_module_item(module_item={'content_id':127210000000067798})"
   ]
  },
  {
   "cell_type": "code",
   "execution_count": null,
   "metadata": {},
   "outputs": [],
   "source": []
  },
  {
   "cell_type": "code",
   "execution_count": null,
   "metadata": {},
   "outputs": [],
   "source": [
    "for item in m.get_module_items():\n",
    "    print((item.type))"
   ]
  },
  {
   "cell_type": "code",
   "execution_count": null,
   "metadata": {},
   "outputs": [],
   "source": [
    "p = course.get_pages()[0]\n",
    "my_dict ={'body': 'literally anything'}\n",
    "p.edit(wiki_page=my_dict)"
   ]
  },
  {
   "cell_type": "code",
   "execution_count": null,
   "metadata": {},
   "outputs": [],
   "source": []
  },
  {
   "cell_type": "code",
   "execution_count": null,
   "metadata": {},
   "outputs": [],
   "source": [
    "a = mc.create_or_get_assignment('crap crap crap crap', course, True)"
   ]
  },
  {
   "cell_type": "code",
   "execution_count": null,
   "metadata": {},
   "outputs": [],
   "source": [
    "a.edit(assignment={'description':'more nonsense'})"
   ]
  },
  {
   "cell_type": "code",
   "execution_count": null,
   "metadata": {},
   "outputs": [],
   "source": [
    "from os.path import join"
   ]
  },
  {
   "cell_type": "code",
   "execution_count": null,
   "metadata": {},
   "outputs": [],
   "source": [
    "def compute_relative_style_path(style_path):\n",
    "    here = path.abspath('.')\n",
    "    there = path.abspath(style_path)\n",
    "    \n",
    "    \n",
    "    \n",
    "compute_relative_style_path('..')"
   ]
  },
  {
   "cell_type": "code",
   "execution_count": null,
   "metadata": {},
   "outputs": [],
   "source": [
    "from os import path"
   ]
  },
  {
   "cell_type": "code",
   "execution_count": null,
   "metadata": {},
   "outputs": [],
   "source": [
    "here = path.abspath('.')\n",
    "there = path.abspath('$HOME/Dropbox/work/teach/ds710_programming_data_science/ds710_github_repo/project/')"
   ]
  },
  {
   "cell_type": "code",
   "execution_count": null,
   "metadata": {},
   "outputs": [],
   "source": [
    "here"
   ]
  },
  {
   "cell_type": "code",
   "execution_count": null,
   "metadata": {},
   "outputs": [],
   "source": [
    "there"
   ]
  },
  {
   "cell_type": "code",
   "execution_count": null,
   "metadata": {},
   "outputs": [],
   "source": [
    "path.commonpath([here,there])"
   ]
  },
  {
   "cell_type": "code",
   "execution_count": null,
   "metadata": {},
   "outputs": [],
   "source": []
  },
  {
   "cell_type": "code",
   "execution_count": 6,
   "metadata": {},
   "outputs": [],
   "source": [
    "f = course.get_files()[0]"
   ]
  },
  {
   "cell_type": "code",
   "execution_count": 9,
   "metadata": {},
   "outputs": [
    {
     "data": {
      "text/plain": [
       "'640px-Zhuravlyne_ozero.jpeg'"
      ]
     },
     "execution_count": 9,
     "metadata": {},
     "output_type": "execute_result"
    }
   ],
   "source": [
    "f.filename"
   ]
  },
  {
   "cell_type": "code",
   "execution_count": 10,
   "metadata": {},
   "outputs": [
    {
     "data": {
      "text/plain": [
       "'����\\x00~Exif\\x00\\x00MM\\x00*\\x00\\x00\\x00\\x08\\x00\\x05\\x01\\x0e\\x00\\x02\\x00\\x00\\x00\\x1b\\x00\\x00\\x00J\\x01\\x1a\\x00\\x05\\x00\\x00\\x00\\x01\\x00\\x00\\x00f\\x01\\x1b\\x00\\x05\\x00\\x00\\x00\\x01\\x00\\x00\\x00n\\x01(\\x00\\x03\\x00\\x00\\x00\\x01\\x00\\x02\\x00\\x00\\x02\\x13\\x00\\x03\\x00\\x00\\x00\\x01\\x00\\x01\\x00\\x00\\x00\\x00\\x00\\x00DCIM\\\\100MEDIA\\\\DJI_0537.JPG\\x00\\x00\\x00\\x00\\x00H\\x00\\x00\\x00\\x01\\x00\\x00\\x00H\\x00\\x00\\x00\\x01��\\x00C\\x00\\x04\\x03\\x03\\x04\\x03\\x03\\x04\\x04\\x03\\x04\\x05\\x04\\x04\\x05\\x06\\n\\x07\\x06\\x06\\x06\\x06\\r\\t\\n\\x08\\n\\x0f\\r\\x10\\x10\\x0f\\r\\x0f\\x0e\\x11\\x13\\x18\\x14\\x11\\x12\\x17\\x12\\x0e\\x0f\\x15\\x1c\\x15\\x17\\x19\\x19\\x1b\\x1b\\x1b\\x10\\x14\\x1d\\x1f\\x1d\\x1a\\x1f\\x18\\x1a\\x1b\\x1a��\\x00C\\x01\\x04\\x05\\x05\\x06\\x05\\x06\\x0c\\x07\\x07\\x0c\\x1a\\x11\\x0f\\x11\\x1a\\x1a\\x1a\\x1a\\x1a\\x1a\\x1a\\x1a\\x1a\\x1a\\x1a\\x1a\\x1a\\x1a\\x1a\\x1a\\x1a\\x1a\\x1a\\x1a\\x1a\\x1a\\x1a\\x1a\\x1a\\x1a\\x1a\\x1a\\x1a\\x1a\\x1a\\x1a\\x1a\\x1a\\x1a\\x1a\\x1a\\x1a\\x1a\\x1a\\x1a\\x1a\\x1a\\x1a\\x1a\\x1a\\x1a\\x1a\\x1a\\x1a��\\x00\\x11\\x08\\x01h\\x02�\\x03\\x01\"\\x00\\x02\\x11\\x01\\x03\\x11\\x01��\\x00\\x1c\\x00\\x00\\x03\\x00\\x03\\x01\\x01\\x01\\x00\\x00\\x00\\x00\\x00\\x00\\x00\\x00\\x00\\x04\\x05\\x06\\x02\\x03\\x07\\x00\\x01\\x08��\\x00B\\x10\\x00\\x02\\x02\\x01\\x03\\x03\\x03\\x03\\x02\\x05\\x02\\x04\\x05\\x03\\x02\\x07\\x01\\x02\\x03\\x04\\x11\\x05\\x12!\\x00\\x061\\x13\"A\\x14Qa2q\\x07\\x15#B�R�\\x16���$3b��%r�4C��\\x17S&c���\\x00\\x1a\\x01\\x00\\x03\\x01\\x01\\x01\\x01\\x00\\x00\\x00\\x00\\x00\\x00\\x00\\x00\\x00\\x00\\x01\\x02\\x03\\x04\\x00\\x05\\x06��\\x003\\x11\\x00\\x02\\x02\\x02\\x02\\x01\\x03\\x02\\x04\\x05\\x04\\x03\\x01\\x01\\x00\\x00\\x01\\x02\\x00\\x11\\x03!\\x121A\\x04\\x13\"Qa2q��\\x05#���\\x14B��\\x15��3R��\\x00\\x0c\\x03\\x01\\x00\\x02\\x11\\x03\\x11\\x00?\\x00㷻~�Yf��3\\\\�y\\x1e-A\\x1ar\\x16v \\x1c�\\x11��\\x08�\\x18��誺\\x0bS�mR��\\x08��d�\\thf�r��3�\\x03\\r���@��K���\\x1c�\\x15���hk11��F�\\x1d�\\x1c&K\\x15\\x18V9�\\x16\\x1e\\x07=3Ҩi���r�:\\\\��[3\\x13�\\x1d�S�U\\x00\\x05J��\\x0c\\x0c������m�\\n���̷��\\x04ס��/N�L�6\\x01�L��n\\x00��O�\\x00��\\x1a����;IN�1E��^Ņq$\\x1e�]��m�q��\\x03���Q�_O�j�/\\r[u�o��\\x10�(NIR�\\x0cH\\x1b�2x���>�l�C����$Y\\x16h�XLS�eq�\\x12}�����\\x18� Ĩ\\t�N�p����-:���4�j�e5\\x07�aFS)ڍ��,\\x01\\x07�|�<�6�&�KS��Q�IoN\\x0b,,�,Q\"���s��a�rp�\\x07\\x1dk�ޣ6��$��S�KS\\x12٪ULhʿ���;\\x00?��<�����\\x0fU�\\n��=#Q�(�\\t\\x12K\\x01\\x90�w�\\x023�\\x03��8\\'�ȡ\\x08\\n5���\\\\_�v��gR����jK��\\x00<�\\x1e\\x1c��e\\x14``�(\\x00\\x10Fy㞚�ݫKM{t���+���8�}��ݹv�p�pA9>:Ѯ�f�H�v�����pE�\\'����\\x00�ps�=h�mz\\x1aD:���Ւ��2K\\x19��\\x18�\\x13��\\x18���@\\x1er�\\x07���\\x02{�q��}-\\x19_G�b��m\\x043�$�\\x15\\x07��\\x02������\\t4��>�WSwH�4�4qO*\\x04\\x08_nY��V\\x05�F|)\\x04���:F�V{�嵪5���\\x1aV-�(N���_q;���\\x0cu�J�V�\\x184b��i���h<�)��\\x00(;\\x06�\\x0b+|\\x1c���G+�}g\\t��Rܺ|\\x15\\'�͉a��\\x0c;�b�����;F���{�㧋WM�R(?�ё�L�@�P)�A��\\x01$\\x0c��\\x0b�\\x03��;��=*�q�\\tz�[f;ޭ�\\x102HT\\x0f�C6\\x19𫀤��\\x1ct\\x06�ٚ�wh6�dg��\\x11}\\x10z�N��( �P�0_�\\x1c�n(hr���tm?��nۊ�\\x07y��v[;$�;\\x1d��\"`p\\x02�0�NG\\x078\\x0b�z��}\\x18��%���\\x03X�\\x02B��k\\x1e=�bH<`\\x0e\\x07Bڬ��B{�\\x1d}GQX�5ج�*$�0�\\x00�S\\'\\x02RJ\\x03�\\r�9�\\n\\uf626�$�$tN�n�����x\\x95\\x05��ۆ`\\x06_ ��\\x03�9�)���[���\\'PM^�\\x1d\"ޝ�\\x00\\x0eT��>�\"�M�a��c����\\x0b��p0\\x08#\\x1deoRo��O�^9�;�.��*�}Q��\\x05�\\x04\\x1eFx��v������$��u*��&y\\x1eJ�$Ē\\x14.}5��\\x07��\\x03��^�M~��oSM*\\n�bJ\\u07b4r�\\x1eX�1�/��\\x04�G���\\x1f\\x16\\x01�ן1|ƕ�W�cM��R�0�)\\x14͂� ݐ\\x19�\\x12� �ݷ��N�5(�*u�5\\x15YT�\"e��\\x19R�c!y\\x0b�\\'\\x18\\x19�J\\'�;z��\\x1e�=��j\\x14�gycv�kiĘ��\\x14)B1��<\\x10A2�\\x13Yk}6�\\x1bTV\\x7f���Yc��(]����bCx\\x1e<\\x0e�!����@�c\\x1dKl\\x168�u&�\\x14��Z�Ҕ\\x10��W�J�<\\x05$瞇�{���Jz\\x15Z5�#4{\"��1J��\\x16\\u07fb\\x02\\n�\\'#�Ծ�����4�to���c�V3���\\x1c\\x0c���P�B��]�\\x1eN�cSҬ�V�fMR�Ҭ�\"H\\x03W��M��\\x19VP����H?\\x1d8·ǽNܬ��m�\\x15{Ir�rT�\\u05ed3z�\\x19VGI\\x0e\\x08,ň\\x18\\x1c/�FN\\x02��\\x1da\\x14�\\x13ڑ=I�\\x08����\\x02���<��#!�9\\x07�t�PQf��H4ɣ���^�I$WA�Q(��\\x00ɸ��\\x14�=i���(M\\x07�n4�!��Ů�$��ݴ�\\x18� �\\x04�\\x07\\x07��p�\\x08\\x11{1���A�<������m�\\x1c�\\x1ce}�\\x18\\x11��)ݷ8��:;W��Ԑ�{\\x13ܠᒹ}�I��r�xf߅\\x03�\\x18㞗j�QR�S�dZ\\x12��j\\x00�\\nm���RF�r\\t�\\x08ݹN\\x01\\x07��wv>�mO�L�iH�L��2\\x00��\\x06���$\\x12r�\\x1b�@o\\x16\\x06�\\x04��D��nԫ<PR\\x13�>��\\x15W\\x19_{���� �y�\\x1d0�v�\\x18��^�EZe\\x066����\\x03��C� �����d�ٷ�_��aM��K�\\x0c\\t�+����2w�b��\\x00�$\\x1c\\x1e����W���\\u0558�h�\\x02¨\\x04�ہ��\\x1d�NH�Ϟ��\\x01\\x1cde�5.+�\\x17���ޒ5��v��\\x07z��s�\\'\\x18?p1��GW�i�*\\x17�\\tN\\x1c0F$��r3�?a�=N��/�RMYkIRi\\x18G7�w89\\x19\\x08N��s��99��n�K��\\x0e��[�e�(%\\x04��_hl�\\x0eq��\\x04�矘�\\x02\\r�\\x0c�ǍͿ�k�V\\x03R�;����-�\\x1c\\x03��Q�|||��n��c����ޮ�\\x0b�N\\x11�N\\n\\x06p\\x06A�?��L���\\x1a�e��R�WYQ\\n�\\x169G\\x7f%�\\x059?�\\x03�w㩪C<&Ė}EC+9IV\\x06PH!<\\x0eN\\x0eG��V�Ea\\\\���\\x13�k:o�Y#��\\'H\\x7f����\"�e���dr>q��G\\x1awtڑ�X�F\\x1fV8��c2�\\x04\\x00�Wv\\x08�(\\x1c�\\x1c�7�[�\\x16�_O�mع0KU�R�&�cʍ�p`P�c<�y\"\\r\"��7GwLy!hИ��\\x16>\\x08,���g���\\x0c�u��\\x00��A;h�L�jI�\\x18��j�Y$E�$r{�Q�q��n~<s�6�&���Y�/.�[Ձ=\\x08\\x11��Ǒ���\\x0cjd\\x00�A�\\x18\\x07 t��k�N�j��C\\x1e��Ga%4�\\x00�r0X��9�PF\\x08?�r�n�4mj�����\\x12�]>�C�5ʈC�(���\\x07\\x11���>�q\\x05V��j��M\\'J�U�MOU\\x14/S�\\x04qV��o��ʦBވ�9\\x06C�o\\x19P\\x01��\\x05�JV�Z͉WO�\"1��\\x04F3#<%\\x0b `W��dd��G\\x1d\\x03�j�*���\\ta�%�j\\t͘C�֑S�^��s\\x1c�\\x18\\x03;\\x7fW\\x1d\\x03ܝ�O�*��&5��t�����Ȋ�$�\\x19;@m�#�-��1�_m�����N\\x1b�e�\\x1d#L�F���k.�\\x0cU����G�X}�X�\\x08`pY\\x01�\\'\\x03\\x07\\x00��B����b�\\x1c\\x1e�pMZkp*���4�\\x1c�$b\\x11\\ncv�\\x19\\x0cH�=cD\\x1fQ�\\x18�\\x14I\\x1aOBJ��I�\\x01V����\\x1b�I#ǎ���AMmY�=�yg8tn\\x11Q[�I�rx9�\\x1f�9<�� 6\\x14����fJ\\x17\\x19[Ԛ�M/W��m=7\\x08��i`eX����\\x078��d��9�l�������Y�WJd�%�\\x0e�̯\\x1f����\\x1e�8�\\x06<g�4-b���o[Hni��\\x14�q42?;dB9\\x1b�Cm�\\x03\\x00\\x03�\\x1a\\x05���K�QKs�V�\\r:����j�x8.ͳ \\x0c�\\x08�1֥�_��%[�W��ꚶ�GN��SB+r�a\"\\x00me\\nͰ�\\x003~�\\x11������g�[H���V��s=�\\x00A�H�\\x18+.�l\\x02\\x03\\x1e<\\x15_#={���\\t~\\x1e��4���i���4�eX�\\r\\x16#ۍ�0[��0\\x1c�u˭jz滣��u\\x1d\\x12�ӳ�(����R0�{�8�F\\x06\\x07R\\x00�1�\\x03�\\x00w\\x1a�;)Rz�ꖑ���^+(�(�\\x0e�\\x00�\\x02\\x15I�88\\x1c\\x1e�t�\\x15uY���Ve�U��)eJ/�,\\x1bq\\x1cʍ��7\\x079l�\\r��;�j��X��P\\x0e�QVt-���ќ2�\\t9\\x07#\\x1c\\x1c�Ϭw,����\\x11�U��#D�&)�ìE0\\x00����\\'�\\x1d\\x1c|�O��\\x7f�\\x05�Q�Z�z�Hf��T���#�\\x17�#�\\x03�J\\x079,��}�\\x1c��$Z�sܺd4�[\\x0f\\x14�:_�\\x04^#!Y�Ӊ9l\\x03���\\x07b����+I\\x04f�*��X��Ƞ\\x04\\x04.1��d\\x11ǐs�T���\\x1aާOD�\\x07��F�\\x12��\\x15?P!�\\x00��\\x0b�O?\\'�ճ���*��\\x00��\\x16\\x00�&*K�ݯ�h�αj��tV\\x03\\x11(\\x10���\\n�\\\\!ϒ[\\x1c�\\x01\\'�Y�_�M�X\\x10�\\x0b^}�՚(�Y��UNI \\x0f9�\\x1f�8/��5����rKA}\\x1d*��\\x19�7\\x16,;�\\x19<\\x17�\\x0c\\x01�\\x0e2\\t�Gs�=��m[ъ�\\x14�ou�U�V.�Y\\x02��c)�����t00:\\x1a��E\\x7f���ɏ�P�ۧO���pѱ\\x0c�E\\\\}9�E�\\t���d��\\x04� �\\x18�N�\\x0f�\\x0e��},��Y�S}bm\\x1e�b\\x173)�\\x006=��F\\x0ezY��a�ԓ�M��8~�P��K!\\x12(f\\x1bI�\\x1c�T\\x13�����\\nmGV���\\x10�Uf�\\x11\\x14s� /\\x12�\\x05>rU�9�(>�l�\\x0b����lլͥj:\\\\��g� ��\\x11J�&K\\x05-�\\x0b�r��\\x001����Q�v\\rBj�I\\x01GJ�F\\x00�VVl�9\\x04\\x01�{�\\x1ex�C�;�6��O`ꕖ*� �e�)b�{(�r�Kc\\x1c�?�=\\x15\\x0ftI�w%-7I�^\\x0bJY\\x08��v�\\x05d�2@br��*\\x08��Ÿ��)=\\x08GszZ.�e�nH)ڳ\\x16�2RP\\n��˖C�n9\\x07�\\x19�\\x1ae�u},��U4��槧\\x02�\\x1e�р��$�\\x11����t>��:%�\\x06�}sNj�e^�������s&c�rr��q��ώ�{���\\x0e��OҞmCM�:�\\x14\\x16��L�\\x0e����\\x08�\\x03�H����(q��.\\x05/�ִ��J���k�e.A%�I\\x04��\\x12�I\\x04�}�\\'vB�wc����k\\x145z:�Ԏ���gNz&2��\\x0e�N�*��,Up0\\t\\x1d-�,pCs�;�՚Z���\\x19]�+g�\\x04X� ~�����c�L-j�;�G:~�n{-j��H�HL>����`}��\\x1fi,X.N\\x01\\x1dy�9�G����x��q]�n{F�xi\\x07M]\\x12���-��,$\\x01Lnv�,U\\u05cc��\\x1b\\x1c��ާ��rT�+Z�Ԑ3��g\\x13�*\\x17dm��7����NN8\\x1a\"ҥҨ���-CO�N��Z@\\x05���0B�f\\x12�V\\x07\\x18�9�L����$�R���\\x08��U�0M+\\x1c䒘e\\x1e�p\\x06pH t�F�����H����\\x15�$h1v�{W-$q��hJ�\\u058c�\\x1e��)%x\\x00�\\n\\x00>:��=�\\x1d,k�i�V>��qϧ�E�˫1�W\\x1b��>�;A��\\x01�ڬ���in��OZJ��U�\\x1e�Ȭv�\\x12@9Y\\x019;����l]�^�\\x16*ܩr���X糖�]�8�\\x01�2Üs���\\n��\\x0b\\x00W�\\x18\\x0e~:���ɬ��R��mJD\\r\\x13ƹ�\\x04y%�I��@�;[\\x07;�\\x00��4[\\x16��,5��\\x18%�$�Ù\\x11q�\\x16�p<\\x00\\x0f��=s�gZ��gS��ԪƷ�ǖ8떚9��\\x18\\x05elp\\x18\\x1c\\x1f�s��\\x04���t�/��\"G\"I,Qz{��f֍�8V$o��OW8�T\\x0f�R�x�{C\\\\\\x12-�W�I\\x16\\x03\\'�\\x1c�hkF��hn6�\\\\�����\\x03�]��iz\\x04vdU�?V[\\x18�#\\x00B�0\\x07�o<\\x0e23�Fw\\x05z���\"�\\x03Թ\\x0b\\x17iL��`�ea��\\x00�� %I�#��Z9%�\\x1b�j�YӬ�)eYdOL�L\\x10��\\x18\\x00\\x0eI?\\'9�JT�U_iژX�\\x1d�]\\x1a�*2ږ\\x19Uc�\\x11�\\x08��%r|`�>�\\x00���\\r\\x0e�� �sV��G\\x1c�D���I� �\\u07bcm9#�IېF:\\n�t�5�\\x1e�ad&�,��<Ur�\\x05�H\\' 6\\x06I\\x19\\x00\\x13�#����=�\\x1a%iu]R�\\x17��\\x06�`�\\x12�}%*�[n�l\\x04g\\x19�E�\\x05*;�\\\\��\\x0b\\x06�R�ҭK\\x05\\x14�4im�ՈJ�V=�s�$(8�\\x1cx��j�#ϧ[�)���b�:�**J}�̿�K\\x0ey��q�W�j�}\\n�{z�pкƯ%䊭5\\t��\\x07\\x0f�矒\\x0fC�z\\x16�j\\\\���:SH��Lr���B�\\'\\nB�\\x00�C\\x03�I�1�\\x14ٯ��ŏBm�\\x07P}ik�ԫөb%�I\\x1d�w���C��\\x0e<3y�\\x19\\x00t���k4V��9����n�\\x02�%ݰ�\\x19b\\x0e|\\x10NN\\t\\x1ezu��]mZ\\x0b6{�]FMG���%v�\\x03���xPa���g�\\x7f\\x1d\\x13s���*D\\u0557Le��Ȣ2��\\x07���HP\\x06y��@㞩@�VܩL�fUP�%��\\x1dreW��O*�yg�J��\\x056��\\t\\x07���\\x1c��u~��;��fI�H\"��ca��̒,��>\\x17o#��-\\x06��McZ,�V�e�9�=�NT�,�v���<��T�R\\nSܰ�\\x0e��P�Lc��F�\\x06?I\\x04�\\x0e\\x0eG�sӫp�ؕ��[\\x17�Nsz\\x11\\x17rj�}Z�G}�F\\x08*=�r[98�����B��ܨ%�\\x0c�k�;�(\\x07���x9�����\\x1d\\x01�O\\x04�\\x0c�;Z�m� �\\x061�#�\\'�\\x19��O4�Z}\\x1a�K�,�ܦ�����\\x1c���\\x1b\\x05\\x04\\x17<0>=�O�V�ê���#���_�+�t�T�\\x10��\\x00�5��xaBO\\x04p��F\\x0f��\\x1e��:4�YA5�\\x03�e�=,NU�r�8��@ ����I\\x06�\\x1fv�}U,�J\\x03TWXb\\n�]��\\x02|�d�NI���Fݡ\\r��W�,\\x11T��_@\\x02\\x0b\\x07ܠ1\\x1cl\\x04nǓ��z�\\x00\\x06��|��\\x1b�f\\x17�\\rV���,0K6&��D\"��#r\\x10��@�!�?}O�\\x14\\x1bP�nU�ױ\\x1a�2�\\x0e\\x18 �r\\x08�\\x1ex�\\'��m�Ի_S\\x0f��]��/\\x1a±���e�\\\\s�0\\x00`�\\x0e\\x01�S:T4�=Z�_�,J�a,ޘq��b�$����ߝ��.��f<�M�6�f��4v�ILMJ:��̃xwb@-�{q�\\x1fߤw�\\x1b��\\x05Y�\\x046=I�HC{_b��7\\x1c`+�1�z��c�^!c�\\x19�R\\x17�\\x002\\x158\\x0f��,[<g�\\x17�\\x1f�\\rN��ۓКW�oW��\\nE����A�^\\x00S����\\\\�\\x0b]�p\\x00Dͧi�6�O�*kVl�\\x06\\r�0X�,��]�\\x0c|��s��zm�Z[�\\x00�!�RhkFb��VI\\x00M��\\x08,�\\x04�B�\\x00�U\\x0b3is��e���b=�]�H\\x92�1�#;FA��y�O4}:Ʃ���-�M ��� ݖ-��\\x7fR���d\\x0f$\\x0f��\\x1d\\x1b?�b�0\\rb-.9��i*�\\x11�k\\x0b�]��v�e�A\\x01J�\\x1cs�\\t���-]�in�:]�cѮ��,�ǵF�\\x10\\x02���\\x03\\x1fp%�V�]��-��K\\x19P�Wdq�>�\\x7f�����s����ܰu]-4W}N\\x0b\\x15��\\x05T�� ;����8\\x00\\x1cg�\\x00M����(�R�@J��Q\\x0e�e���H��j}�\\'��F,]r0���\\x01x��\\n���-Z�\\n\\x13��ƥ�Mj��!����h���,[%FI�q�.��&?�����Ke\\x1d�BVX�Oѓ��\\x1c(?\\'�\\x0ex=h�\\r\"�\\n���K:��\\x05�k3�te�3�p�\\x04�q���=\"��\\x1e��+�\\x11�?����oM��\\x1dR�A�i��\\x15��@N��\\x0ed!X��\\x14\\x1f\\x1d|��iUV\\x1a�4굯X�Y��TFF^C㓆\\x03$���N<��^��څȢ��kZ}K��m�CY�\\t\\x03(%\\x1d�\\x06�s�PO\\'�\\x1d��\\x11\\r\\x16&�Y��kb�<��1p}����\\r��\\x1ey�W�\\x03�\\x1e�c���^S&���ܥJ-0�GQ\\'��m�Ip\\x0f��A\\x1f#��O)�Q�X�K�\\x16���14�*ӑ\\x19\\x0b0l�\\x00by�>\\x019�q�}�g�*��oW��b�I\\rRĆ\\x12�fYQ�ٵ�\\x1c��ǎx�?}_�%�5j�/<��B�\\x08�%2@f\\x07\\x1b�\\x1b*���~$�y5\\x03re\\n΅��?N\\'�*����d\\x16�q!N&bG����3��R^?����:X��H�j���ȍJ{�\\x19I,��\\n�\\n6�!�\\x1f�{\\x19.i���D��۴��Y\\x06\\x05,��Tϵ��J���\\x7f\\x1dJj]�v�w��;~h���j�d���\\x00�T�\\x19=��0I-����\\x10�M\\\\a���:�p��%d�.�\\x1a;1*�\\x14�_\\x07�Ur���A�mǓ�\\x0e\\u2fe4��mm\\x1cjz��A�-�,�:=dR�)V>T+\\x12J�˻$�OF��5�ݱe�,ǧXi�PYĲj\\x0c�mq�3\\x00�\\x18�\\x11�8�[�^�\\u05fbwJ�M���c�N�bԬ�1$\\x15��\\x1b\\x19�*�\\x0e|�\\x1c\\x1e���_��\\x14!�k:���X�F�^(%DG�A�`�o�f���@m�\\x04��碴�{�d��A��-��K2f(�\\x10��\\x04�\\x01��b�\\x0eI_=%�[��n�j�OaëڒP��16U\\\\\\x01�\\x07p�\\x19�s�C\\'�[wo�RI�L�\"(\\x02M�1�T�\\x17�A88��8�\\x19P\\x1a������_F�=C_����(ѡj�,�4bʖer�rr���\\x00�<\\x1f�F����i�ji/XDX�*6[h �k�\\x03�%[�r�\\uf79aw\\'��H�e�֗�5=mI\\x11X���X��9�\\x1cc<\\x10q�M����$�~�R�B�9��\\x14�9@$��G�\\x7fc�Ǟ��\\x1d�k��F&2bοo�E#�ִjKbG�Q���El�G\\x03\\x11�T��\\n�破>�ҵ��n��\\rJY͈lCq�F��}�(�)]��/�w�\\x1c�u[�Q�j�\\x11�ڪ\\x1e\\x1fu��vO\\nc\\x00����8�\\x0b�<�\\x11J=?P��֣�X��S؍d1�<aXz�\\x13p!��\\x00\\x0f���`\\x14\\x1f\\x1d\\x0f�\\x05\\x19#[�a�{n�-��Q�9����\\x14P��UK���\\x0e�1��\\x13�\\'��E�;F;���%�Eb�\\x130\\x11�U�o 噉�#�\\x1c\\x0f\\x1ce>�R�1Pk�f{�����U���0�\\x0e\\x14�A�qϜ\\x1e�j�����\\x15ht��Y�\\x1a:����H=�!py<�n~����)�cZ��n�GV6����Sҳ\\x1eV����}�\\x06ُ�8<�=}���R.玅�j6�z\\x156\\x1e\\r������\\x08RA\\'�O����\\x0e�լ���oRo�\\x02H�pe�\\x14\\'o�\\x0c��T� �y?<uO�T�/j�=��R�!_Z�>Ua�v\\n�e�y-��q�\\x15��&�B1�1\\x12wrh/xj:��u+>�\\x055D�d\\x07\\x05\\x18��D�|��>F�;�V��Է\\x1eߪvhlײb`�\\x1bv��\\x0e\\x0b/�\\x03�I�C���ۖu\\x1a\\tB{u�\\x12�P�Q\\x14�\\x10)S A����>z\\'R�;S^��6�mjǡ\\x01\\x02�2zQ�\\n�t̠\\x7f�\\x03���\\x00FGO�\\rF\\x18��-^��4\\x0frZW��\\n�,�K\\ng*��\\x0e\\x18�\\x08�\\x03��eR�Ht\\x1d3S��I$\\x08�_�w8}�fT\\n0Q�\\x1c\\x0e\\x0f\\x00�qѺ�\\x1d\\x16=2�m!�\\x13L�\\x1f���#@ܖ.�8\\x04�1�8�=ǧ����m;E���+f\\x08���X�a��\\x07����y���\\x1c\\x07Bw�I�$\\'����\\x10����.�\\x0bK~x����EQ���k\\x12x\\x07��}�Nnjچ��v[T�\\x14\\x16ᬱΰ�TX�X��?9\\x1c\\x11�:�졡^�j�d�NԱ8�(��\\x1bq�5b8�\\x0cg\\x04~�=+�m\\x02��\\\\̔�A\\'��\\x101�\\x08�E�gh�\\x1c\\x03�<ዩ`�B9è\\rJ\\x14��\\x136��)X��{��,_�RC.\\x18�$\\x11��r|�=6��U�h�j�R��,n� f�K�����F\\x1b�\\x19\\x1bO߭\\x1fÿ����zі��\\x0e�)�U\\x1a\\x17�A/��\\x00\\x1d�\\x19 �\\x03�]~�+kj�bџE�3\\x03�ԁ�$�9�^>\\x7f�J�Q���ˈ\\x0e�.�g�%z�jMV�W�\\x13%gt�D]�\"�Q�݁�g���Sèj�v�6\\x18i�fP�q�Q�W,T��\\x07\\x04\\x00X\\x10O\\x18�\\x1eًO��}e)cCe����2�B\\x03.rA\\x00�w�g\\x1cu���mkM��Z�\\t�X�b-,2d\\x15e<1<��\\x04�zF�\\x7f\\x00?�ohw\\x11�ZއV\\t��#�SPH�+>�g��\\x12A!�w�\\x00�\\x0f��\\x02CKL\\x15�Sj�\\x1eK!��d�@��T��\\x02����p\\x07�&�Nţg��!֮鷦�#�\\x0e����\\x1c>H;@l`��\\x1f\\x03�t��ӫ���\\x0e�4i\\x08t���4�%��c+2�x8�\\x0e:fde��{ev\"�^u�-\\x11[O��ͨM,\\x0bY�\\x0b�e\\x15���r���\\x0e�,��6ݯ\\x07eW��ZaoM�l�[ӡ���\\x1af��\\x11R\\t�6W\\r�x�\\t\\x01}�\\x13�%���d$��ƲF����}T.Nヂ\\x06\\x0e\\x0eq��짽�k:��{){�\\'��l�2�\\x19C1M�he\\x0b�\\x91�3�ǌ\\x05�����\\x12���u.���\\'t�\"�\\x16+C\\x1c�a��FG\\x11�4����\\x00\\x10\\x0eO��{�����f-V-R�=�\\x15�Z�/�\\x1bk��\\x00�b��\\'��Z�\\x7f��nΧ����u9%ԅ�j;*��\\x12R同�\\x18ڥ@#��<���\\x1a\\x1a<��R�q�\\rjjn\\x06�)\\x138�#\\x00�*G�\\x0c�\\x04�\\x07�z{\\\\l8��L`H���\\x00��|�+\\x18-Z��$6\"xfP�DR�\\x16��\"�� \\x14?<\\rs��ii��OI�-������y\\x10�W\\x1c\\rČ��9��\\x08�w\\x16���\\x10�Su`{�T�$ef\\x000ʀ<�`�\\x1eq�\\x08=r��Ƨ�����\\x1e���<wv�a��Xd\\x03zJp�\\x1d�@�\\x1f\\x7f\\x1d\\x04!�Z3�\\x10\\x07P�\\x1bT[��5+���k$\\x06H`H��\\x14JAL\\x1c��ӌ7����|=�\\x0c��k���\\x1a|�\\x1d�W\\x10����\\x1b��\\x08\\x00�\\x0cg\\x04��\\x0fR����]�z�rQ�\\n[�M��F�M���T\\x121��\\x01\\x1dt���&���ɬ��_��eۄf����\\x1c�$�\\x04`�8\\x1d>N(�q���*�\"]ӵ�:\\x16���z���R�D�0�\\x19*�+\"0R�\\x139cǷ�6�Y�+��X%���,C=tg7\\x11��K#\\x03���\\x0c\\x06N\\x0e3��^\\u05eb_Y�R;7X�0$o\\x1a�h�T����,J��?8#\\x1dl��:wej��:l�-[ӿ�E_��b\\\\1c\"�� W\\\\0\\'�߀\\x0c�\\x13������Ӥ؇���lEn��Z(�P��)\\x0c�p� l\\x05\\x1b��PI��㔴d�Yjj���W�\\x14�\\x0fA\\x14�m��U�p�Ns�~��\\x03����ˬh��L�\\x05�K\\x1c5h?ԴE&B�K#.�${\\x15J�;�\\x00��M���u��i�\\\\f*�=V�@u�x�AB\\x0ec\\x18�$n�28㫈\"��i��D�\\x14\\'^��P�WV3X�\\x0b\\x120Bb\\nX�\\x10O>��`p\\x7f r�\\x00I�\"�fh[Kv���9vU-�ԅQ�;\\x06\\x07\\x00d\\x0e��_��~���hmF;\\x16c\\x1b�\\x02�w�\\x04G���<�����-cYի�m\\x1e�\\x15k3ؕ�Y\\ngQ\\x1f��\\x17\\x07t��\\x07\\x07��\\x04��q����6D&�gN[u;�]N��\\t\\x04BuX䑦\\x00<n@�\\x14��\\x03�\\x0f\\'��Z�\\n���`4Y��b�4`Gd����g��1�c��9\\x1dr���,���]��\\u05f8L �[�6�n�\\x0e�O��R|�\\x1f�I�j:n�G�����\\x19d�N\\x15i\\n�鬢e\\n�\\x0ccr7%A�\\x00�OC(��sBR��ܚ��>��\\x1do3N�q�\\x11)m��O,\\x01<�\\'�9�V�\\\\\\x7f\\x12�i�tkIB\\x15�$r\\\\5���T� c�\\x15�`��� q�4�\\x15���@��\\x1cj��\\x0b{�R$�2H\\x07o��\\x0eH=\\x05\\x0cv4�Pi���7���Pg�%�\\r��T\\x04\\x04�0ݐ<`.<`uW��O�W5Q\\x07u�i�躮���Q��D��bW�G\\x04\\x0fz�l�r\\x00�\\x19��?��ZSDG6�V��U�G_{@�{_w��7\\x01�\\x18�\\x1e�}��E�AQ��ز$�-�\\x05�b��nq�\\x19\\'*\\x08$�ǎ��Ν�w\\x1cUnjRK\\x1c�\\'���\\x1di\\x11\\x1fq�В\\x03� .\\x0ex\\x0cO�T\\'�* \\\\c�U����\\x1a�:֡%��\\x1al�M�\\x12�`�o��\\t\\'\\x7f$�e�I�v�n����v�{7DU����\\x19��\"}���\\x05Rs��\\x10@�:o��wlCۖ$Z?C���饰��,G#\\x07v#,\\x0b\\x1d���\\x17\\x01q��\\x1d�\\x14/\\rX4�Z��X\\t;�&�a\\x17�\\x14y>�\\x0b��?=D\\x11����qY����[\\\\�N��u��\\x14���Ag�t/\\x1a�\\x14\\x0b���0�N|�?\\x14m�V�+\\x13+�\\x0c\\x16�E[l�6�\\x08x\\x03h$\\x15�\\x00�F�e�RI���\\x19N�M^M�I\\x13����Q��#\\x03��䟷Ck���>��\\x05\\x18f����$����q�\\t9\\x19bJ�y�\\x07=1r�\\x04�j�\\x1a���Vx�S�\\x19c�x\\x0c�+�r�1��\\x00��\\x00q�9�w��f�^�\\x16↜�B^9EUI0��\\x02|nʌ��f#�Z���\\x1e[������ڝ]�,r0U,�H]��y8�������\\x1b�\\r�b��M%Ȅ-R�C6�_Hn\\x18u�\\x03�\\x14�8�u@\\x05\\t˴+x�*=��v��S\\x06��@U�E\\x0c00\\x03`\\x1ey��3����m˫�\\x00-��ǧ-a\\x0cA�Dj�2ʧ���T�������#U�)��/[�k�6k�f\\x1e�\\\\�k\\x05\\n�pp9 �g�\\x1d_��=K���TjՅ�\\x18�G\\x11��\\x16O���r?\\x00���Co�3�qm�tA���@��%�\\x1a �ḻ�\\U000b2e9d�\\x0e��\\x08\\x00�\\x0f�zq\\x7f���5%��Y��\\x04�\"�:�vhᲇ$Ȅ� �;�Nw\\x1f�R?A�[����V�\\x14��=�\\x11�D@�{���y��N|s�V�^T�\\t�\\\\@���c7KI)\\x0b�2\\x12<6\\x0e\\x07�3�\\x1dg�Hڙ�B�_\\x7f^��m\\x19$������Q�)ď:$d�.3�S��y#=1ӵ\\'�j�:�oF��|~��z�m\\x04�c�#��\\x08$��D�\\x16�\\x7fO�?�Qӄ�/6�\\nF%5،�x�nxc��z3M�\\x1fMz���\\x0f^�Q����Ы.F1�;W�\\x04q�ԯ��+@E=��?͞�mQ[T-E*�\\x15��)��B�N\\x088!I\\x07��\\x1dl����*�8�EBӬK\\x07�lz[\\x1c�d�\\x0c\\x1c`\\x10�O�\\x18\\x1ds�k���g�/٥[��}o�Avg�G�3\\x03���`��8\\x03\\x1dXͯj\\x15���G�Z�v���\\x12a!^\\\\��\\x01}�\\x18+�\\x18���P+��f���Y�\\x00���M�%��}�ղ\\x0cp��\\x15v\\'\\x18\\x01�\\x1d��\\x00��q�5-R\\n�<�\\x19���%�*�\\x16�iN�E>\\x039\\'��`\\x13ǅ\\x13\\x1b�n\\x16��IO/$1�<�;3����\\x02\\x01�\\x1b �q�p�}>վ�KWZ�W�&z��X����C(�\\x03\\x0e\\x06x8<q�Ը+j`����\\x15v�Z��ӷH�5q\\'��������\\\\`g�u�B��G�\\x19+�(�|᬴rA���2<�vN\\x0f�㤚�T�~@�&}>:�\\x10�Ey����b|���\\x1b8�\\x1f<RU��:̢\\x14�j\\x06\\x08�Y�*�һ�c�\\x04���|���R��K�چ��^�\\x05�Ө�s�0E]\\x06�UN��\\x11�[���\\x18�֝cH�\"�M�\\x1a���3X��2C��\\x0e\\x10�RI\\x18>\\x0eq�G���ڼ���\"ZɈ�t\\t��\\x00\\x1cFs�\\x00\\x0b�Ϝ���R�\\x7f�{�5*Z\\x16�k�ڪzm�\\x10�$��\\'���\\x07�\\x00w\\x03\\x03�%�T��GqN�J*q%�\\x19`�[�\\x18�A�\\x00f\\x11�y\\x1c\\x11��\\x00�\\x00�E_G�5z֢O��%������@�\\t��\\x04�\\x07\\x07=Kitu]\\x17G2KI^:�\"K#J3�Q�{`���\\x00\\x17�8�Ӭ\\\\�F�ycHkD�\\x13j�H���*}��\\x08�\\x0e\\x18\\x1b\\x06Ph� �{����2�����[\\x15\\x1by��dg\\x1c��<\\x03��\\x19m�Z�W��X�\\u07b8\\x11��n�!�\\x13��d�??=Q\\x7f\\x10;I�w\\x1aܥ\\x1cF�賘�vs\\x03\\x1c��H��۰<\\x1c\\x1f��uY����*\\x12q\\x1c�\"\\x04�\\x0f�\\'\\x1c\\x02W8����\\\\@\\x04vb�\\x1b\\x02u=w�/H�d�~�\\x1d�Z\\x04wI�A\\x0cu�˷\\x05����+�<��\\t5�ߍ5\\x1dJ���<��N\\x13\\x19�\\x0e0��\\x01l��s���\\u07b3\\u07b5�,Y�ؚ$\\x05��@�`���\\x0e\\x7fV\\x00�\\x00\\x1c\\x11��;��N\\rKG�$z{7�Շ\\x03.�\\x0b��r��8��8<u�yq�u\\x18��:\\x1dwL���KR��@z\\x124�Q\\x18\\x07We\\x07�[��6���Fע��j\\x15�$s�F�\\x1f\\x12\\x19�r\\x15��X�J��H�m�\\x155\\n\\x16e�f\\x1d=*\\x12���\\\\\\x08Y�U��lf�d~~zY��M�Z�����`�6fx}A�\\x10��E�H�\\x0b\\x0c�\\x05X�\\x18�iB�`��]*KrW�\\x0cWa�.>�\\n�\\x19\\x1e�$\\x1d�x\\x04\\x10I\\x04}��\\x13�pX\\x16d�J}R�R42j\\x0b<q��\\x18;}��\\x00�~�#���\\x0f��j�]��\\x06\\x16sZOL2c\\x08T������mg���\\x02�j�{pOe\\r[\\x12!�g%��\\x06�N9q��0<�QI�{�΅�hڕ�)G�T���V�\\x1a��t�Y\\x7fP�\\x00�>FH�S��6�b�c�)ٷT�\\x16�bv~F\\x1c;���f`�n\\x08�g\\x19�����N��oR�\\x1aƔ�!��˼�2�Ձ�A\\x1c��7\\x19\\r��O[�U�]4�V!�D���-\\x14d��\\x18�\\x0f��sՕZ��\\x15��t�1�\\x15u\\x1dK����E\\nJ�z��\\\\�\\x0cW�y�\\x0fH��wL��3K�_J0i�Թ\\rS\\u058cHI;����\\'.9\\x19�uA��\\x0b&��Ԏ��!��M�\\x14h���\\x0f��0��\\x18�2\\x7f�AM�i�\\x00��-�)-����T��IUn3��y\\x07��\\x1cG*��R?N�\\x0b��W�M�ͥU����#\\x11��x�E\\x07��A��9�����OԤ�I�V����x�;`f�ܞH�N���\\x07J�i4�C�lת=[\\x12(��$%g���pK\\x06�[�=�}���ظ�\\x15�\\x14\\x02IWlЉG�P9�\\x01ʁ�?���#\\x10\\x0e��\\'\\x17��v-2}^\\r>�UjЙ\\x16:��8a26\\x19�!��D�X�q\\x18�=\\'��@\\x0c�kׯ$\\x7fU5yVK%�l`\\\\\\x059#*�A#9\\x19�ү��r.��R�ݫ6`�4�V�x`��wRv�nl\\x00rr|c��7Bӭ���\\t�}Z��gEؑ�嘲���rǑ��Y��s�S�Wrj\\x0b2\\\\J�\\'{\\x15m5v��:\\x14�I\\x9c\\x1289\\x1f�c\\'\\x039�^���\\x1a��[Qd�RE�*��\\x1dr\\t\\x19\\x0c\\x0e�\\x0e=����c$��)j:\\x04�d�iM��b\\t�J�\\x19� \\x05\\x00g�~��N�~�;\\x154��{\\x1e��\\x00�)�\\x1eAfP}E\\x19P3�\\x06�\\'=L�?��&Le/s�tO%�CO��ʲ#3�8�nW\\'��yS�ê��}2�o�l�B����G�IiA\\t������e5�bzP�v��~͓\\x04�^5��\\x1b��$(QǏ$�:_�Z%�>I4�ڵ�?�\\x04�bHZ\\x1d�\\x17�PsǓ�ώ\\x0e:я\\x10c��V3��3i�Ŭi�)�ƭ=A^��Gc-��U��$g�\\'�\\x1fg����^�@��\\rءG\\x08��W\\'v\\tvvRK�\\x02��\\x16���\\x7f�vtJݧ+��hԾ��ʂh�L2�\\x7fD�0�\\x00\\x05���\\x1c�z��/�=��%Y^��u\\x10Q%3����1*��He#\\x18��E�eD���\\x1fl��N������N���i\\x15�\\x11F\\x12I+ e�VR��\\x0b���\\x1b������ �lڂ�ũ.\\x1eY\\x14#IY�^\\x110J���\\x0f\\x1b��\\x07B�sUѵ\\x19\\x0foMcU���A��\\x00\\x11\\x01\\x0c�Xm\\nx�_��\\'9�.�������lk�����T�%)d\\x0b#*ɴ�\\x1e�\\x08_�\\x08<��\\x0e�Оo[� \\u05ff�i2֎�,2ȍf9\\x14?�#�=D\\x07��r\\x068�|��I�ؿ��o2J�:\\x0b&��ĭ\\x10Õ;�\\x15�p\\x18�N�x���Gdic�tk}�\\x1c��\\x0f\\x1c�ex���%�b郳\\x05H�|s���������o�\\x1a�ojtf�(^\\\\HbR�P0����\\x03�q�s�0@-~�\\x13fI�Ӡ�zZ��n��\\x17Ȗ�4h+�OQA\\x05@,_\\'$xϐFz�z�\\x00pS��C%V�\\x04r8h�Ʃ��Ԙ�$���2~z�\\x16f�=Lw\\x1a�qW�XmBII{&&�\\x04Cݵ\\x0eT��#��\\x04\\x0c�����\\r\\x18��0]ԯ���\\x19\\x11:�\\t�+0\\x05w�n*6y�I�:,om\\x0fS�n�$f��jx\\x12�YD\\x10Dֽ�\\x16@W�U\\x01�\\x10N�eǓ�\\x1c��\\x00Vxu�55�d��宖��R��\\x02�\\x10�\\x07;�\\x12sǌ\\x10:�һR�����Z��+<��1\\x10G߰�d\\x03�\\x15Yrr\\t`s��o��Tu�9�u�\\x06�^\\x05T��\\x1f�K?��fl��A$��p\\x0fKA��+DQ����\\x7f��B�\\x1aF��hW-\\x1dj��G�\\x141�%?��*W�!�~\\x05�i;b�:���ږ�=���VA/m�h�\"�HC�\\x0eG��z���j)�u*���idvX�\\x10n>ؓ#�U\\x00\\x1f\\x07�뻋R��}\\x16�j�ԥ�v\"]`Y� \\r��\\x18�\\x1bA#\\x07�\\x00��rbhǪ\\x11%���K�m>�wH��t�I�a\\x15ah�~�#�\\x01,[;H�>:W��-�궴�+v4��T-�q�b\\x1c(\\x00+1�!.�\\x13o���y��\\x7f�\\x06����\\x1b_Hu\\r�+Ғ\\'��U \\x11�\\x01BG��r9�WW�\\x1dS���G�u\\x11�kK\\x00mFIB�X�\\x15\\x1b�O\\r��\\x17$\\x0f�9�\\n��d�қ�l�v�\\x0b#�=z��ZޒF\\x1b����U��\\x07%pq���}\\x06���+\\x042\"�S($\\x1ew�6�`�\\x19ߓ���:��)��!�u\\x1a3,�\\x13\\x1a_\\x7fT0�䝪\\n�\\x05H �1�OMl�v;���AXE^{n�l\\x0f\\r�ޔ������O<\\x1c�=N�{\\x07�\\x1bTe���\\u05ff��,1�$��B(.$r�S����n!F1�~z�ԬiZΏ���\\x00]fʻ���)2\\x04O�\\x19r�\\n���|��]\\x06��\\x1f�;��*�5$\\x118|��0�ɉ�Pޠ8�y�y�\\x19;cY�j�5VZ�-�t�\\x1d\\x0b\\x00�ÒJo��7��\\'��U\\x18щ���u���,��ΟWԵwbI4T�m��Q�,8�㓟�I-çk��N�\\x14TU�f_tA�\\x13�X���\\x100\\x0f��O��\\x1c�M�]�Ь�<r�\\x11�r�1V�\\x19\\x1cd���o�z\\x07U\\x1a\\x06��ԡ�}A��\\\\�C�[+��\\\\��U\\n@�6�8\\x19\\x03�6�\\x0b1%x��;���4�t�\\tYvF�7��\\x00Bg8<��d�PKN.�ԥ�~:��t�Y/J���\\x0eab�IS�����q�u\\x7f\\x0b��,We�^\\x16�\\n�nܲ�w��6d���\\x19>6�\\x00g�4}6\\x1e�ֵ-Am�1��\\x11��M&3���\\r�!A\\x1f�w�\\x06:�<X��F ���S�M�Ȱ\\'�\\x0crAW�#�UK�b�p�0\\x00A�i<�\\x0fO����BZ\\x153f�G�V�$E2\\x06\\x04\\x05�\\x00���\\'<��\\x0f��v�\\x0e��=�>�\\x04ݏQMF���\\x10\\t�+ P\\x13Ǫ��\\x04��y�A�\\x05��>��U�(6n�g\\x15�0�\\x0c��w\\x06\\x04�+aN\\x00�\\'��\\n؊h�&���\\x00+�,ɤY�.�[Wd��k<k�\\x15W$���\\x0e\\x01*F\\x00��^���O�&�V�o����MyҴ����\\x03 f@�\\x1f��\\x19\\x1cg\\x1d|Ѝ*\\x1d��C�����c)\\r;��\\x11IfX���G\\x11�r<�GX����\\x1e;Ԏ�%Y�E5K\\x15�V��\\\\�y\\'8�\\x03��9$\\x02\\x07I��$w}�I\\x1a��T�=:\\x7f��%kz�Y��;7-�T��G\\x181�Ι\\x0c\\x16Es��\\x7fH9�O��4F�w�!�ڄsO\\x1b� ���0�P�;0!Ձ\\x01y$��glv���\\x1e��\\x00�e��`�\\t\\x1d�\\\\�ۜxs�\\x12Ny\\x03>OS��\\x16��k��\\x1b����\\x06��%@���@�.�� \\x00I�\\x13��\\x1ef�s���MKM��\\x1b/�\\x1a-�\"�<\\t\\r\\x1f�\\x0e$��\\x04�++\\'�����\\x1c����D]+Eq��)����0\\x14\\x14���y\\x1e�x�\\x0e3�wuw�\\n]�\\x12��[���j�Z\\x18�7����\\x02�9\\x18ܭ�\\x1d7{\\x1a��O�SQy\\x0f�C��W�\\t�VR��.G��G=\\x12\\x1a�1�Vd�m\\'A��.�6�4�H�8�5Y�\\x10�\\x07���$�� �����j�t�$�P��tt6}[z`��̻B��.�q�\\x0eI?9<���4�;5j٭^��\\rʵ%\\x112��2���\\x0fv[\\x1b\\x18c��+\\x11���\\x00X$�r\\x0eة\\n4nУ\\x1b\\x18}��6�y���Q��\\x0b:����>bk�Šj���iK\\x1d{\\x17�H��\\x13�)6�\\x00��Y��\\x00)b8 x<�S���-��g�<�g�k\\x0fa2�/�\\'x��\\x1d��\\x1eHSֹ�\\x17D���4�4Z��7ә��n!\\\\�w� \\x04��\\x03>�\\x00z�Ӵ�i�j����\\x00\\rn\\x1avG�\\x16Ԓ�\\x05 ���߂F�c�\\t�C��\"L\\x13�h\\x19!�h\\x11�u�=\\x17K�d�\\x14c餹\\x08��T\\x07\\x0c\\x07��v�G9 �t.����}v��+\\x10M#A\"V�)\\\\�����\\x18�؎[#��z6�{i��ڻj�\\x16aӥ0�Z�\\x08v\\'$F�8,AO\\x03��p\\x08�؏S�hk\\x17d�m\\x1a&�)�\\x1az�ճ�O\\x1eK(����S,ܾ]GU\\x08$Νj���S��^�wb�Y\\x19��\\x19�3�8���`�Ny\\x07�=����mk:��u�E+g��`4*\\x17�(�p\\x08\\x0b�<`�\\x12OO��L�4���!�\\x15���K\\x12B�\\x1bG(\\x1c�pw\\x1eY��8\\x1d\\t{��ߚ����k�E������\\x18���\\x00F��>\\x07��9\\x0btj�TCV��i���\\x1f������@�<�c\\x00��2�pI�#��:.�s�:d�~�\\x01:���iָGH� Ȼ[\\x00\\U000a77f0\\x07������Aj�P�ٴ���F%�;��2���\\x1e��I\\x18�\\x19�=\\x13�Y�@g\\x13�k�y��a*\\x06!���q�PN1�<tmI�\\x04oPm\\x7fA��6��\\x15�CjZ�+\\x1a��\\x0f\\x18D�u�\\t�{q���֟�w\\x1e�\\x16J��X=��h��>�n0\\x18�\\x15�\\x1b8��\\x04d�,jk\\x17�T��V��ڞ\\x19\\r)\\x01���+\\x15\\x19b\\x01\\x1e���OK*w\\x06����t��b�s\\x1a��O���\\x1d��\\x00m\\u074c�0��ܨx�}����i4z&�f�(,D\\x04��i�Mѳ1\\x1b\\x15��r\\x08b\\u070fq\\x07�Xv�dv�oR:�ph��[\\x08�ؽh���\\x1b1�\\\\�5$n�9^\\t �֭rk55��תǧ�=hR����v�\\x1dN@�z�\\x08\\x07���=l�+���E�\\x00\\x13C��\\x010�\\x13�\\x0c��\\x12̸\\x07ya�|(�ǒ���u��Ls{\\\\�lh�i��wV�\\\\\\x0fV\\x18Q,:�>X\\rޘ�\\x03���t5M3��]�KSH���+�<s\\x1fj�\\x00� \\x0f�s�q���\\x19�q��\\x7f�W�Yh_�-tH�F��.Hl�q���g9�\\x18�@��7��(WT�\\x10��\\ue1cd\\x1a �b�=�w66c�x�`�����{���C{[�ޜ[Q\\x12\\x1aqS�6�_�\\x1c�J�<����G�z���\\x11z�j�\\x12�)��\\x10��\\x06F\\x11\\\\8\\x1fl\\x03�\\x13�Z\\x7fW[Q\\x0b��Hu\\rA�y�\\x18���L��\\x1f��\\n�\\x07�s�����v��Y�� ��$1J�$�l1�\\x12J+{\\x01�\\x00����\\x11�\\x08�#�gP�SL�\\x08��$֢6�*�\\x03�:�\\x15\\x1f>O#\\x1c�rz��\\x1bzu�\"E�\\x08g�2�#�N⠎\\x17p�\\x18����\\x01��W��>�GuӒX�ylٜJ��\\r�\\x1ag�\\x089nK\\x13�\\x0ez:������~�I\\x12�sfk�M�HR@U3���\\x00�c�<�\\x0e*;�\\x02H\\x1dN{?cݯ�i��Q�i\\x16�!mVs*�2x|\\x02��0\\t\\x18�\\x10z��*�[zN�Nq\\x1e�k��\\x0br}F�\\x0cT\\x1d�0\\x13�8�\\x06@�\\x1d2�����]4��ц\\x1d��\\x17`�ߪH��y8�\\x1d\\x03[��Z.�fҪC\\x1e�\\x17���l�!\\x7fq9��,�\\x00\\x07\\x18\\x19\\x1dhfg\\x1cL��-њ��k]ը���H�镄x���f���ǁ�\\x12�$������Z7��\\r�\\x06h��,h�\\x15�y\\x1c�\\x18.\\x1c��<\\x0f�\\x00�V��=\\x1f�kG�qZ��?��\\x15�k\\x13X�\\x1b����\\tbF\\x17\\x1f�\\x1ec>�f�6�ed]=�(%�2�<_�]|\\x1c�I�2O��5k\\x1cz\\x12J�\\x1a����iЮ�SV3X�p�,^� ,[9_� ~I\\x0b��W�\\x1b���.��jz�m��_��L<8\\x01A 7�\\x13�\\x038\\x18=\\x07o��ڡ�\\x05c\\x08?Q�L�nFA\\x0b\\'�\\x17n\\x03r��~�5��ޗF-[F��R�\\x1f�\\x03�\\x05u*F��� e�>=���%��4�\\n�*X���Z���j�Tj�!L��X�\\x01���X�\\x1dF�\\x1aF�7r}V�-����H�M\\x1c�6�<.�\\x1dT��ퟷI�����i`�\\x14p����\\x17\\x0b2\\x1d�X\\x06%��\\x00|��O;c�5�N�v�������K�D�%�7�x���c��b�q�\\x10�\\x1d�y��^b�\\x12\\x11wв���$eX\\r��v\\x0f���߯�Sv֛,�\\x1coor�\\r�$\\x08�#{�\\x05Ǽ�\\'��\\x03��Z�k���\\'�$�;0/�\\x1a\\x10\\x11%m���@�\\x0621�8\\x1c���]�\\x05�\\x1c���r<�Um�#f0��X���8��7x�8�@m�k�>���\\x15�3I\\x14�\\x1dQ�\\x18�$��2d���X�y�:���6.�\\x12�\\x00#�j�W\\x08�\\x08YB\\x04La��F��;I�?��4$ӣ�\\x1e�\\x04pB�\\'HЩ\\x05\\x1f�K��+�\\x7fϞ��\\u0c65�4��I�YG�\"�=D �\\x1e3�� y�@\\x19�\\x17�\\x04\\t�[�N����ҡ�+u�I\\x13�� x�7���??\\x1eG�Y���C�r���1,#\\x10UDr��{@�����\\nI��㦚7k؇��F�\\x16��ܞ�/\\x19�ƭ�\\x00�Q0v���\\x07\\x1c|�?z��zY��t�3D\\x13Ԋ��D3\\x02\\x0e@\\x05}����\\x00\\x07�JmDf&/ҵ�n��FС�i1��j#\\x08���\\x12O��\\x01\\x1fa����}cPD�FƸ��V�\\rE�\\x0b\\x102\\x0c0P1���c\\x00�)�p��h���F���c��g�%h�+\"���=�(���\\x0ezס��\\x1a����(�\\n#\\x12cԌ�������C�\\x1c�?p:\\\\�I��.�P\\x1e�m;J�\\x1fN�\\x1b�. wY�>�\\x0e\\x12Ul����}��\\x1dT�6&�a�<qK\\'��%�\\x02\\x15\\x0e�\\x00�0Ǐ�0x�=\\t�ip�{!�������۟\\x00r���8��=��.��hj�⒍�L�G�̑ɂA\\'������H8�\\x19Շ3\\x1c\\x03�C�w\\x00�Z�U���A]��?XJ�3\\x0c��`�����<�3{��~�IiՎ:���5�HcEܤ��U�@\\x18\\x1c�í��f��{�iu��� xg��$�\\x16���܇;x�>\\x07<���֩�vũt�+��[Pdv5�\\ue22e�l\\r�%�\\'\\x1fo=65\\x1blgp\\x11R���f�-ZZ��Xiu#5��lE$�\\x15��� �@�$t<=�\\x0c��t��jۙD�Zv�2�oT��_8<c8=\\x15\\x15mg��d�K:rL��\";\\x1f�0��+���\\x04`�?�=Sv\\x15x(j��]�!��8\\x12�ݚ�*r�6P\\x1cD\\x17\\x1c\\x13���=7\"\\x0f{��g2��)V�Rӭ]��&\\x10X����v�:?� \\x0e9�\\x15�=(��b�\\x10�\\x000XR\\x1a��\\x01�3�`g\\x0cO<�~:��ͦT�hْ��<6\\x04(cDY�]0��\\x13������sԞ���e��H�)&1���S\\x12{��_��c���\\x1e:���y0�ʠ\\x00�\\x1d�(�\\u05f5�KH�\\x11�T�\\x1a�2,\\x01R(�\\x0cXn<�x%��\\x069\\x1d\\x19����mX�\\x1d��Ы���6��\\x18�`� \\x12F?<t���\\x16�\\x00iۃ�t�B\\x1a��U���#:�\\x08�I\\x1d�\\x147��\\x0e\\x0e1����4�\\x7fQ�^\\x1b���chd�D�Ă�$��\\x00���o���w �,}GP8���t��.�\\\\��i=(\\x19��H�\\\\�� ����\\x07�}��\\x1d2���j\\x1bt�!�u#���!�\\x07\\x05X��̤6܌���N5MoN��r=��Ĳ<pJ�\\x19\\x0b!\\x069\\x02�U��\\x0c��\\x19�\\x14Z�\\x1b��JrG���\\x04��,���\\x18�\\x0c`\\x0e\\x01\\'?��\\x08w\\x1b\\x11XTƌ״���Q\\x08��<)�фXas��98\\x05���g�1ӻ���ի5]b��<s\\x07���\"���]��<�A98��9e1�h��\\x1a�ic���\\x00�8س+!]�I\\x18\\x18��<u���ik5\\x12m:X�/��d��Ddv\\x1b���$������\\x1c|B�IM3�\\x7f�}:z����),$�Y�@\\x0c��9ϴ��\\x04�`��\\r[L��V�g�+�\\x12�NZ��$J��\\x02L����c�?#�q���+�fm]�Jz�!��\\x00-�\\r�m\\x18�����/�=z���P��C#5���ȑ�\\x01\\x00PϷ.\\x01�ݜn\\x00`x\\x035Y����_t�\\r^ų��٩\\x05�Ak�ޟ�i8va�9\\x07��?\\'\\x1dCj\\x1d���Y�f\\'�/�1�\\x1axK�\\x19m��\\x1c\\x05b\\x00^|m��l.�[��R\\r>�\\x1aK_?E�C\\x1a��$\\x1b�\\x18\\x1b����\\x7f\\x03����\\x05)�^�>�n����\\x0c�cx�S�n\\x1b@b\\x18��\\x06ǹ\\x7f�/\\x15\\x1f/;��\\x08˻���\\x1aD���Z�Ȫ�ڒC\\x16�\\x13v�*�F\\x00b��3���#�;����%jT�3�E\\x1c�\\x1b\\x13�)]�Ð���\\x14���\\x05�F9�_{i\\x0fv������S�l�)C�s�\\x1c0>H�8�L��\\x1f[�e�gG�SJ�\\r����\\x01ی�_p\\x18\\x04�r~<u+n\\x1a����F���C[�u��H([\\u05ebXIE�H�D��5�_\\x1b�x�\\x9e:k�]��\\x1d�aU��lY�k3<�\\x1fN!�z�c,\\x08\\x1c\\x01�`��9�8��彭�gA�Z��7C��R�*:��\\x00�\\x08\\x18/�I��Kw���C�KRҵJ�݂\\u05ebh\\x19\\x19\\x14F\\\\\\x12�̀�|��@�g\\x1dip9P2gsOpi\\x1a�\\x00h�qRMn��>�ޓ�(�d�H�\\x15��\\x0e\\x0epA\\x1f8\\x18��t=S�{oH�5�B�N��)�1rX�������\\x08\\x00�\\x1cu\\r�\\x1d~\\u07b9�w6��m�K\\x13@���(7`������䟹�]\\x02\\u07b5\\x0e��\\r�WN�ۑ�l�r\\n0\\x07ۑ��\\x00�\\U0004e850�\\x02ƾ�qv=\\x1e.�[�X\"�,�\\x00fU��e��$\\x02�*ĐH��9=I�\\x7fo�%mV��<��)�\\x02Ō�\\x03�\\x16!�\\x10�A`\\t��\\x19�J\\x1a���w5\\x13B�_E\\x15\\x1b\\n֧���Z-�8\\x1eL�0GǴ\\x02\\x06OG�\\x12ޓKm3QZQ[hk�9�� 1N�B1�0N3�\\x0f��\\x00\\x1e�W�\\x00�M�6��,�\\x17l��\\n�\\x18��\\x00�f�0�\\x01���\\x04%N_�0y�ev�GW줷\\x07��b�\\x01\\x15ʊ�X�\\x15UR\\x19�a����\\x0c���������:�@���UW0�\\x0cy\\x03,�ː�����ܯ.�BJ:���D���O�żM2�\\x18\\x00��\\x10q����:\\x07�MC���J�m\\n���kR�����.u;\\x10�`IC��\\x1c^��K\\x03� n��\\x1ezHM:u�L�ZmR75�\\x1d\\x1a\\x1fZ ���\\u05cc��8�#�=o���\\x00�0MF��hЊ��\\\\;o��V4�ǳ�\\x10\\x0e1�\\x1e:p��5�F\\x1b�5\\t�K\\x1c,c�(�U\\x07ن<����ߤ�a�w�>���T�G�\\\\&97�,�(T��1�\\x18�\\x18d�A\\x1bW����ס�ksϫ���\\x0eإ�牗h��W\\x07�\\x12A��9\\x18=k\\u05fb*֡��k��(�%^�Q��0#�/&q�\\x15#w�s�9v��I����\\x0b�\\ne�B�z� )`�屑�\\'#��\\x01��;0\\x0b\\x06�?����\\x14?m�p�<2�8w[�@\\x08]���\\x07���\\x1deCB�a��?ri5�P�+�J\\x12os�A���\\x1c0\\x07珰��bmR8#J[E�w�%;\\x11\\x15Uv�\\x01�f�\\x00�w\\x1f\\x1dmI�Q�\\x05+\\x02ܔ�=Deh]�\\x07\\x1b7�� q���9�l\\\\\\x00#\\x1e�=#���§�6�\\x06���`od�ND��\\x04��V\\x0f�\\x078���ںv�s���\\x15����im�X6Md�0%����S\\x05~q��Il\\u05ffR��\\'����4�\\x1bO��?�\\x1b\\x1f�\\x00\\x07�\\nq�*��\\x15}\\x12���ط_\\x7f�\\x06�\\x0b��\\x05=�d�-��\\x1f9��\\'-�Q\"K\\x15���Į\\x12��\\x05�i�BFP\"*�U��\\x0f�\\x07<��\\x1dB\\x06�\\x1d�ӮJ�H�c���5�wz�d�\\x1c2\\x00@\\x19?���\\x1aqKb�\\x0ed\\x16�l<�;#�2\\x05�3\\x0cg�\\x04\\x11�\\x079�M^�\\n���\\x1a�`��#����\\x04��\\x04��T�$�@\\x00`�t��0w)5�\\x16\\x1b�4}w�tz�8j�a��}��\\x00\\x10|�d�\\x00��\\x00�wd^�\\r6�:|\\x06�S�Hg@�\\t�y\\x19�26��\\x03\\x03�\\x03��Zy�5��Z����W�3�4�8\\x00�\\x00��N�\\x0c��=L�\\x15�*Ν�A�Xѩ�a�\\x12���$��8%�y�\\x00�D-��\\x04�c�һ\\x15]\\x12\\t�^o����\\x16��X\\x03�\\x1cex]������=CW]B��ە�.����I\\x13\\x02Ȼs�\\x07�8>A��\\x10<�$چ��i�&�Rj\\x15b�<�\\x12T�\"�\\x19ʎ\\n�\\x00��[�T�R�B�od$>�$�\\x17\"2~\\x1b�y$\\x1e\\x08\\x03�{vn\\x13d|z�\\x1a����k�\\x1e�I�\\x12��y��,˂\\\\c;w.<�\\x00?\\x1d\\rc�k�^�rܕ~���\\tH�U2��۰H�៰\\x04�u�.٬u��k���p̎�\\x1a�\\x08$�\\x14�\\x10\\x1cpG���[>\\x07P?��\\x16:\\x1a�Tt��R�\\n�\"&\"�*��=�<(\\x07ھ\\x00�g=\\x14P�\\x11�\\x04\\x1256Y�Z��uu�j�z��>����2\\x14um�A�\\x1c\\x11�}��s�}5[�\"�\\x1b;�\\x87�f��̒D���\\x1fo�0��8�=O͠U�N:��K�&\\x1b�L�+\\x1cx\\r��R\\x7f����箋\\x12ì��z�S��4{�D%[��鳒\\x11�#\\x04\\x0f\\x03�\\x1bI\\n50��Φ�o_��T��j6�@�I^(��x��$�\\x07�\\x0e�X�\\x06F9��~�\\x17y+�����\\x0b\\x11AZ�F�^!\\x16��Xrw7��\\x07���];[��Z\\r?�4(f�\\x06��{z�S^6a&\\x18@ĕ|\\x05b�q��$�#\\x1e��wm�\\x7f��\\x1dZ0L��w�\\r��܀�j�.s��\\x07S\\x08����\\n\\x13\\ueae6��T�t>ת�]k-`YӀ>�FH\\x12�G��\\x0f��ޫE:�U���B9�Om�Τ:�\\x11�*�\\x00\\x1b\\x02��\\x1b���WҠ�\"�_�,ER�����+m��T\\x18\\x07w�X�\\x0c��:�ޝ�sFо�g����0OU�4d4\\x1b�\\x83����`�33�\\x10�i\\x15ً{�J�\\x1d�\\u07b5FYg�\\x12)��=|�\\x01F\\\\g!ry\\x07\\x1c��N3ҝw�䭧�)��\\x1dA�\\x16d�IM`�����i$�$\\x0c\\x1c��@�g��,z�ʂ�CZd��\\'�\"X�9l\\x06BA\\x0c89=^i\\x1f�\\x1d\\x06m>�\\x1a~�*hP�%�0���7�\\x00Nf8_�\\x04�\\x0c\\x00��\\x03�HLt\\x1b�8ljh�J��\\ni��֒T�d���}X�$�۟ԡrF��}�\\x02+��\\x1aI��R}>NkE:�����,O��O��\\x188\\x1ezeٺ�[zu{t���}$3\\x0b1$�\\x18Ȭ6d1>C��\\x7fp\\x03������٫Ǣj�\\x1d����4\\x17�za��\\x19|\\x07l�\\x18�0s����\\'\\x125\\rT[c�mv�\\x08�6����\\x0b\\x14��*!\\x00\\x00%��\\x062YG,p?~�v���\\x17J�-�m<E\\x02ۦF�UHr��H9$��F\\x0e2:��-\\'B�5%��_���Jk���j�YpZ9<I�q$\\x0e8_��=�ay4�\\x1e-#Nw)#C&֙\\x02g\\n\\n�2~FO \\x023֟h2�\\'/\\x12�֒;��}GQd��\\x06 �m��\\x00�D�ǹ��c�8��B�v��Z��T�$F�I&X�Dy]�1\\x18�G�矓��ږK:X�����GI�d,jI�\\r��O>A\\x00(-�<��\\ri5\\x1e��5(�.�\\x05ET{��B����[����۩q7^\\x04:#F(��\\x1dɯ->�m,�\\x14�I4�2\\x0f�<\\x1b��\\x03 �\\x1c\\x02r�s��\\x10�Cͪ,�\\x0e��ն�A<��cM�HВ\\x07\\x0c3�c�����ܖ������z\\x165\\te��EV\\x18�\\x08Ld�%��\\x00\\'\\x03\\x1c��Xͤ\\'g�bk��C*D����r�l\\x01�+��<��M��7�3�t�CX�\\'=�q�Jh�\\x1d1 \\x10��7n|\\x11�\\x10<�\\x03\\'\\x1c��7fâEI�F�������i\\x01-�8 �;}�v܀I<g�\\x7fx�CVX4ƕ\\x04Wt��5p=\"��� ��X\\x04��\\x00��\\x1f6�ڷ��N��&��f\\x10&�29�\\x16�#m˒�[-�������B\\x0bSz��r��>��R��\\x16����a\\ry$�ҁ\\x0eӹ��2ϻ��>:�\\x7f�\\x7f�T{֭jIz���\\x1ag*�G�ڌ�\\x058*\\x1dGߎx�u^�l�S�W��ݰ\\x16�͟|���s! .\\x03n��8\\x1f~�����]�[\\\\m=�֎ܐ����;\\x1019\\x0c�8m�\\x18�\\x06\\x0f8@�\\x0fq��\\x0b�)^��*�V�mA�k3#��\\x04�{\\x06rTa�\\x0e7\\x0e�\\'p.��4ڢ���*���\"��*H��#\\x07���\\x04`�>�\\\\�\\x1d-(ڷ>�\"��r���`H .}�A�\\x1e>3�@]�kIU���d\\x10Yz�a�\\x0b �����9?l��\\x16�\\x07�\\nm��l��QV���=�Z�z_�����$�\\x14,~��\"\\x04`)VQ�\\x1c\\x1c\\x1f�\\x1d|��U���`�]\\x05�@���\\x19wo��\\x14`F\\x00\\'9\\x1cps�����;NVԣ�\\x1d���K\\x0cseeY\\x02䏆�`�\\x18�9�P�{��ֵ��$\\x0bRH&\\x07�˿�NF�`����\\x18gbn.;bZu\\x1a�b�[�V\\x04���]�C\\x1bn\\x1c�\\x0cO\\x1eӟ���L-�_G���j��\\x0br�T���\\x02���\\x1c\\x13�\\x00����/�{����\\nv�8�i\"Y��B�%\\x18\\x05\\x07!X\\x0cy�\\x00n�n���5}L�� \\x133��YI\\x03g�e}]��B\\x11������vf�`Zέ\\x06�=o����*,�6��@\\x1c�$�W\\n\\x00$~zߤIW�\\x00�z6�I2�Ę��=�ϑ�9����ޝ�R����\\x190\\t�\\u0604\\x07v\\x03+�\\x0c��\\x02@�\\x00\\x19\\x07��*J�Ʃ\\x04���vi&e�;D�j큅\\x03�\\x01��\\x06\\x0ezc�\\x11^#\\\\�{Z}�虴�c����р�yD;�灻�\\x1c�t/u�\\x0e��V��\\x03ޮ�m�Q\\x02ȹ#j\\x11�\\x17\\x1c������5mQ����%�1�>��\"@�6\\x1b7��\\x1bI\\x18�\\x18\\x04d��4�{�x\\x12V�v\\x15�s�\\r!�\\x08,\\x1b\\x1b��1�z\\x0b�c�F%z��\\x7fu�Lkٝ��\\x1b�XU2�\\x03g\\'\\x03\\x04c�\\'��/�\\x00\\x11\\x155ɤ���K\"\\x01\\x1dvʨVP\\x0f�`�G�����:�dJ�\\x05��D�&���g~ߒq���:�ӫY.\\x0cU�}6\\x05O��$�6nRFw\\x1c�\\x01\\x1c\\x0e9��+Y�X��Ӵk��w��i����+Z�h�h\\x08����\\x11�>�>�d��(�/��K6�{tK�#,��G;\\x00\\x14�8\\x07�8�c�z�\\x1a�MKV�cL_�0a\\x14��x�J\\x0e��$���Z�jK\\x05=(K��a\\x02\\x18�+q�C��\\x0f�s�s��Y��Y\\x1b3B���u_]�\\'Ե��}I�\\x00�;\\x13j\\x1e\\x00\\n\\x02�|\\x16��\\x07�<�t�B\\x1a���T6����W�#hq&\\x19v�C�V\\x18\\'��\\x11䎪��wNI��>�W��X�$;c�+{\\x0b県\\x1cg��~z��PD�Ye��\\x1fO]cU+&\\x14�\\x08W��\\x1f���g�Ĉ\\x08#Qf��Z��V���\\\\Ӷ�i��0��2d�y8��G��궻���ӥ�,�4bP��\\x1a�2(�\\t�Wi\\x1c��\\x1d\\x0f���-4ցgQ=\\x10ʌ���� 3\\x1eI\\x03\\x19�y��\\x1f&��w\\x14RO�i60�=F�9�)� 8@r͒�d\\x02w�~�w\\x16\\x15�j\\x1b1��,ԩkR�b��b���ʁ\\x0c\\r����Cm�A\\'��\\r[I��+�\\x036�\\x1cR6�s8�W�m\\n\\x17\\'�r\\x0f�y�\\nH���7t������}Mu`V\\x11�B�\\x04a�!��#8���j�\\nуMkU���Cv\\x02�aRC.=�8\\x05�\\x04c��4.\\x0e�ø�Ў��\\x1d�>\\u0378\\x17l�E(�b����#8�3㨞��huH,Kry�P�7Z�Q?�+(ܱ��8\\x1f?\\x04���Z\\x1d�h��1\\x0f��4Q�\\x0cYS-�$!�\\x01w\\x0c�y$c��z�������ni�Z\\x7fPH]\\x19�dnڪ�c�\\x07���J#+X�?I\\x11y�����,-�I�\\x06S3\\x12�B�\\x11�$�p0\\x01\\x1e\\x07F���z\\x15\\x10�N���c�5�\\x0b\\x16�\\x19�\\'�p\\x06H\\'>:��=�b�mZ��4cl��&/\\x00mھp<�3�\\U000ceaaej�4�*9=&zo\\x00�fH̑n�\\x14�&��ᏸ\\x0c��:�G (+w3�j\\x14\\x05\\u0383ٚe��Rn��Z�\\x1aa�)Ԉ,��\\x0c`1`\\x18\\x15\\x1e�a|\\x0c\\x0c��\\x08��\\x1a����_��\"$\\x18�&\\x0c}L�gq\\x803�9�\\'�\\x7f�W~Z��A��+ŪP���.L��C\\n�\\x01��\\x17g��x\\x1f\\x1d7Ԣ��4��\\x10��\\x11$b\\x10������)�Ny\\x18�9$��ԇ*u,�U%�\\x00�\\x1d�_���w�_�ŅC�}S��Ġ�>�ݻ%�<����(\"��l*.L�\\x06�\\x1cѸ��I���\\x1c�\\x00��ۮ��I�}4ϥ�H*M[�\\x02I\\te�\\x1eP:�A\\x1b��\\x7fߎ�;�F�r�uT�g�VD��\\x06�\\x17>�\\x00� \\x1c.\\x1b$���)\\x00)�\\x13\\\\j*����h\\x12���H�}I����T�  �c\\nr\\x07�?\\x1d\\x05oEB���h��n�<˱ǫ\\x06\\x1c\\x03��<��\\t���7~K�,\\x1af���;�J�,���\\x1e��\\x11��m�c���=\\rSU�M\\x1eJ:ޚ�l\\x16���3�]�m����\\x1c1���վk��L�\\\\�0\\x0e��\\x19{�\\x1bD�\\u05f64��Ch�_\\x01��\\x157\\x0cE��#\\x05G�\\x01�A�\\x1d\\x1b�-�ۯjJ�g�cA3�J����\\x16\\x1f�9瓀G�rV��Z�Z��\\x18)�3I1PX\\x11�!\\x7f��y�\\x0f\\x1d\\x03/m�X\\n�6�\\x13�\\x01�D�[\\x04\\x16r?H!��\\x189#��!ˌ�����\\x02-�bҭ귯G��\\r�>W]\\x1a*�\\u05c8�Vg+��.<0bx#�\\x0b��>����u�ym؞w�\\x00��E�5r#d\\x03�P\\x18�X��\\x04\\x1e���4]^����\\x10��P�\\x15�eU%#U_r��es��\\x0eH�:���{@�^ٷ\\x0c�\\nބ2U@��@���\\x0c<}\\u05cf��-�M*op�u\\x01��[�-C4R�aDH�M�\\x18m܌�\\x1b�G����\\x17kiZn�6�\\x15M\\x024zv\"�-^YQտS\\x16�v�\\x07%s��\\x1dj����f��Z��ިI\\x1aܰ�T��D�>I\\x82�>\\x07�&��N���o��\\x12�蜯���$\\r�I�\\'\\x19\\x18�=/\\x02�B�\\x0e�q�\\n54�~N�:��#�\\x1f�\\x12\\x03\\x03�\\x100�@!\\x14\\x15$�d�9\\x19�\\x1dB���G[\\\\�e�D�@�\\t9wc�\\x18\\x0f\\x18��0\\x04`�Ѱi�\\u07fb�jK]\\x08hZJ�P��\\x03\\x1b�\\x0fi��<{�㤽�\\x1e�۶&���\\x1d��\\x1eU�nd��9\\x1b�ھ���I�=r�>v\"���Ӵ��r��E\\x1d���Y\\x12C�\\x1b$�����\\x0c灐1�\\x1a֚��KPѵ!�\"\\x16]�Tq�<m$��|}�\\x1f�lϦ=\\x7f����x�2\"Fș$�q�$n\\x04\\x03��n�u~���W�Fa0�.Rx�e@\\x05@w\\x01\\t\\x80G<r<s��]�!\\x1a����u�\\tY.S�\\x05��\\x04�\"��H���\\x05~\\x1b8<��՞�\"̳ז�w����˘�\\r�\\x05@����#�I7j��$�\\r}LTy�(r��\\x07��\\x1c� ��>�6���f��*��\\x1c\\x19^t���h\\x03�\\x03�\\x1c�89�Z�U�%2aĦ�bi5�(W�\\x1c�\\x1d����\\ueca1�\\x10�\\x19R�\\x18Ϝ�A�6�ث4�\\x0btٝg�Z�����\\x12\\x0c3(#\\x19��?s\\x19ٗ)k��o}\\x1a��\\x14�,��lc��+�Tx8 �\\x00�]^(��B�R\\x08�;\\x16y\\x10\\x13!�;�Ǹ��\\x04c��A����=�$�J\\u070e�M��\\x12;�S\\x06 �\\x10=�v\\x1b\\x1bx��\\x00Ӫ~��#i��\\x1arX2د\\x1c\\x14�̬Z~F}�p���2vd����\\x7f� ��T�IT$.eH���ɑ\\x14����\\x1f�:M�����sW�)枝�jpF@\\x02)6\\x05B�\\x13�$�\\x17�~�w�vݝE9F���{\\x1a|��y!�$M�����?�@\\x03#�\\x0e����\\x1c���,�Egt)\\x03>\\u0603\\x1e$p�\\'�\\x1b>9�=\\x13kP�\\x06�}엊\\x10�\\x16���\\x00X�`���\\x06���:uIl�]8\\x11)O�.��0�Hʌ\\x0c\\x03玠�*��cr�L���wu\\x07�t� ذ�F\\x06H$\\x1c\\x00�� \\x7f˞�Ы�3����\\x0b�dopʓ��?��:\\x1a��SGX\\x17V�Ј\\x12�)@=^\\x15���v�\\x018�tƞ�mJۆ�x\\x1cacBABx\\x8cr1��\\x1f\\x7f��7�E<N�vc�\\t�#f\\x0bf���rX���OQ��b\\x0b\\x0c\\x00~�@�\\x1d\\x0b��<M<�� Df\\x018,x\\nH�\\x03���\\x15��>�\\x1f�BD\\'\\x0e\\x1cr\\x19����\\x07\\x07\\x1ezޔ$�\\tx��%N\\x0b\\x0f���\\x00�\\x1dK�R�\\x00�K�D�Q&uk/<���^��*�˵��r��q�F\\x0f>|t\\x0c�X��RԬ�\\x1b\\x08�\\x1a�$�y$)�\\'��s�y�m\\x1dId��~�&�R\\x19�����z\\x0e\\x18�\\x04Ir�sD�:�\\x1e\\\\���\\x001Ǐ�ώ�3��ɐ�\\x000ЩagP���,b½�>�\\x029�\\x038\\\\�?VOJi�\\x13߹aե��w\"c��\\x12�6܀�N2y�\\x7f$t�ܫb_V\\x1aN�\\x07���\\x1ev�\\x1e\\x17#�?�Տj^�־�5�:��Yvv@�E�q�?a��=\\x00}�@ћ\\x06\\x06�\\x05�\\x11�ʖ,�U���ʸ�J�G!��\\x07��\\x03���4d��i��W^T�:� �}σ�Y�5.ߖ~�\\x1c\\x11{�\"�!��%�gU?�\\x18�܌�Ԇ��&�5\\x18�ЄHV\\x13�J8\\x03\\x8f8�瞴�*�74�\\x0e(V%נ�F�Q�\\t�Y\\th��F��L{U�\\x1f�\\x14/?\\x1c�:\\x1d�6z���T���yd��\\x05\\x1c(?8\\x007#�\\x1di�����\\x17�\\x00\\x19G\\x0e�\\tW\\x06L�2��wߏ\\x00��=b\\nv����\\x1c\\x1a�βM.��\\x08T3\\x06�\\x03�q��#��P��d\\'U9Ʊ^�\\x13\\x04խ[Zs�\\x0c*��� \\x05�ܰݻ�98\\\\��*��i�X���!�t��cv�\\x01�P\\x0f\\x0f�\\r����Wp�/mٞ^�]u[p�\\x02\\x19�.��>�NW�c���u)\\n#�H\\'eU�,W��5a+�\\nH1\\x12\\x00\\x1c\\x01Ñ�\\x01�\\x03��Bh\\x03��YP.ġ�=-�{R�5]Rժ�b\\x12N`����g;\\x19O��.\\x0eW\\x00���u�&��nwH�F�\\x02�Z��&���+�P�gʡ\\x0cH\\x1e3�\\x07�\\x1dCZc�ыN�\\x0b�U�d�\\x04�д��U=6\\x03\\rÞT\\x1c��g�.巧O���\\x00���*L�髉2�0��2�F�g��t��^��\\x19\\t\\x027�t�;���{\\x7fF}E�csb\\x01�P�Sr��W\\x1e�1��x9�\\x08��6#�r�� M�W2D�r�3�\\x00�\\'�u��[_�\\x0c\\x16����$\\x02ܑKl\"�\\x11\\x0fR4\\x1c�,d0\\x1c�\\x00F\\x08)uk���������nZG�ޣEZPQ��\\x12�}�\\x0e\\x0e<t�r�vR���lyB���!\\'���Ӭw\\x15\\x01_M�eAf3b\\x13\\t*\\x00ی��\\x07\\x04�\\x0c\\x11�\\x0c�\\x7f��ݵZy��\\ryZ?Z�9�\\x05}��\\x7f$\\x02�;\\x00\\x1e\\x02���>�Ԫv�pj�5\\x1d<ڒ\\x06�Sm���C���\\x07�6G�>\\x07H��\"��\\x1d�u�.B�bCv�H�\\\\�*�X\\x02Kd��\\x18�\\x1dQ�u7��\\r�뼖��дm:%\\x12ն�\\x00V��uÅ8\\x11�gy9l�#�����查,Z}��E��\\x03�iNd� 2\\x01\\r����|\\x03�Ҿ��t�3C���\\x1aU��E\\x1e��7��\\x022��ǐ\\x17\\x00\\x03�ۈn9�>��\\x15Z���W�ʭ\\x1a�&��ɰ�Ķ01�\\x00�\\x01�q�E�\\x02�O�ĭ.\\x0b�\\\\�Z8\\x000�K!e\\x00\\x02P\\x08�\\x01�\\x12~\\x7f�Bvƙ�Ai�Dj�\\x1b��W�a�\\x04��\\'�8?>\\x07\\x1dL�,��\\x0eᯫ�m���2�J�LA��\\x08\\x19e8/�\\x18��.�@I\\x17P����\\x00\\t�;1$�rܐ8>\\x01<g�T�Bɀ;�SN�!�\\x03i>�9M\\x02��8\\r#r\\x19��\\x04(����ެ{{�u\\x19�ڭ~;\\x12�u��F��*�(\\\\\\r�v����\\x13��=]kS���\\x16{�%c\\x0bH�l^�#ފy�E>0<~�oӻ\\x17Z�\\t�bI�/�\\x14�P\\x08�pX��\\x04�|��\\x1d\\x05\\x1c\\x01�{�[z\\x12�I�CХ�]N�AJă�ܥRc�\\x05@\\';���0\\x17\\x1f\\x1d\\x01[I�m��Sjk\\x15��\\x18Ǔ\\x1f�\\x1aF\\x1b*Kd���1�\\x7f��\\\\�Ƿej%+\\x1a���\\x12\\x12��\\\\�|y;�!x��\\x00=5�\\x7fS�A�4H)ۯ��gկ\\tFS\\x12\\x03�\\x04|�\\x07�\\'?\\x1dw�[��\\x0c+q�}vu]cUZݫ�U�\\x1fM���Z Xf`Αǒ\\x10 pH�#\\x03��v5��jw�y��\\x1a�\\x7f\\\\��D�\\x10{�\\x06q�.J�s�Gcv��ҕ�RK\\x1d�\\x0c��DA\\x13\\x0c.I�>\\x0e\\x0b�RC\\x0c�i�}s�;N{Pκ��RM>L�Nv�*�*�]r2\\x00u8\\x18e��:!�\\x14\\x1b\\x12�\\x1dMz�\\x00wI�[��v���cH�&����+&0G��PG>\\t��OƋo_�dv�O�t�\\n��\\'o��|�����q�*c\\u05eb\\\\���P\\x7f妄a�U����,\\x17\\x19\\x1ev��?\\x18��Z�I�i4f��6�Y�O\\x1bw|�\\x04�\\x1fc�\\x1d�\\n\\x103\\x05\\x17\\x15�\\x1a�:�3�lIV娰]QJ�\\x03,[$r��ǌ��x���C�4� �N�V���l�\\x16Ds�����\\x00�;W���\\x07����i���K<��(�ӴDLdgP�2�Bn*\\x0e~\\x10��g�]ߩ\\x1e��o.���6�M�\\x04>��e���\\x00�G\\x1b�8\\x1dh\\x01I��\\x0c��s�L�kRKn�r-��\\x06�\\x0e\"M�\\x04^</�y�\\x19��[��*]i���T�\\x08D�+�\"\\'�g#\\x1bO�9�q�>�����+�\\x1cu�\\x12Z\\x19\\x15Y�:�������tʎ�tU�o�K̕�i�f\\\\G:+p��Ƿ `y�\\x00=Y�U5�\\x08�h�h���/nӲ�4��V\\x15]�X.\\x192y �@�$uc�A{U�+\\\\��z�_b�\\x10���d�w8��G\\x03�\\x1eׇ[�5;\\t��\\x13ob�\\x00#3���\\x0f$\\x0f�O]&Ʊ_��s_�=\\x16HU�2��8Q���L\\x1e\\x0e9��\\x07�f���\\x1c\\x00vLY�}��L���,i��B��aFd��r\\t�?��\\x0f�\\x03����:�o@�V�e�x���W�2�\\x0c7�ǌ�\\x03���k=�5��K]�\\x17�#F\\x14ʱ�3��bۗ�Ƿ����M����kM���Ԉ�Ry�X�b\\x1c���\\x06\\x01?�\\x00\\x0fEy\\x04�*�\\x0fM\\x16Y�P�A�َZ\\x10\\\\M�cd��XەN}�p����mnң4.��^�Lbj���������\\x0eÍ����ڝ��������c�^\\x06[\\x10=a�fE\\nLe�w\\x1d�>x#\\x07��%}Jޔ���\\x0b\\x15�,�\\\\;�\\x16@�\\x1f\\ny��\\x00�3$�cRC��^��?�I\\x05Ya��ѢV��G�pw\\x1fo9 �\\x07㩝\\x08ߣqcj�V�����\\x04���q��\\x1c�\\'�1����]K����F\\x05���}��H\\x14,l،�O�*��~[����\\x7fY�Щ\\ro��\\x0c�}T\\x04�\\x0e�ň�����OS^B��\\x13Q=��KNM��{�\\x1cP��\\x0f�˰}��n0I$\\x12H\\x18�����-J�Z�T�e�h�%�Ԭ������|����ZZ�j�M)!�R�\\'��<�\\U000dffde�~��T�,m4����±b1��\\x00\\x7f�u��_\\x119��tk�GݺGp\\\\����<�rS#�p�I�5\\x03�gh\\x1ce�~:�\\x1d���֤���HX��X�f�\\x0b3�#$���7\\x108\\x1f�Ԅ}�W�뗶�f�H\\x021&։T60��\\'���\\x061����*ꚽ�D)Y�\\x16�\\x06�Y\\x04pq��J��m��\\'\\x1dG(F^R��1Ui�U�\\x1e��b��G!��w\\x04�I�M���\\x04g�\\x07\\x1d\\x0f\\x7f�\\'�µ9�\\x00�\\t&X�U�-�FT��\\x0f8\\x03��W\\x1a�*6��)F�7�3�xQC�\\t���$��\\x08�\\x1b��:z6���It}*�]\\x12�16lD��;M\\x1b\\x05��8�p6�\\x0cs��QFV�\\x13��=���gsh�j6$�\\x14qڐI\\x13�!m��+\\x0c��\\x01�\\x07�\\x1f\\'kz\\x05MZ��uJ��c�\\x04���,\\x06\\x1f��\\x01�\\x03\\x1c\\x15�\\x1c�t����z&���B�\\x13�Ui(z8K�#\\x1c���0r~�-\\u05fb��mv�S��t�^1yi��0���=�X�mʌ�2\\x01\\x07�\\x10��\\x13\\x17�\\x1d�\\x7f���Z�\\x1a���V]R����#&�f>�\\x08;�� q�u�\\x1a~��������f�\\x14�̠0!YX\\x02�0F20>��M�.�S�\\x1a.�Y\\x12t(����ʰ�\\x13ˑ�y8�{}����\\x7fV8\\x0c38���Y�\\x14d\\x15��Y�N9㥻<�p��]�\\x08��;\\x12R(+,m\"��\\x15�\\x13�8�\\t�\\x01?��{��\\x1d>�ը+$1���i_j�rQ\"\\x03�\\x08�N9�Wph�Zw�M ��I\\x1c�Ϊҗۗ$�[h\\x00\\x01�����\\x17M�SU�\\x0e�r�u�tL\\x05U\\x01UP\\x11�����\\x1dU\\x18=E*Bٓ\\x15,]е����Qm�eh�,\\x11�a����q��9\\x00�u����\\x00����!-X&�\\x12�X\\x184\\x11��\\x08,p7c�\\t�8��s��^\\x1d_A��_k\\x15\\x12+\\x028�R�\\x15 �|�ۃϏ�uy�Ժ\\x16����Q\\x0eMz�^�`1���s���\\x0c��]\\x1c�\\x13��,���s�t�{�zޚ�\"���\\x04�\\x01\\x05#��m9����M��/�5�b-fi�ܧ^6\\x10�\\x0cN\\x0f�`�\\x1c��\\x04y�\\x1c��k��u\\x1dB��|�t\\x15\\x19\\x1b�xF$O�b�オFO\\x03�\\'��4U��}B�\\x00�r��Κz7���J$n\\\\ʤ�J��?�O��\\x00�\\x12f�F���\\x14\\x1a�ۂ�U�]\\x11�d���m,�\\x18m�s����\\'�\\x1a��\\x14\\x17�ɬ\\u074b^ҋ�wc��\\x1e\\x1bp\\x07\\x0b�a���Ӂ�<t�\\x0f�=\\x16i%���SR�_tR�m�d�se˯#�\\x06��|㭝��\\x13\\x0b�=f��u��y�Ԍ\\x04Hۅg ��N}�\\x08�G����\\x15�O����\\x15٢z�,��a�TC�\\x03�\\x07\\x0b�`\\x13㞋Ѵ��\\x0f���^�\\x15cA$\\x15���A<��ԇ\\x04\\x1f\\x0f�9�v{\\x1a���[�f��\\x1f��*��\\x07�6?��\\x16�NN�3��\\x07=}�\\x0c��EiGhǣ�d�Ԗ\\x03��°*��\\x1bq�q����x�4�q\\x063��i3ߚ\\x0f��\\x1e֛8�N���yw�co\\x0e1��Ĝ��\\x07=Rv_j�?jV�kS��W�,,1O��V�7�\\x1e�$\\x1f?l���5��Vյ}7K�\\x0bS�f�JhV3�����Ie�n>pG[�-SS�t�[Y�B�ׁ��TK�xl�\\x0f�ܰ,T\\x1f�\\x7fn��\\x18��\\x1c\\x01�l��\\x0b���L��ګ\\r�UF%b�Ǒ\\x19��G\\x01AQ�8>x�[Ҵ�z��\\x06�-���\\u07baد�*���[?��A\\x1cp\\x7f\\x1d&�dK3W�۫L��H\\x1a��\\x15�\\x03凜���\\x1f�=)io��cL�YRtlC4c�\\x00��\"8�Ƀ�<\\rá��g5\\x01+^ܺu\\x06�����\\x01rY�C���,\\x0b\\x11�\\x1ct%�WV��\\u070e�����\\x04�^\\x01b�\\'�~>�-ջ�kI\\x0e�5Y�5�b�M���_{\\x00�x9\\x18\\x18\\x1f���Y6��2V�i\\'�#���0@\\x1e߰\\x189\\x19�OHR��&��J���G��#IR�@��\\x08\\x086�v@�9��s����C���\\x18�ި�֑\\x035���D\\x13�[�\\x1e�\\t����L�t[*̕e���0�(\\x07w d�\\x03�\\x11�߬�n�2U6a\\x068ýtl��\\x19�b\\x0b\\x11����u_u\\x0e;�>|��7���Vhճ���\\x08eOO�C��B�\\n�۴�|�8��B9m<�\\x1cڙ\\x14��+��\\x15s��\\'\\x00��1���(�\\x01Ru��\\r�}�V\\x05T\\x0f+�\\n7}��<���\\x07K\\x13;�\\x0e\"X�\\x1ca�_*X��\\x07>ё�ך��\\x1a~�L�\\'4\\x1d&Ο>�z;&[vd*�X���� �Fr2F\\x0f\\x1dU6�fΎ���콦VI\\x180�Iݑ��\\x18���tf�ڬ\\r�!\\x12Ē\\r��\\x00�>Tx\\x03��&��I% ��쪡�9+�|����P���\\x13B�I�l�4���a�)a(��Ur��\\x0eN<�?\\x1dI��OL�9��N;\\x0e��\\x14I�ef���\\x04\\x1c\\x0c\\x03�X���㮫��\\x03O�y��Z \\x1a4��n�8�����g�\\x00\\x0c$�{�_�G��5��\\x1d��H�핕�\\x00dg<���ס��6pK�\\x11�\\x06팴:u� ��\\x171��NC�0bI�Fr<�>�\\x03�:kCG��y�s\\x1c�=\\x06\\x0c�\\x11w��|\\x1d�\\x0c\\x1f�z{K^jT�K�a��c\\t1uĀ\\x1f���\\x1f~���rP�4�Dt�U�`\\x0c�\\x18��\\x1f�S�\\x00��qV\\x04q�,3�t�\\x1a���\\nZd��#0\\x0c�w�9�\\x1f����(*��K�Eڡ]�0>0z��di�V��^D\\x07����~�~>:>~�,_�;�w8Q�\\x03�\\t�O�����g�^�|z�%M\\x19}45\\x0c+\\x1aЅk��6�\\x7f��z��;n�ԱZ��$��\\x00�@\\x01��\\x04\\x0f�\\x1f�\\x10�V�^Q,R�{�c��\\x05y�O��>F\\x7f\\x1d\\x1fۺ�p�\\x16�Rr�ܑ]$�\\x15�\\x01X��#\\x1f\\x1cu��\\x00\\x0e(���\\x14:�u�ݽ�©a\\x08,7�������:C\\r;\\x16)%��F�\\x0e\\t�9\\x19��x��\\x14\\x06��V4�#�?*dQ� ��|��G�u�,2�;�S���)?+�_=�2|\\x7f�\\x1co��t���ld]��F_r\\x10G\\x03����[��Cƛ���\\x19Nܮ1��=z\\r\\x07A�����f��w��\\x08�9$\\x0c���s�sԮ����ʶ\\x0c�ER��J#`�_�Ϗ�]�\\x16\\\\J26��[U�\\x18�t�J��s\\x03�ؤ�J��V��oD�\\x0e̽�iWih\\x1a��=h���U\\x16\\x07��F���|��,�����\\x00\\n�O�s\\x1cQ�k�_�1��O�|t�Q��]��k�\\n�1�\\x00>��z��H�\\x18\\x0b���\\x03S�����(��py�T\\x03\\x1e\\x10�������;J�5O�����e��\\x0b)x�>��8lc�ߩ��+rZ1��\\x17�}DBq��m\\x07�~:i��$�[�v��G�\\x12�1\\x11��\\x00��~�\\x00ch��\\x1f\\x1e�0\\x0b�E�I$EZ�ui�xִ[�Y�g���e�>�J�S\\x0b��<�\\x19\\x07=|��z_qEb��~z���d�bR�Wg\\r�d\\x1fo�����\\'����ag{��.�s\\x13I$�\\x05\\x07��s�`p\\x07�����;�����ӪF\\x1ei~�$�\\x10��v�Xˌ�l��d��?���\\x03�\\x1a\\x0cw\\x1f\\x7f!�;\\x7f��b���\"�\\x04R�\\x00\\x10\\x01\\n�5 ��\\x19����tN�f{��]�ںUv�]\\x10j\\x1a���ݘn\\x0c�*rP�\\x12\\x0f�G�\\x08N��\\\\�g�;��uzU&�ô,6�c\\x11�%��\\x18��;���7��pk���\\x1e�\\x11���\\x1bl�e��C�1�)\\x0b��r�\\x0f�Ӂ`\\x1e��J�T;P���;M��tD�\\x1b\\x1b�T\\x1fS�P��U��̹VS���|d�iZ���k�G\\'�ڥ�\\x1a+-e%P���M�\\x04���9�\\x00\\x1d;�\\x1fh\\x1a<z\\\\\\x14��\\x17&��\\x13K\\x0b8t\\x15a9\\x18\\r�(��\\x00\\x1eXc�����\\x19���\\'�\\x12��\\x14�4j\\x17%\\x13z��\\x00\\x01�J�Ӟ\\x1b����\\x13\\x1e:ٓ�wnQ�#KRx���e�F�}h�\\x05\\x02M��\\x02\\x1c�2Fs���\"�\\x14-k\\x10R�\\x1a�9`��6�q(�@WR�*]�/���S�u�3w\\x06�\\x1d�J:�P��֑�\\x19k�\\nH#أ�\\x08�\\x00�~z��]���ӣ��Ρf�1Ӳ\\x1b\\x11�)�$+�9�\\x01`�`\\x15�9=!B\\x01,f��Pwv�K[�V�^�k�\\x04֯r\\x16/\\x1f���\\x14���vҤ�\\t\\x04\\x0c����\\x7f���JK����2�\\x04Ѓ\\x19Q�.�wr�v�\\x1cd��ɝâE���;c�eh�ԍd�B9\\x15�\\x12\\x16�\"�Ndp�\\x18\\xa0\\x03>q�d�nC�-]nF�R����i\\x15s\\x1bF\\x01.��p\\x07\\x1e?��p�j\\x03\\x08�\\x1a��P�.6�I�M9(�c\\x18`|���b@\\x04����\\x03��\\x00Į�Ի6�V�Ɵ(I�D�Hܯ�tD�a�\\x01\\'�>I귷���櫩P�Zޗ��xd�ZX�L��3&?S�j0\\x00\\x0b�\\x1d\\x0f��\\x00\\x0f�gP���5�F聥{p�U`9#,�Ą����\\x13�� \\x19)��Չ\\t\\u061d��ɧ�\\x16u\\x04�����{��\\x1f���px �\\x0e�\\x0ezuߒ��q�ni�K��U#��/L�\\x121b89�ݹ����ݵ�h�]mO�u ��\\x10Z8�;\\x1b́I\\x11�\\x0c�N\\x0es���\\x00\\x0e��jڴ\\x1a��Ց�L�\\n\"���F��m��g\\x1c�\\x00��r+\\x1eD����\\x00kjPh�\\x1b3j�i�G\"0D�\\x05R���\\x07#>00y���c�[��=\\x0b�\\x1cSٖ�3<��cj�K`.�8�\\x0f��u\\x03��-�r�Z���Q��[3]OJ#��K��\\x18���:�]ѪTӴ��\"�k&�b\\x00��.�V�{w\\x13��%H���8��4\"N�ѵn��]�ةcJҫ;\\x16�\\x1c�467�\\x0c\\tS�\\\\�P\\x1b�A�\\x18�5\\x7f�.�v�Y4��F\\x1dwI\\x04�1\\x03�J�\\x04�{[\\x18\\x19?n��i�k�%madL�f(�\\x19�H�왘6��W#�6�\\x07\\'������\\x1a���11i#m�3D��̠\\x0f��\\x1f�����\\x1ex�U�\\x1cT�b�E�Z\\r����$��m\\x00\\x7fEh��¥@!VC�������ε]�٧v4�����\\x15�}ɅFa�`\\x1dą\\x01��l�u��S��w�\\x0f\\x02ıЙ�\\x1f�ʣ{2�Xr[\\'\\x19\\x1f�<�W����Amvgh�d�1Tƒ \\\\e��b\\x00\\x00d�\\x03�z|���W#��RA���\\x00fX�l��YT��,�]l�6�Go�\\x05?�s�\\x1e����\\\\t�\\x1a\\x10\\x13W�%ez��\\x03�m˹��\\x1e�\\x19\\x078��_B�y+P�{���\\tY�n��FVb\\x18\\x13�@00W$n88�\\x1d���ip�z��VI^8m�>��\\x12\\x0e�ダFq��A1.M��$U5r�My�\\x16}CI�^�|\\x18�\\x02�&O�S�\\x1f~y��Շo�\\x05)^\\x04��VYX��eP7\\x16@���\\x00ǟ\\x1ey�J�[�L�,V�Z:��^��a\\x07\\x1c�B�\\x03��8��/+ƕ*\\x18��\\x02\\x05���Rv��d��>H\\x18_�9�z\\x13p�#-a��}\\x0b\\x1a���:u�^L�\\x04zr�\\r��h.\\x07\\x03���9�Gs]N��t瑣�k�V��\\x14\\x13&\\x02�;�ǖ;G\\x1f\\x7f\\x19��\\n\\x10]����-�����\\x1d�R���\\x03�p1����f�T��\\x1a���Z�k2�q21\\'�\\x1e2@�\\x08��O��\\x08\\'�\\x17��^��li�t�*\\x18�䑊�Oe2p\\x06�#l��[9\\x1er\\x06q��!u�\\x1e��T5*\\x16-ׂH�k.�\\x01$�%�\\x1cnQ�Ϝx�Z����dh�>��\\r�D��(\\t\\x16N�\\x02�~s�\\x0e9?��5j�ٚ�=S}7��4�\\x12��($\\x16�7\\x0eO#����S\\x00I0��\\x05��[��V�����\\t��u��I\"���#\\x0c�\\x10\\x0e�\\x1eq�3��\\x00�j���ZV�x�X#�B\\x14Dwe�60x\\x03��\\'\\x07�2Mܝ�Iu\\x04��Z�\\x1cQ\\x03eg~$��>��\\x1c���?\\x1c����r麇�8�v˕����\\x07\\x19�?�t�\\x0eK&\\x0bܷ�Jֵ\\rVͺ�k˫JZ)!ȍ\\x15ق��9\\x19�<�p~�*�\\x0e�fH�\\n�]�e�{S\\x19�y\\n����$�\\x00~�\\x00\\x19��+���\\x1aSՎ\\x19/�`5�$\\x04G\\x1a�8O�q�y��\\x0e��7�R�=�\\x14���Y�\\x10�J�qf\\'\\'ܣ����<y�\\x07!w\\x1b^&\\x17tO�\\x00�wa:\\x15O��\\x0c���MX\\x08�(�A!`\\x08�[\\x00\\x11�9\\x00�<�{wO�}A�i�[��L�H\\n�2d�\\x02�N\\x00\\x00\\x03�\\x00~���y�N��\\x7f3e���\\x12\\x00�\\x1a�G9#\\x00\\x00��\\\\��y��OV�QϧN#�gV�)]�\\x10@�H#9�8���Ã��4.Lw\\x1d�\\x1fZ�^2R`\\x10�\\x00�`\\U000c33cf\\x18�ߤ=����N�\\x17�Zץ�\\x1aX�k�YԔ�\\x02��\\x08`O��\\x07��K���^ƴd�=\\x19#�\"UY��\\x00Y�ʨ��rO��Z��\\x17@]f��\\x12Uq\\x14��K\\x05��1�@�r2��2I=Q]8��pV�n�\\\\w�[�Ea�m+�(Z�!\\x1b\\x0c!���s�\\x0cn>\\x08�=e�ǩ�j��[��\"�`KU���\\x00p�˖$d�K\\x00N\\u070f��;\\x0e\\x18u\\x1e�ߩX�\\x18x��\\x11T���նz��?�x�|��V:�]B��j\\x04��8�a\\x14�I\\x1f����\\x18�\\x00�:��1�\"p2r��[\\\\�\\x1a�Z�Z�&�E�a��hd�T)\\\\�}@\\x07��\\x07�9��\\x15\\x1b��KS��\\x1b��\\x1f�\\x07��w�9�\\x00�]#U0ځ��t��i�C��zk,XO��2Y�\\x02\\x00\\x1f\\x1dE֭\\x0e��\\x15Т{q]�W�\\x19K4��\\x7fV��9�I\\x1dkŭ��@����^���V�kv�\\x18��lX\\x03�8U���I�@\\x1ey��w��\\x04�v�K\\x05x��b��*��B�P\\x0e7\\x11�\\x06\\'89�9��\\x16�O�\\x17O�-��C\\x00f��x �8\\x1c����âZӻv(��-X��\\x1aіDT��oʁ��|����&0���1�0�Z\\x13Abzל.6mH�#:�\\u05cc\\x16\\x00����������ܡ�5�W���|��G��F\\x08�\\x123���X4]O�5�/O�Ķ�}L2�f���,k�7,\\x0b\\x02�\\x0c�d��\\x13�6��S�5���3��m2H�\\x11�\\x00r�\\x0bǴx���^(E�\\x17b*r�/ZM\"Id�\\x03�x�\\x19�و�A�c��2~\\t�i?A���)$�sjEQ2ÔP\"\\x00:��HU<g88���+�h��V#���N��\\x05��QC�n�y\\x1bH\\x198�\\x13���ѵ�U\\x1a\\x1b�\\nT\\x04f\\x08����0}�2\\x16\\x1e�\\x06\\x08\\x18 �����bgPA�jv�MCK�\\'�T�,<��,T�\"\\r��\\x18��$�F\\x00�9�]+���)��G�59���H�!%\\x04�lh����0\\x187�A#�i�:~�jչ����7���xev�\\tLn\\t�\\x1e���d��4�_Iy��8I���AS\\x13��\\x00L�!�$��Ǔ�NB��2�E�R��nc�r�\\x15�K{��QDeG(霆�m\\x01�2\\x08� �~��cZZ��k\\x08���ʜB�·\\x00�;����\\x07�Z�R؍4z�ʛg\"B�\\x1c�1l���c\\x1e�~1�4�\\n�j>�N�b���m�^;P\\r�� 89\\x1e\\t�8��HE.�]�mMrޱ�jZ}Y-K\\x1di���h}\\'0�\\x12#n\\x1b\\x00�i8�\\\\�����\\x11j�F(M�V8�)�MA}X\"�\\x0b�r}�\\x00cvI9�=}}>���\\x1a��D�\\x7fN��8L/��\\x00(�##9�z��5W�[F�ۢ6�\\x0c��Q�\\n��;�\\x04|�|�Ns�\\\\�\\x18\\t5�MZ:n�ܺ��+<pZ�(`�Ff���\\x00R��������\\x1d\\x17n#b8&���K`I\\x10 3�l��xǟ\\x07�\\x1do�U���Ew��\\x066k\\x18��ș8�q�\\x7f|��:I�\\x19u=\\x16\\x19��+C<I\\x1b\"6�\\x16��\\x00NB�\\x07i\\'�=S��FO�\\t]Z��>�&�0�RQ#@�\\x10b�NZ1�\\x08�8R~s���8�=c�֝�\\x12��CX$�{\\r��d�aXx�8\\U000ded08,%Ĺ\\r�mZ� ���\\x0c�0�\\x1f>�y�\\x1c��_u\\x1e�]�z�R�K$\\x01i�ca��ϴ�\\r���\\'��cF�b\\x18��v;bkw�K\\x11z�&s\\x036w6��U�\\x1c�\\x07\\x07��p\\tE�V�W�g��:x �%�6D��3\\x0fp���9�t�}di!�ثn\\'��;O\\x11�#��W���3�\\'��J\\x08�L���M%���X,7�$`�>\\x17p�\\x18�g=E��@=X&�\\x04a�QT�$��\\x17�?L2�\\x19A�c��2\\x18d\\x03����OiW��7K�e,��\\x12!\\x01��\\x04~��<\\x0f\\x1d6��Y5����TJ����\\x10��s�\\x19�x��tE���,u\\x034p��$gݿ�G�\\x7f�����9[c�+�\\x08�\\x03��Z��\"��#\"9u9�2�\\x1eI \\x1fǎ��Q�G�^�r*��mǈ��\\x11�g���rx<\\x03�أ\\x07���[�\"��U#$��>1פ\\x7f���b]T/BR�u�rđ��\\x0f��\\x1b\\x07<�\\x07�>�\\x1d\\x1fp�&\\x1f�*���\\x04\\x01�?��c���\\x13g���ڪp\\x01,@�\\x02x\\x1dh�\\x00K��#\\\\2���;1q\\x1bxR��:�r��\\x0cS\\x00p����S<}�m\\x15v�\\x18Ğố�\\x1dX�\\x01S���������\\x02=���}>�N�p�UpO�8㠣�Uʿ\\x00\\x0f���\\x06\\x1a����Z$S���\\x0f��h���}�#mPI�tש�%BO筦 xo�E\\x1am\\x19RG���6��\\x1c�\\x0f�]�AP�+�5M!c�)#�\\x14�$�m�_<c����P��%�\\x11�}eX&�`ʮ�y�\\x07$\\x1e2G���<T�#h�s�\\x03��H\\x0b6��\\x7f�:��0�6�!\\x175����b���=��+m]��0\\x00\\x1fn�F�ۉ��-][K�Ա\\x0c\\x11�H��<``�ς0q��\\x05ZI�+� 4@�|�:�zn�*i�=\\r�N\\x1d�#\\x7fk\\x15\\x03\\x1bG��\\x00n���x\\x176%E\\x1dF�Cs�9��S\\x16�\\x05�\\x0f�\\\\n ����<�R��\\x1dz�gR\\x08\\x00\\x11�A�\\x1f�\\x1f?n�U�\\x00��mal_�a�-��\\x1e\\x06@�[�q���\\x00ۨMg�k�P��R<Ш,\\x0e܀x��\\x7f=|h9q�\\x0e:�o�\\x00�\\r�\\x0b�9e���\\x02�n\\x1fiH���x\\x1eC\\x0c�q��\\x00~����\\x12[O�ĉ\\x18y#g\\x0b\\x1b�O\\x04pv�N\\x18`s��ڢC\\x1c-\\x04�!s�r��\\x07��8���44�FjP�\\x04��Ia�@�\\x11�Ս���# �\\x08��Ϸ� ̜I�B����4�t5)���)\\x18\\n��˼\\x17f\\n��\\x1bF8\\x19�c�z�T��Q�.��I�+^��\\x08�\\x11��FO�?�u��%Zul�X��\\x13{\\x19\\x06�����H��\\x04�h�\\x08�ՍFh�\\x0bV\\x18\\x03n@�\\x07g0�\\x0c.�\\x00��\\'9<�\\x7fkpZ��d\\x11�1cYҭh�(�\\x00-3ꚋ����s\\x01�]̸��\\x00`����@s���K�T�M>�y���\\x19\"���\\\\�Ǵ�8|\\x1e\\x08�#\\x01��zKz����q[QJfG���D~U�\\x0e@ʁ�G�=}ֻ�t�ֿ��<S�-wTk\\n�җe@�T\\x7fnFT\\x1f\\n�q֎d�\\x00�=n�O�wWu��7KKEJ�\\x18�\\x19�䐤��݃��\\x00��\\x1eO��hZ>�~��S]Ԭ,�l��ZQ�,3�0���\\x08ڣ\\x05G����tMF\\r\\x1fM�Tiu\\x1a��\\x1b�.\\x11NxfS���-�c���V9�}\\x7f������Gr<�+ISQX����?ד����\\x03\\x03�9\\x1d\\x10�DP�h�>��k����[�L:�a��\\x04��\\t\"\\';�}�T�H�ǎ��z~�\\x1fhٰ�ֱ�zi_O��7�P}�Tq�;�O\\x07?�Wt{J�wѵw��h���\\x05Q;�+H2��]�!�\\x13��$\\x0e9��݇�šiw4\\t��TmQ*@����ن�\\x00�\\x08��@\\x03w\\x1fn���Lws��y�iPק.�J�m.G����\\x10�\\x04��\\x0e@n\\x0e<�9?l����w\\rB�,r}\\x19�If!}BI<��y*NF<\\x1f�J;�J�(���G[.\\'SI���e�3�a\\x11\\x18er\\x18�\\x1e\\n�\\x07�Ү��`��;��#�2E\\ueaf1���!\\x1e�\\\\�n \\x00�����\\x15\\x01�&\\x02u\\x01���GU�c�k\\x1a~\\'�\\x1b�u�fh$� \\x0c��A\\x00\\x15����E���{m���-���ȩ!�\\x1eT�¶\\x1bڠ\\x1cd|\\x1ez��\"i5��Q���6�\\x14jD�=�^�e��\\'hP2[#\\x1b�\\x0c}��gn����WO���\\x1er\\x1b�>�PC\\x1dےA���S�\\x07�@�f�\\rw\\x00�k�m�֮Rm4�\\x1a}Z����b�\\x15I\\t��\\x0b�A\\'�0q���\\u05f7��V�f:X�c^M�c��uS���R��p�\\x19_\\x1c0��K��Z��X��1K�B�\\x13 bD�\\x05ppA \\x13������p���R\\x08T�}u�Z�\\x05�\\x12)�*�\\r�\\x10\\x10|�Î:��O�\\x0b����.=Z��Wn�*�\\x10M\\x1c\\x12\\x1d�Kp�͒0FF@nA����\\x1a���$��\\x16����f�e���d8�\\x10�,\\x00�\\x1c��K��,���E�N�a�:�@\\x08,A�$p�\\x15���=\\r��+f+����j���\\x00��Q,�8��@\\x07��\\x19\\x04��H�]\\r\\x19Ʈȏ4���[Z]y��ٸ���dv��B�rv�\\x0eN>v�\\x1e�U�SQ�f�\\x14�����\\x17�\\x15U@��$|q�Ǟ���\\x1dͪT�j합b����\\x0b�E\\x1f/�7\\x04�\\x18P@��\\x00\\x1dn�-Cf3%Ie�.<Q=i��Wbm�Cc\\x19\\x03��#�*\\x16ȉ� \\x02O����e�.�r$&϶exN��\\x00��>\\x0f���\\x04\\x1c笵=BK�\\x12G\\x10�\\x0b!�9\\x19ʲ�APIǟ8<\\x1f�c�y\\x7fO��rڨ�e�Ŗ�,L��D�\\n��\\x00\\x1e1�f��b\\x18�\\x1d���\\x04j�P|\\x10\\x01�NH\\x03���Z\\x17\\x10\\n7#�X\\x15*�J�\\x1am2ƛST�7����g\\x00��\\n�\\x01\\x00\\x1c�㞩�\\x7ffւ�\\x10\\x10ؔ�\\x1b%�(�>�<��\\x06~� ��t��\\x06k�\\x00釬�$AX��ŲJ��\\x11��ό�N�Դ���-�X�\\x17�Vhʁ6�\\x00�\\r�%I�#$\\x1c}����\\x19�T\\x01S|Tjh��%M>�ʑ\\x05X�J}�鸶3���c�g���m)uz�)\\x1dlڬ�=X�����\\' �=�\\x1f\\x03\\x19�zU�\\t\\'dGPEpގ��7XWi���ܾp\\x14�<y�:�����,_3��ʅ���\\x7f\\\\`\\x7fs\\x0es���H��&2ǔ��\\x02t\\x1d#�4H��[T�\\x04Z�:�\\u07bd�\\x00h�\\x00\\x15K\\x1e3��h矞�h\\x01��$���wsA��M�N�͂I�\\x04g�\\x17�z����n�\\x11�_z�ڀ�Ӽ\\x0c�$�FN�;ة��9�B���}v\\x0bvt\\x08\\x06���yZ�x���\\x19���y��ӌ\\x03�:`����֧Y�u-:\\x1a:��&!\\x1a�fH��B�\\x1bh��͝��~�s�{]ϥ�%x��d�,կ!�_j�������\\x15>�H����[L����[Ҙ����&�\\x05Y_�8\\x19��H�H��[��CH�wR�v�GS\\x0f��\"�Y�>�p?I*FNF2F0:R\\x15L\\x1b�����\\x16�WU�n�\\x0c�KQ\\t��J��\\x7fh��\\x05�\\x0e\\x01\\'8�u\\x19�v����Y��o��3}<���\\x02�!!Nq�2p\\x01-���}>�+4j4�V8�4����\\x12�鲂�-��\\'���a%]r���mF�ѥbHv�\\x11�b���W$�\\x03-�\\x06G۪\\x06���\\'����Ю�\\x19�\\x18��{$�2N?\\x18�\\x00�<��Tz��KX�\\x04:M��$-\\x04�j��<��Y��>�\\x0b�O�D���oH&����\\x13M,�\\x04<k�� y#\\x1f�\\x1cd�\\x11�����T��m����\\x00�\\u07bb��\\x01ʶ\\x07�\\x05\\\\�\\x00˓���$��-��Ѯj�v�R4�M���p���2=��a�\\x0c�y�t~��2]�kR�ѯ\\x03�i0]ۤ)�>�W�9Ϟz�ھ���\\x16��-ԡ�\\x08��\\x06@$#�p<\\x121�01�\\x19�v\\x7fv�\\x00�=���\\x05���\\n�@\\x15�\\x00(�\\'-��\\x81�|\\x13Һ�0\\x0c\"�ؙ��j�KON�+Ef�z��&�V2�Q��ۀ_r��\\x03\\x1c�̝��R��\\r�\\x11In2g��F2�R�v�\\n��U����GN�\\'�I�ťһ\\x1de��jM�8�\\x0e\\x06�a�>y�+��GK~۽u���(%�}8�l2��\\x06w�\\x19�G\\x1f�Z\\x11�`(A�v��=*y�i\\r��b�E������<�\\x19�\\x1f�=e\\x1fnk7��Y��\\x0b��\\x1dW��R@\\n\\x08R���\\x18��\\x07T��KL�ݬXh)��\\x02��J\\x08�1��`��\\x12��q�\\x1da\\'râi�\\u038dcF\\x06f����dQ�\\nrN��<\\x13�#��\\x16oģ�:=�\\x03�\\x00\\x02j\\x10�u���\\x16\\x0c�!<\\x08\\x06\\x7f�W\\x08̠x�8�:��}\\x02�d�U���\\\\�\\n����g\\x04��\\x01|�\\x1c`���Bi��\\x7fY�%��\\x13�\\x1c�_�x�fU\\x19ef\\x05@$6?\\x19�\\x1e��$�\\x15��}\\x19Y�^W`�1\\x01���\\x04aws��ώ��Bx�F\"喦�}{:�qւʿ�<�3\\x10y�(w2��}�穻mV=\\x11�YdVg\\x7fL�X��<.r\\x14\\x1003�8��Z��\\roX��M�PG���\\x0b3:A&�%�1��\\x00���\\'�:��Z�4k:���UX�H\\nؒ]�!݆\\x0e�y�8�<\\x1c��q\\x1f1��Sݹ�,u�4\\x08�MU��WP�k��@�YH$\\x00Fp�,p9�OGrk_�ݽJ�t��\\x0e�\\x00�� Ep\\x19�e\\x04dm\\x1f��\\x07#�֏ᦷz�}B���PM\\x11,��r�RDv *n$��\\\\����=W�U�Iz�ʐm���na¤�l;���\\x18峒\\x08\\x0b�\\x03�d!^�p\\x17\\r=�&�<��elظ�,�\\x07�\\x0e3�9$g\\x1bN\\x01���\\'�\\x1a&�z\\x03~�z\\x08�dY �%|\\x15��q-��W�\\x1cd�-�w_p믩�ԦJ�%�=&k%�\\x18���3\\x02\\x06B�\\r�\\x15�9㖺~�O��R��N���1,�\\x19\\'\\x10�\\x02�>�q�\\x11ʎ<t�\\x18\\n���zh��Qqlخ&yc�]�/��hݐ\\x03�?\\uf7a4\\x1e*5�mok\\x165)��0Y0�*�w;��G*FO���T���ûtxg0�;�K]\\x16E�\\x0b`\\x10Ĝm$`�\\x7fۡu�\\x16\\x1dXCd$\\x0flȫ,\\x0e��[Ǽ,��\\r�q���)��Z\\x06zY�d�4�Onk���)��lmR\\x19v+1\\x19%�����\\x00g��H�]�}\\\\Q�#e�9�\\x19���\\x01\\x1es����#\\\\�$���Ⴞ�T�N�We-�)`\\x06�\\x03�r~1����5��k�r�\\x11?��\\\\�%�8�X����\\x1ey�#�u\\x1f��Erk�ak^�J\\x0b\\x14셽f�`\\'Hǘ�l��o���\\x1dGi:\\x15����A��*�6\\x03,\\x1b\\x1c\\x11�p<�\\x06\\x07����j\\x1a\\x12ۆI\"�V�,q[�\\x1f��\\x02@\\\\�\\x13���烐0x>*�i6j-�rO��,u�8\\x10/*\\x1d�\\n\\x17��89㨾@�Bv`,H�Y�M��\\x01?��О2���y�~~:Xe��W�=j�Q�\\x02\\x19=B\\x11w9;6�\\x08`A?\\x1f\\x18��S562@+��\\x0b6�\\x18�ʩ\\x05[v\\x17#�\\x1fs�OAjp�RC\\\\Q�\\x1e��f\\r!U��3��ܐy\\x19\\x1e\\x069��G��\\x03&\\x04\\x16K����#�\\uab00��R�\\x1f`<��\\x00˪�\\x1f��\\x08��y^@��\\x14OI\\x17h������0�\\'?��v֜��8\\x10�Ʋz`M�3� ���q����^��$�\\x15��6PF��\\x03ch\\'\\x03\\x03�c��?#Ϧp>D\\x0e?I�c5p\\x1dG���ᯤ0�a�����6�27\\x0c�ۼ\\x0cs�:���v*�45����Ǆf1�{\\x13�2\\x03~0~�9�,j�_p\\x0b�E\\x01\\x18+\\x0eF��?��\\x18=#Ի��\\n�`�,6�&dw�$f��=���\\x16<�1�2\\x07D6|�0��8\\x03�Qߚ�/�\\x1aT\\t\\x1c��Ϩ�!�k�\\x18a���p3��2��Ȋ�\\x0c0G�\\x07=2\\x16�4�$�F�&�\\x7fO*�\\x08�n��\\x0e:�J^�~�\\x19/�\\x00�\\x00��_C�\\x06\\x04�%��-z����a��֪�gi�\\x18\\x03�z2\\x08���eA�Q��tT��ǅ��\\x13�\\x1ez,�� �I�UǓ����ӏ�3���E�U�\\x06e\\x04d�d\\x0f�JlXI2�\\x03��G=2�.�M\\n1 \\x04�-�۪:�gx�ߎ����\\x03�O�?����X��l\\x15ǟ���n�\\x10�h�-�\\x0f�|�3\\x16�a\\x00���,s��ŏ܃���c�\\x7fӅ�9���x�\\x17�_t�\\x0eIS�zߦ�o�f3��lc�����Z~���\\x13ǜ�\\x00ӣ\"P�#\\x1c;\\x0c��\\x00Ϥl�\\x1a�\\x13X�\\x0f��1��\\x07Z�#�c\\x01���\\x7f��挱\\x060���\\x7f�֛U�D�Z�\\x10�a�\\x1c8�,:��z�\\x01�\\x08f��dɍ}��1��J���&�\\\\+\\x12\\x07T5\"\\x12��W\\x0e&@ˏ�u��\\x15A�\\x0f*\\x0f$\\x7f��\\x99�\\x10��Hu\\x1eG,9=\\x1d\\x1c��_҉T���\\x1f\\x1es��\\x1dgb�Px�\\x1d}�\\x0c$\\t�\\x1b����t�\\x13����\\x11�(�j�~��\\n\\t�~�ꂦ�[S��\\tcRW%Xm\\x1flu�\\x055�\\x16�������d\\x16�F\\x04%�n\\x002\\x1c\\x00~��\\\\އ\\x1bm4a����ݝ^Ɵ&�P��# �ƙ!3���\\x7fˮeN*�\\x1d$\\x10���~\\x0c�\\x0b�@,K�*O�dq�g�ק��KR*ڑ\\x0cyWvSǜ\\x01�<\\x7f\\x13)\\x7f-�\\n�t�v�Y�\\x0b5xIɌɆ�\\x1f\\r�\\x0f\\x07�^R�wL�0��d΅�Ȧשڎ��I(�.�`C��k\\x02YW\\x1bJ�8��\\x1e|r�w=}\\x13�$��H��Y\\x0434��B�c�0��\\x1d]���������\\x02Ș���\\x16$��\\x1cs��u\\x0eݔ�n݂]�c_Np7��\\to��\\'r���\\x00\\x7f\\x1dz+�\\x10\\x04�\\t,n\\x06��M5�m�\\x003�\\x0f֣ђ0�M�r�J�\\'#\\x0f�\\x1c�<������w.�^\\x1d^G����\\x15�>�\\x1ĕg\\x1c31\\x19�$d���mF���ׂ�RI\"*�KY�ԅ\\x14�\\x00L\\x15l�\\x02G\\x03\\x1e\\x7f\\x1dh���\\x1a\\x9dx��]n��(\\x15\\x11�\\x0c\\x14>x�\\x060F8�����rؕ\\x04��\\x7f\\r�itoj\\x1d��kUe��� �\\x1e7�k�.�\\x08\\x00�\\x08<���њGv7d�|shҴ��z\\x13�vqnM�1���\\x18�p\\n��FqӶ�[n߿4v������\\x1fy�\\x06�\\x1ce\\\\a�ٖ8$\\U000437a5u{�S��i\\x11G,4t�\\x16&OM����,m�8�K\\x1cc�\\x1d0b��F�;W�b�j[6iKV��-��D5wq!oLs�\\x1bC\\x1c\\x1cp|�\\tA��z~�z��%���f\\x13CV�vJя�뷞3����竫��4\\x1d\\x06Ź�[vD2Y����ц+��9��C\\x11�\\x7f\\x0f֮�U��C4�Kfj�2X���\\x14`n\\x03;Dk�?�\\x02�PШ.��\\x02W��u\\n\\x145m`�IcZ��Y\\'k�9ٸ\\x13���\\'�y9\\x04�MWKתi�uYd���Bf�v���&��\\x08��x?\\x1cdu���^�u\\x7f\\x11形gA�;\\x14Y��0D\\x06�f��c�|�=W��moC�VkS�\\x001��lj)Z\\x05��q�)p�\\x1b\\x00�R\\t�\\x01��\\x02P&�[�N���z6�oL�p�\\x05[S&�d3�\\x12�/�F\\x14\\x10�2�8��\\' �U�?yk��]����!��@$�T���xp}�i\\x19\\x19?���\\x1748�Fnǩ\\x0c�����\\x0c,�E��\\x0c�G!%N\\x089\\x1cg9�EJz���jw�Ҧ��\\x15\\'����\\n��\\x1b~X\\x01��e�\\x03����\\x14�{\\'��z�h�x�y��#B�P#�N�bT�����?��.wU\\n5���\\nO.��c��j���F��@� �猟=}�5){�J[z\\x153�ح�\\ue7ad��Y��1�I \\x1b�\\x1c�\\x14���\\t��\\t5\\x11.��4rVW\\x7f��AU�%�\\x1c�\\'\\x07\\x07�\\x1eI��)��� �s����kV�=Qvhu\\x16]��tL�\\x12� ��$\\x1e2~�u��Դ�ܦ����]gJ�\\x1cU� �1�p�\\t\\r�?�s�:֝=��\\x1c�j\\n�*I3E���\\x05�6�\\x01\\x19ns�c���M&����\\x12 �M[WX壕��*\\x00xW���NX``��B2��46g@�f��\\x1a��J-�\\x11L��\\x11\\x02�\\x0b7��\\x1c�p8\\x1eNN<u�#�tk�������Q\\x1c*\\x13a\\x00� \\x06o�R|�>��GF\\x7f\\x10��}\\x1bF�j��_V�1Z\\x01\\x14a���\\x1d��r2�����0|$ӛK��}<�\"�ڰ,^�\"#,yV�\\x0c���q�sҮ;^Fe�Cn-�KԻ�U�q�\\x15\\x1d��UpQAS��\\r��~\\x06@�㬴m\\x17Q��$�-�f�E{6aebAVǦ\\x08�yϞ2>GZ�]�CR��ս[�|�j�\\x19�\\x0f�\\x1c�s�9\\x1fo��a��Sm6[�\\x08�P\\x15Vm��~�ۉ�9��\\x03\\x1dhfe\\x14&Ī�7�WkW�v�D�x�\\x17���H˪��>01������\\x1f�H-���h�Q�I=#\\x19c\\t+�\\x10�9\\x19�I<\\x03��~�\\x16/k\\x16\\x7f�C���F3\\rYіX��;�\\x08\\x19 \\x13�\\x0c�N@�t5&�l���6l�+��)\\x14R�Yr8g\\x03�\\x00�z@�ي[q읱cRҭ�\\u05f5B���b\\t�B`2\\x03���\\x12���\\x1c�t5����PV���g�$bB�\\x06���(��\\x03�ǁ�4;�K�=���T�\\x05y�\\x18�HF�\\x1drx�\\x0e\\x0f#\\'���\\x1d/�\\u07b7�\\x1dBK�W\"4h)\\x04e\\x068��\\n�\\x03�\\x1b�-�rs����PZ�F}Ի iݹ\\x1e�D��I\\nEb)I\\x1e�8.�l\\x1e\\x08�������3K�4��+6\\'�4��.p[$��I\\x04\\x17\\x198�\\'���ͪ�}ʕt�V�\\x11�/$\\u0602���#gs\\x0c�w\\x1b�<.x�]\\x13C�hA\\x0c5�8jM\\x05$��J�\\x14��Iow�g\\u074c�\\x07�K�Z}�5�LX��w^�\\x15jv+\\x17�a�j�\\x0ck<��6\\\\p\\x00�8 ��1�n��f�$�U��WO-\\x15�W2\\x17۸�|�@��@�ۦrj)m���n[�KY\\x19*�Ja�UR\\x07��\\x01�1�\\x0c\\x0f��\\x16���zUY\\r\\n�R���A�� �ݤ��U�r9�g\\x1d\\x12�V�&�\\x195�cRI+T�^��=3\\x0c�kI�0̹\\x04����pH�g#��{r}q\\x19�P� �)zO�X�:���\\x1c�L��=�\\x18�����sY�\\x19�@��5�а�m�$��\\x11��\\\\�rF|\\x1e��~�֓K��đW�Q��\\x04�2l?�7�A�̶\\x00\\x1e\\x0f\\'\\x04p��x\\x10\\x02MϺ4Q�\\x1a����lh�9#�J\\x03�.\\x7f��y�0ODk������\\u05eb#�Qe�%EF��\\x1c�3�\\x13�+s������^\\u0e67۽2�F�e��\\x04��.\\t\\'�\\x0e<���v�\\x08�9�x>�ES,�<��9ق�q�\\x19�A \\x01՜q��\\x19]oF�F�3GNkj�\\x1a8�e*�0��+��Q��c�v�\\x1d%�i-jzM����ܭ9h@c�L���\\x02\\tl�\\x1c�p\\x015\\x0e����\\x1e��$j�������Fq�D�*\\x06X6Y��\\x03\\x07�u�;F՜ �SPYf�c9e\\\\��r\\x08\\x01B�}�q�q�4M�Q�c/����\\x7f�u-�dP�c���\\x0f\\x04�2\\x17$\\x16�8�8�S��$�n�*�0\\tl[�YJ\\x03<�\\x119Px���>O\\x18�=7�e��h\\x1a>�Z�)�g�\\x04\\x04D�@�,\\x1b;0\\x17\\x1cx�\\x1cu��.k�j\\x1d7K��a��M>Y��3�)|\\x12Qp� g���\\x15)��uԎ�;�u.\\u07bf��I�Oj\\tM��,�Ln�����鮉�VӞ�@j\\\\�nX��fp\\x11�Wi\\x02\\x1c��r>\\x08諟�ڵ-�}K��\\x1c�,+5z{W-\\x90]�I��\\x7f�T���\\x17V}1�$��rm�P1���qP7{�\\x06\\x01<uvd\"�L�cb7�\\x12�٧�jԖdVh���m�Uڹ?|��\\x19\\\\\\x0e\\x0f\\\\oYѻ���Q}\\rէX�\\\\!��2A;�r�$q�]�.��ܰ\\x1b��j�\\x11ڍ�U�2U�@�\\x0f�\\x03���Ԧ��G\\x0e��Wⅎ�Vs\"m\\x19�\\x0cG\\x1c\\x1eA\\x03��=G\\x11d5Q�^�E5;v�T���S\\x18��O��\"+�i\\u0ff7��\\x01��\\x11ܚ\\x1e���Y�6��z-=�\\x1eU\\x0cW�q�\\x0c\\x11�� \\x0e\\t��U_�������^���/�\\x15�+�Ĭe��;9�1�>O[.����^[�%x4�$/\\x13�\\x11�����d?�S�~�㎗�G3���\\'�]V�н���^I��E1\\x03��$\\x12\\x0e9\\'㮅�j=����Ԣ^�Zm=�D��?�*�N�%�܃v\\x07�3�\\x1dcT�\\x14\\x15m�\\x14љay#�ea\\x14��\\x0e2\\x0f��`\\x07�A��UKϪ�\\x0ffݣ��:��\\x01�\\x0b\\x11��d*Jg��\\t�s���f[i�\\x0fr���R���Or�y$�\\x18�4`��L�Ŵr#a��\\x18<q�Ծ�~�\\x00pX�=\\x08�֧\\x1bD���\\x10\\x1c��$\\x12H#�\\x11�:���]�Sw\\x17&J�\\x00J+\\t�v��W߁���䜞\\x0f�H�M\\x0bQM?��\\x1ar���RH_�-�C\\x15s�N9��9�~�N �� ��N����:�jA\\x05�\\x01�7�k\\x01\\x1b\\x126���K\\x15�������V��ڱ\\u070f-�ro�GyH����\\x1bb\\x19�H��\\x03�:3A��v�+6�\\x1d��%��YH���P�H\\x1eߐ9R|�!�n5�KX���\\x1c�\\x00I��(�\\x11D���V\\x19bW\\x079�\\x0fRc�\\x17e:��v$\\x136v֛6�\\x1c>�C$ibJѡ�����DſT@`��\\x0cc��T��MI��\\x130y��P\\x15\\x05юI��8�#\\x19�\\x1dg=�t�>��h\\x19]Ȋ3\\x1cĜ\\r�`\\x05\\x1f?��\\x19�7ԫг$U)�87�0��҇-��\\x123��?l�<c�4��7\\x10�Q����Hh�\\x0b^H�؊���\\x0c6��J�K\\x0fw�s�x�n��ul1��*��\\x1c�\\x12�\\x03�\\x00�\\x0f�dr\\x0fQz��=;�4����g�;I#�\\x00� �1\\x07\\x04pI c��c�\\x1d�\\x0e��R�Z텱\\n�I�h�4�G\\x00��\\x00N1��=P\\x05+��G*��A=\\x08]��\\x1fS\\x0c��b�=)���xl1�\\x1c}�窞��U\\x14,E�\\x00ğ����\\x1c��~\\t�tL����y,N\\x1aH�eGh�\\x08\\x08�Q�Nx�TZ\\x1e�R�\\'�fβ*��Dp\\x02(\\x1f�Y��? �t���g\\x16��a��5L�h6\\'���\"�@4��?$����^z��;��q)T��\\x00\\x1c\\x1f��u=j}V����\\x0b�+\\x1a�co���$�8�8�u�Lyn\\x0f㯭���cQ�nh�EB\"�/E_����\\x1fpټ���\\x1e\\x7f\\x1d\\n�`\\x1bO�\\x1cu�\\x00���:̪�\\x1eӟ���\\x00\\x07PM\\x01��\\x0cs�y��:g����ǂ�\\r�|t\\x02���~���\\x19��\\x02\\t\\x1eO\\x1f���:=T��\\x00q�G��YP�\\x19�\\x00d�в01��G?���Q$�4�8�6�@�\\x07�:�B�O�5ZM\\x0e\\u05f7\\x12�!�7��\\x03\\x19䟷J4�\\x10�5�)��ë́g\\x01���y���)j=��\\x04P�Ȭ=F(\\x1e3�[q�$�\\x0f�<|��x�i��h�A\\x1a����2�\\x16݊I\\x19*��;��|篝�\\x00�g��7\"2J��#�\"�2<R\\x0f�\\x1b#\\x07�u�6�\\x1au�,̖\\t�x��G��\\x1e�R�p\\r\\x07�hd�G��\\x1f��\\x15\\x1b\\x01�2\\x0eT�>3�:��u�G�n��fh1f���\\x1bI;�8�\\x0c1R\\x01\\x1c��q����_��\\x7fQ,6.:�Ng�\\x07��d��s�+���\\x0e?��ԙi�Gf�A�\\x15_>I����\\x00��\\x0bV�\\x1d>@��q�iKĭP\\x0fP�Ac�\\x0cq��\\x07����]ê=�տ\\x0c�}:��8ޤ�heb?Xb�S�\\t��\\x7f\\x13\\x05/\\x18��/-�n_,��ȆDV�H\\x1b\\x18?#\\x1dj]R��\"���g\\u07be0?�ώ�(\\\\}:��Z�ʵ�Q\\x1a+4��͂�pA��\\x18��Б�\\x16g�v\\x05�SV�)zJ�auiH\\'p\\x1eF�F8�\\x0e:��\\x00�2R����\\x00�\\x02�\\x1a�\\t���v\\x1e�y�UP�\\\\`���<��Niކ�Bh=���9S�A\\x1ds�g\\\\]/Q����\\x04\\x02\\x052\\x17�\\x1c\\x1f\\x18\\x1bG\\nN�\\'��ƕ�J�cS�\\n%[\\x13o�\\x1aA�P�\\x16>\\x00�rW��Ա��?7���f��]x�\\x06�\\x00�z�����\\x1d0A�>��\\x10:�����f*�H-H�n\\x18X�|(\\x7f\\x04��:��VX\\x03ǵ����:�\\x13�&o�cMOO��7�9����\\x1b\\x15�\\x03\\x11�\\x18=>\\x01y\\x04aXr\\x0fA�\\n�e��9�ۭ\\n�\\x18\\x0cEkd\\x1c\\x01�?���l2����\\x07��H$�+#�<\\x16\\x19?��\\x03^d}���\\x07�\\x00��4gBd\\x1f\\x1bG���u�j����l2/�\"=ι�\\x03�\\x00o�O �%�*�s1%w*�K}�=\\x12T���~z�L|����s�t�n֚�MR7�\\x03m�,aF�%�\\x07�\\x1f\\x1e:�u��ޭj\\n\\x03�\\x00\\n�BG6\\x04��\\x140*yR3��u�\\x0eĈ��Ө)��\\x18d\\x1e<\\x1e�\\x1d�\\x02�c�Ũ�I�≐{\\x06y\\x04�ǟ�@���]}��:��\\x12�P�� �zV\\x1e\\'��БVX�\\x1bJ��\\x01�\\x1d��$c�鎙b)����T# i�\\x0cd�\\x04��\\x18�\\x1c� \\x1e:�ҴI�v=W���3m�\\\\/�\\x05��y\\'\\x1f\\x1dTh���\\\\�4{��o���\\x03��k��\\x0e\\x7fP����UE@\\x08S(�Th�}2���\"^_��2��*��\\x04�.��\\x18�G9#>q�&������i�Y�\\x1c�#��L�\\t>��\\x15���1�N\\n��A\\x07����7j��Z���uy�����\\x00�`[w\\x18�AN\\x00$/��u��Qk��j:��\\rk7���,�A�\\n\\x11\\x01 \\x1c�\\x00�1�\\x1dW\\x1a�$�?)7�j����#W�6�����J��d��X�|\\x05*\\x061�\\'���ZAѵ�v�04�~�u\\x05m�2� ɑ�\\x02\\x02��s�A\\x18�zu��lԒO��#E4���\\x1d��(�JŘ<��R\\t�,I�����y�\\x7f��\\x02A=����M\\x19\\x16\\r��UW\\x03y\\x1cg�\\x1c���P���E��j\\x1a|���V��׳\\x14��ò��!\\x1b�pJ�\\t\\x19\\x04dg���_��-1�q=m\\x13��w�&�@Y\\x1b;�f\\x04\\x0c\\x10\\x14(�\\x04���\"�����\\x14����4�\\x06ɬ\\x08±8VF���P\\x08�\\x06\\x0f���N�G���GA�ƟK� ��\"�\\x12&[\\x00\\x13��\\x08\\'��\\x03=L��Fv�\\'��ӵ��.�\\x15t�LIjD���W�HPv�H#vps�v�kP�\\x7f/5a�eS-�N\\x0e]d�\\n�\\x00nI\\x0b�\\x08\\x198�\\x18\\x17C�4�һgK�j�{\\x10��\\x1d�\\x01��.�\\\\)%��� ��b>3�n��J��i��Pi�����g��fD)��\\x01¹$���#������\\'Uũ\\x15^έA\\r��h�.�@�gd��\\x10���}т�\\x07��\\x1f9��[]�b�ZQzP\\x14.eu\\x0c���P���z�\\x00w��=R�:\\x0e��\\\\h�\\x1d�`�C+�\\x01^E\\x12\\x12\"\\r��[\\x04�\\x17\\x0b��g��\\x14���]BƟ���#\"\\x02\\x17s6�*\\x1d��d\\x0c�1�\\x0eNOH�\\t�ȏ�aZ��~ܵ4�*\\x18i����%�\\x0c�\\x10W���p~�9�۱}\\rN�A$�uH��6>]Z@Y��\\x15�G�\\x07\\x1f�\\x17���Q\\x16)#Y!lI\\x17�\\x1b۟p\\x03 �\\x1e~3�.��\\x7f�>���Z�<���5��\\x15a\\x1b�U�G\\x039Ϟ\\x08=?\\x16u�����\\r�E=�ړV��?^�S���\\r�m\\x19\\x12B����o�\\x10\\x10���y�Bhz�S�*Ӎn\\x16���\\x0f��,�����8��:��z��\\t)ז\\x1b2ʄ���#uV9e\\x00��\\x0c\\x0c|`��U{r%��Kji-֯\\x16�T�d�˩\\x19�\\x19�\\x00\\x1cg����\\x10��\\x10rZi�}��Pm:�:���d���\\x18�XY�\\'{mܣ\\'�\\'����\\rN��k\\x1a-j5���\\x16B��X�_?\\r�\\x00g\\x18 �UZĺ`�.�\\x03ַV\\x11;_F�\\x1d�S�����mQ�3ֿ�IӦ���mW�gT�ad�:�C]q�7��\\x1fh\\x03�s��\\x16 M\\\\EM?���n\\x1biP�\\x15�pF�f9B� �\\x1bJ�$\\x03�\\x1c\\x01�z��ڌ:\\x7fg�1�^f��:�E�d�z�s��\\x03\\'�䎧*��KN[1뺖�+Xu��;��\\x12N� b�\\x1bKrx�\\x0e\\x0eOL;��*�}��izd�e�;\\x08�2��r6ӹ�\\x1eA�\\x038\\x1flg�бf!\\x179��g\"�mI\"Ic\\x00�2(\\x04�qݎ\\x01��~�1��Oz�Z��I\\x0ede��\\x10!�FpA!��|��Ω�>�B��Ԍ��F�H&(\\x03����\\x00��>�\\x19�~�\\x1e�t�V\\x13\\x19\\x0c���g`#;~�|\\x00G�9�\\x1d\\\\�\"�H��R�;\\x18�\\x1d�C��KZ�1��\\x05�&P7��J�ݐF:�ҵ�%�ӭ�\\x1c��\\x08�d\\x1b\\x10�F�X�#݂~���Y%�Z�\\x17��Z��l̯=V$�]�a�\\x07`\\x03��+�z{�\\x00\\x0eл �f\\x1fN2�Rj����\\x05v\\x10\\x01����#��>\\\\\\x7f\\x11�h��W^���-�̪�D��\\x19�PT�c\\x1c\\x0e\\x07<�GN;����hV5\\x085\\x16�\\x06�\\\\X1��\\nBJ�ul\\x16ݓ�i���V�Y�MJ�)�4�\\tz��3*�1>ܓ��\\x03�\\x0c�˹\\x7f�O��ȕ�OI��\\u07b4�\\x1a�\\x17n_���1�y�\\x04�0��f\\x1acW�Q�ְ�$R>cj���\\x037������\\x1f���v�y`Y��Fz�\\x18%9Y\\x15[r�\\x19Ry#�\\x03��\\t�>٭�G@��\\x14���B�-VBB\\x17\\x19\\nG�)#��8\\x07�\\x174[�R��V7���<�X/��N\\x08��0Cq��\\x00��&�j]X/B\\x11�D��\\x1a��t�\"��\\x1c,���{eb�F\\x0f8\\x04\\x05<\\x0cy�G�����:\\x16��=oNiTI�\\x0b�\\x04�I\\x04��@�=KTд++\\x05+\\x16\\x0e�����& H�,s�\\x0f\\x1b|�:\\x7fNY5�\\x15l�W�\\x1a/�1��R>K\\x02F��ǁ���\\x1b:����`\\x0e�\\x11�߽���m(�b�_B��*�1��ˆe9�9\\x18�9\\x03#�rv�o���O�0��?�k�\\U000a3e85�+�1���r1�\\x18��\\x1dZ5�$��Ke\\x05_Q��D��\\t�YS\\x01W ��$�sԕ�_�\"�\\x15x�R1Ŷ4\\x0b�\\'s)(\\x1b�\\x05!��㨡{2���-;K�[����]+i�v��)%�uRrY~r\\x7f�=\\x0b���u\\x0b6.h�L��i\\x1d��wX�b\\x08P�y�d\\x1c\\x0f\\'\\x03�=.�F�t�ޝ��*�lI\\tQ\\x13�̈\\x19\\x19���C\\x02[�`c?=8�w]��4kt��f�(#�G�+����H+��<g�z������}�ݚΟ[N���b�H&�i%ca&�K\\r���\\'\\x7f����CL�~ͩ5[��T���B�=F\\x12(\\x05�\\x08\\x040P�m\\'��O���f���G�\\x02�zS\"\\x12�\\x1d��*�~���\\x00ϓ�=s���X4)�i��yR�j�\\x04d�&�\\x0428l���x<\\x02>�(92\\x1a\\x11�T��T�O2��Fԕ%���,\\x1e�>È�U\\x1f9\\x00�p3��Hmj)5\\x1c�5�i\"a4�\\r�@�c`y\\x0c1�?��t\\x16��I����M[Mk�+Wg��\\x10�}c�\\r����\\x04��\\x1c�\\x07\\x19��SQ\\x16\\x12?�U��(�<R���\\x1c2�8%��\\'#8ώ�\\x06\\x06�OW\\n�\\x00�Y[X�\\x06��=�\\x13|��WH�6�<�v�!Xd�\\x1d}�)��c����c�q�)�\"i\\x1c\\x05r\\x01��\\x00\\x01�8�tWo��u)iZD��L����0ڌ��*\\t;�!q��#�t�$�\\\\A�\\x18\\x0b�����\\x1e%BB�J�oF\\x05x���3gpw\\x1cq\"B�F����%�&��Օa,�3��\\n�<}��$�������\\x0b�;�\\tmN�t���k@p�#���\\x7f�|c�\\x1dt{V4�\\x1fM��7�f^DҨ��� ���\\x0e@$\\x7fh�t&�cN��1ٺ��\\x05ZY]�h�P\\x0f$�%FO ���W�5Uw\\t\\x04\\rM֥����\\x1ck:���T��\\\\�\\x10s��q��3積_P��E=�-[x�TH}%\\'\\x0cN}�����>�\\x1e��Q�t��CPJ��00IQ�\\x11\\x1beL\\x0b�\\x11��[��M���\\r��\\x17,\\x19�yX^r#U\\x00��\\x17�r�dg8�\\x19낅��H�\\x1e��-{��{V}[�T�J�p\\x14aH\\x07\\r�\\x7f����&��?�4+b��\\x11 oN6��rq�\\'�y��+u��+Xҵ\\x0bFI-\\x0b0�Ib\\x12���\\'\\r��s�>\\x07=Zɢ2IV\\x1a\\x01ea\\'����\\x0e<��o9?\\x18��\\x1d\\x0c�W�R5$ǔ���\\x1bw\\x1c�\\x08� B���$�r�ݍ���\\x003��\\x1cd�죩hڕ������Ze�^Ib\\x12\\x10�?�.�\\x07�<\\x00G��wd�,C3<\\x15mK\\x14��8�\\r\\x1b\\x02J���r�`pF3�8)o�֚{\\t��[5,����ep\\x13vI\\x08H<�T�s��<��\\x13 +C\\x7f�3���]\\x12��N\\t.{Z@���c�\\x1c��\\x03)��\\x0f��\\x19�u��5��\\'�\\x19\\x0b���p�g\\x19�;@���\\x07K{~8�@ɡL\\x05\\x02�Q\\x00\"%a�n?����<uS�U\\x06����N�QK\\x13\\x16C\\x0e\\\\��0\\x0ey \\x01�8 \\x0e�p�r\\x17u.�X�\\x00^ףM5��!s1\\nLl\\x0f\\x07�\\x04~��v��b\\\\�q����#䎙�\\x1e�Vŧ�Lw�����YX08\\x05�\\'���c\\x1f�JU���_Y���X��9��U?���*O\\x03��u�8�A�\\x0f[�c����t�$7�}�E����\\x1b�����>y���ĉG\\\\z�\\rt�#��~\\x07E�U��byC�\\x0f[+�$C\\x19�~�|}��=Ȩ��(浔V��\\x08H�O��\\x1fQ�S\\x02rxa�\\n�\\x18k.�\\x18\\x1e�P��>\\x01�t���>����,�-&�=2��\\x00N�\\t�0\\x01>?\\x1d&��N�l��2��\\x19]���\\nG��x�\\x07#>pp\\x07���},��mn4�h#x�m�D��2}�`G�\\x0f\\x07\\x04�6��q�����.†d���A�i�\\x18�MCV������1\\x0fMb?�Ԑ���}�?8��A�_Ӡ�ܩ\\x15Z��G\\x146\\x04�$k!�)���\\x08\\x04���\\x025ȅ]z]>�\\x1f�\\x04�\\x1f�1Q\\x08©E`1�#q��\\x1fn��\\x08#��i��VӨ�W�\\x1a\\x03������@U�ĐNXq�u��\"���0\\x00�����{����ڂ�:�m\\x15�Jf9\\x18\\x15�\\x00�\\x1bH!�\\x0f\\x04y�\\ue7e9�ʗuk�X�v���7����c����8>O���*)�Z�qWY��\\x1d\\'�& ʾ�\\x01xa�\\x103�O\\x1c���N�����(��eyɑ_x��\\x04\\x11��ߖo�8\\x07�\\x07��\\x15���F\\x04���;�[���t�b�AN+BQv�\\x02Iԩ.���pnpI\\x05zWf᧢6����/Ot�F�\\x02��ڈ\\n�d��F\\x01\\x19\\x03�\\x1bD��ִKZ����j�3�0D�%W\\x05Wh\\x03\\n߰�\\'秚�oK6��=ii\\r&[0�\\x14\\n�ü��\"�6\\x02\\x0e��pq�k\\x1a*�*��F���\\x0frh4n�\\x11�����B����LaF���\\x07���:��`�u�ȯ�h�q�dE\\x106��)�p�\\x1cc*~1σ֎�9\\x1fG\\x14*G�ܫ)YEi�2�F��G�����|��qr�j-�iZM�.��\\x19�<6T\\x08X�v>�C\\x1f�a�N|\\x1c���U�\\x14��\\x13bh�E��5�D\\x7f2ԕ\\x19˳0�UH`�\\x08\\n\\x18��O\\x03\\x1d0����V��ǪE\\x1e�R\\x7fV\\x15�\\x19\\x01|7>�Ǟs����i\\x1a���[��)�B\\x15�w�}Y\"�\\x01�=��,�Y��\\x19\\x1dg����-\\x1a=?N�IiD�==ˑ�d��[\\x07$d\\x0c�z샐�~��\\x08�~\\x18T\\x17V;�i�OU���\\x0bT�\\x183\\x18�\\x05�L��X���\\x1f~�_l�\\x11�\\x04KW!2�\\x1bDc��?�~p<�� �\"�Z�G�J�#$�k� �\\x01ǖ\\x1fl�OߪYtzT\\x16��k\\tV�\"9�3G�$s��`d��\\x03�|�\\x1c��p�\\x0e⢾�\\x13����F\\'(�o�\\x1fpz�*��$x�\\x00��;�;�H�5ƿ�\\x07����\\x19��\\'\\n���\\x03\\x1c��~z����j�eY%����)%��\\x19�x?�\\x0e|u��\\x7fX�4�2�\\x1c,-�\\x1d��\\x1e��F\\x0b��7����ޤhX*H�\\x1bi`H�\\x00��tR�\\x03�2\\x15.�*��G߭š��\\x1aR��X������\\x1f�����,aՕ��m��|��鍈Iq�Nx�t�GAe�\\x061�r�$�����\\x15:(�/\\x7f/��\\x142`�\\x06q�\\x00>��ҧ�יn�W���R]��ب*\\x06<��p|��z�SG\\x0e�C�;\\\\a�\\x04`�\\x0f��ԥ]\\x1e�;Υ\\x08��a\"�`���\\x1f�^\\x7f����qXX���\\ry�\"\\t\\x1ed�F\\x1a�X��F���I-��\\x07\\x1c����K]�-(���������\\x08�V�`\\x0f\\'f���\\x0f�]3Q��-c=�Q+N%�\\x11��f\\x1c��O�@ y��k�L��\\x05�V\\x07�H#�;�\\x18\\x08\\x10m�\"�ϴ\\x03�\\x1c��\\x1fN\\x0f�ɵ1��)����X��%�dg�\\x1dB�RᇬTp�\\x13�$\\x0fil��GU��0�{�\\x06yv��d_npp��ۂ1��?==�\\x0e��\\x05X��g��C\\x1fԥ�S�1��\\x14�[�)�ʹ�|��M�,�\\x04\"[5��Ϣ���np�\\x08�`�\\x01\\x1dzM�\\x0e�{�B�湯Tӭ�OP�jUv<��3�2H�\\x07�h�T\\x15��y�笡�c�,�\\x7fZ4�ޫ\\x08�Hj���\\x1b\\x04�D��9���\\x19��.-:���\\x14��\\x1a��z���)�\\x12ь�#\\x1c��O���\\x1bU��\\x7f�J��W\\x02\\x07��=Q�\\x08�\\x06\\t��c\\x07Ϟ��\\x16��B�\\x08;[K�,R����=�\\x0bR�\\x00�d�K�|\\x16�#�GZ{�A}*���Zv�Q��\"I\\x18U�\\x16�Ͱrr\\x07���;:����V$\\x11�i��\\x1eX\\x1c�\\x05�r�\\x19�1\\x03�����wT�j:��B}]OHFD\\x137�a\\x08 o�\\x05��p!�2\\x01��J[��B@=\\x08�D�� �\\t��\\x16t���Ա\\nF�;�˹�`���������\\x1d�SS��+�?�j����F����B�\\x0c�eG�\\x1dc�V�܆�:w�jԤW]@KR \\x1a\\x12�\\x197/��\\x07�<�$��:e�h�V���\\x167C\\x10\\x1b@��Y�� rGT&�Cw\\x00\\x02H�j��5���\\x13=�d�P\\x1d��}V #3(�)\\x04c$q��\\x0f_J��ڞ�5��4�ň�\\x104�/��\\x00>⧜m���Z����\\x0cմ�N\\x08ϧ;)\\x0b�\\x13�_#�\\x07��|��\\x1dè��}\\x16�k�լ�4W\\x11n���6FU\\x19\\x1e�8$�m#�:m\\x1a��\\x11�TnB��)��5=CҊݙk�\\x12w�R@\\x05����*\\x0f\\x18��\\x0fn]ӻ��[u���6TJg���\\\\��\\x08?��\\x19\\x18�:mj�\\x15�\\x0ci^;,Ҵp����\\x15�/�۞I�@�kG�(�zX��l<�%x\"\\\\�8\\n���\\x01\\x07�ώ��+�\\x19�\\x0e`���J���V�۔f�,B�\\'��1�%v��<\\x13�\\x07�%��c�sj7����\\x05#Fh�\\x14\\x15��\\x03\\x048\\x1e�,89$���TT-�(��\\x1bR��\\x19\\x126U�dd�`So\\x04�d�s�\\x1b�CCK[զZ��\\x10�c�$3�`�ps�\\x00\\x0c�\\x00���bx�AT$�\\x195yi�����\\x05��\\x1b<^���\\x08�[h�\\x18o�����*\\\\�\\x05�J�\\x00�\"��\"?\\x0c���\\x01!�s�}�3HxH�V���ŌqK\\x04%�ؒZPO\\x0b�\\x03�F>9�\\r\\x1aʛk^\\x08�J(��\\x19�u\\x7fP�����\\x07\\x19�z��L�\\x01\\'��&�O��\\x1d_觮��C*lG\\x1eѵJ�U��\\x0f\\x00s�5��{�R�\\x17cn�z�\\x06ɝ���c�8�3�z�;���]5:�$�I$\\x02\\x19��8����A\\x1c\\x0c\\x0c\\x10>�$��ZwkV�\\x05Y\\x17NX�<�fb�\\x19F��8\\x00\\x0c\\x01��cb\\x16��\\'(�L�\\x16�@�֚�\\x0f�R�+Vi$�6$������\\x1fa�\\x1e��]#V� Jz,�h$\\x0b\\x15�G\\x1a�e�/���x\\x1c�\\x0c�y��~���;v楦ƒj�~��4�GT�����W+ʯ���\\x0ez�}�\\x12���oc\\x11�b\\x1e�9����\\x00~�$\\x0cK\\x11�\\x0cOB3Ѧ�:\\u07b8��dD�Q P��@\\x01��H������\\x16�z�\\x1e�o^[H�f8\\x0e\\x17\\x04\\x06�\\x19��\\x00~z_�Q�oW�m�Q�:�1���<�U`0\\x18\\x03�#\\x1c���S��J\\u05f5\\r\\x12h[NQ�a�\\x16�\"?ݻ>9����\\x15Sw\\x02�r\\t\\x11\\x1d)!�=a���C\\x12K\\x1c{��?<�������ޭ\\x0c�t���\\x16\\x0b���\\x036C`m�`.�dg���д�wX�]�Q�,��J#opgC�\\x00��\\x08\\x1f�\\x07�����|�%��\\x04e\\x1aP\"\"DTS�}�\\x8f��Ҩ\\x1d\\r��<G�~�uj�)�1��H�*)�1�\\x00\\x0f\\x19#�O��k��:��\\x1aʪTv\\x11IYeh�x��\\x00c\\x0fq\\x0c\\x0f8�?���n)\\x7f��ñ\\\\��$�\\x06\\\\\\x12\\t��\\x18\\x1f����#w\\x06��5W�c\\x14B$ЀR1����9#���\\x1dI��\\x10e�\\x1dy�5�СZ�rP�\\x07Ԗ\\x1cI\\n�\\x16\\x01�h�C���m#����枔���A�i���\\x1a�IeDE\\x03\\x1b^3��\\x19�?��7l\\u05ebN�ylC��L�Xi\\x17��@�rNp��8\\'�4\\x16��p��\\x16jo\\x04�����\\x06=�0nNx\\x046Nx= b4wPq�I��SJ�z���*\\x16Z4&��\\x08|n;H�bA�A�ge�ѿ����c!���\\x1d��o�Y\\x19�\\x19\\x04\\x03�\\x00�ώ�j�����a�\\x05��VI�bY\\x08S���\\x13��\\x1c� ���gp��X���\\rIX6u \\x11�R��2\\x058oq�v��@\\U000c2f1e��U+u{M]K�,N�|�;��r�\\x1906\\x1c`p�`���3��}�f]#N���\\x167Db��XV\\x1d��2�yV�9\\x03�9�^���/m�}r��\\x18-*�\\x05u�#,B\\\\\\x0c�\\x19o\\x1c����Gۚ����u/ԳQa���z�I��E\\x1a��Jy9^6����@҂;��H�:|�E��W�jQ�\\x17w�u�B��\\x05\\\\\\x00�\\x0f\\'<��Ӱ�\\n�iz��h�[[�<)�$��2�����Qx? ����z�]�v{3T���f�\\x12z�p\\x02`���c\\x1f��\\rw�4wv�*lکY\\x1f�}��|r�\\x1c�G�\\n9��:�p㉔��\\x1a�v��CU\\u05ec܊F1\\x9e�C&q\\x1b\\x16 \\x11�\\'�\\x1e\\x01��ߣ��!�M��\\t�bJ�\\x01\\x04B�\\x05���H9���\\\\X躎�^O���(y\\x086Dg\\n@-��nG�GT���oOf��=�\\x0be,�L����f��\\x05G��\\x1dh8�`Ţ�ι�\\x1an�rI���t�\\x1d�{G�˷�Ď=۸�\\x16\\x1c\\x1e\\x07O5��Kp?���h�\\x0e}A\\x1a��H�C����8�vww\\\\��\\u07b5�\\x1aM\"\\u0558���8Q(\\x1bD��c�r<\\x11�:�5\\x12Y5�M%#zvae�+lb\\x01�2�e���\\x00��:˛\\x1b\\x06�b�\\x05��(<�ŃNe�M\\x11�\\x00�t�z���\\x1f�?�8\\x1d-i�x�V�H�2��>����\\x18\\x1c��\\x18� �Mnʂ\\x19R���poxZX�Q�\\x13\\x1b�ma�1�7\\x1f��:��a�j���I�I\\x18��\\x07�\\x07\\x05y\\x1e\\x0ex�\\x1co�\\rnAj�M�R��x��R��<Umd�Y������9���Oby\\x1d Mb��Բ���\"\\x08]��1�p\\x06s�\\'\\x03<�e�X�j���}2ř i\\x04v�̊r27|�� \\x11�ZN��=��wY��*�I�;��\\x1b�cݓ�G��\\x1b�ND٧E�-C���Jfb������ۘ\\x0c���q�\\x07\\x1c�д�SO��߳�\\x1bk\\x1cm,��P�I�Tn\\x0e\\t�\\x00�\\x00��+��Ug�%Ե,�ny���\\x08i\\n��a��\\x08V\\x01N6�\\x7f�2�kOfY\\x1a%گ#4 �$��`���vG�כ�/6(��:�,j�Z��\\u0605!�\\x04!�\\x17Ɇi\\x18\\x00T�^\\x18\\x13��@\\x188\\x1d#��]��zR+G9�)��a�q�\\x08��s����[$�\\t �\\n�A$�U@�����v�����FO���д8�VVJ�ZI�\\x1aɹ�1�YA�\\x01_\\x04}�ԕ\\x062,l�\\x19Ac*�;��GMdE��Ʀ�q��d\\x058\\x1cd�a����tn��\"i���V`�6��89��Щjjt�tef��#\\x15�#\\x1f\\'�1�\\x0b�-�\\x11\\x0f�\\x13ؤ�\\x00\\x7f��������ɹ�\\x0e\"��&F��?�ѰW�\\x18\\x1e�����\\x12���$\\x05���\\x1fF(�Y��8l���~�\\x00�^��\\x08\\'\\x01\\x10\\x18=0���y�c�����\\x16���\\rS#c�\\'jy�\\x1f���3\\x19\\\\\\x1f�\\x1e�\\x1c8�\\x0fPwB\\x7f���K��!\\x1f�����\\x03\\x19\\x07��}\\x15\\r:�\\x19,p\\x0f��Ӟ�J\\r+OifC�U#�\\U0005e95fJ��rF._dWiR \\x1d�ϸ\\x0c`�1�\\x7f���J\\x15�y\\x19A^Ww��\\x1ds\\x1b��GI�-j\\x13K\\x14��G��\\x17\\x0bE\\x14-���9�@\\x03#�?=|��\\x17�\\x18c\\x1d�5`\\x187v�T��r4���\\x0b)A\\x0f��YHa�h�G\\u070f�x��T�6�b}\\x06){��6��>�� �\\x16ø�k��#\\'\\x19\\x19�\\'�zH��\\x1a���\\x15Ku�,�{\\x05t\\n\\n��y��\\x1eH���zt���7I�\\x05��jVX��I�\\x17a�6��||�8�(�\\n\\x05G\\x03��*�Zbi�mJ�mWO�ա�ђd��yRA��ǃ�<c�\\x1d�\\x14\\x13AN:�RI\\x1d��D��\\x00)pv���� ��\\t禑Hj�{R\\x01��\\'\\x19s��f@�\\\\\\x0e\\x008���\\x1d\\x03KH:��冲�!\\x11�tx,�FI#����>�K\\x18�ܼ\\x0e�\\tf���]\\x1a֞�5\\x1a\";1�F\\x10�2��2�\\'�\\x0c��?\\x1d%n�J��~�{szo\\x05f�M�\\x16e$�6�\\x040\\x18���=VU�{�\\x1f�am�\\x04Q_*j\\x17�LUr\\x17��\\x0c�����o_�/��j�*�\\x07�\\x08��X�e,3���\\x01\\x1cq��u�\\x08w��DGQЕS\\x0f�z/nG�_Dӝq-ha\"R\\x16<�;Ab����8>:��j\\x08;��hze���f��Q�d�\\x01vX�#$�G���OO{~k�Sӧx��$i�9!�\\x19��\\x16�\\x0b*�\\x00iǌ`��㎖�����={\\x14\"�m\\x03�,�]�D��؛I$s�?��C��~p=�\\x00F\\x17�v�v�:��~��=��\\x14�bc�\\\\�\\x05��Yv���\\x1d\\x03�:[��,Pa\"ET��\\x19cąq�\\x08N8�X\\x0c\\x10wpGE^�t�\\x1a9�i��i�Yo�\\x11�&�\\x10w`\\x1c�\\x03\\x07�����c�\\x00�^�R�\\x1a��5 �\\x15��\\x06�D\\x19\\x0c�\\x0e�\\x01G\\x07\\r�\\x10z���\\x1f\\x1a��€\\x04�ҵ�?[�\\x1aZ�T���\\x1cr�|8\\x03|�el��d\\x1f�Gk����塤C&�I\\x15}+l\\x1aV�m��\\x0c�\\x14����#��om�j��Y��Еe��G�3��n�\\x1b�6I眀zפAoGӠ�X�\\t�ر\\x041]\\x08Հ�\\n���0�6\\t\\x00��!\\t�\\x18kq�]�\\x06�����\\x1a�I�ױę�\\x0cI�S�\\x0f����M�J���O5�.,�R�7\\x14\\x00a��N\\x17 �\\x7f��}�W�N��\\x18+Ў/JI�Xʳ��\\x08\\x07�*O#\\x19��z�D��R��X��\\u05c9�Ԫ�p��\\x16C�I\\x03\\x1er1�<��\\x02���FO\\x06o2U��\\\\{�`���B�T͇�.�w����|p\\x00�:\\u07bd�դ�J���e/J;/\\x19dX\\n���\\x07y\\x04/�}L}�M3h���݉`�\\x0c�#X跠�\\x0b̭�E\\x7f�˂�\\x03����[1M��:mZҍ2\\x19\\x11����`\\x01�x#h\\x18\\x04��?9鈢5��l%�i�v ���W���\\x1a���(>���\\x00���=�zR��S�)�k\\x1b�5�ǜ�\\x7f\\x07���ZX�`5\\x05�L�F�i��\\x0c�����\\x0f�8��ڔV�hPč\\x01\\x11�h�\\x11��\\x1e>�z>��Pc�P���\\x1c��|�\\r��<~�P܂����L�P�V�q���\\x1e�K\\x03d�W�?bz��э\\'�i=J�U�+Br�\\x0f;s�\\x7fbz�b\\x103ǟ\\x07��W��\\x01%�D\"\\x1e���\\x18� c����t��8���\\x19\\x057�\\x04��\\x00��4e�5��ľ�C;I�$\\x02~���D�����X�\\x1d*�\\x11l���DM�\\x11�3�����q��/q���\\x05?��OA�����k|��pG\\x1cu��TN���jK��I�r���\\x0c��$\\x1c�\\x07\\x04d\\x11����2\\x00\\x1c��s\\x16u$ܽ�a�6T�%\\x03�FD���Ğ��-����\\x1f\\x1f�|t��#QF\\x194��R��r��j�\\x0b ��H8�ߌ���\\x05�\\x06�y&��zsXts��\\x03\\x00���\\x00*s�\\x06y��� �Դ~�ծ�\\x0c�ږ)5��!�@W�\\x00( �����y#-�\\x03x�kđ�B���\\x0c�U�g[\\x11�j��\\x0f�3��\\x03\\'\\x1f\\x1d\\x0b���dz�+�\\x13*.�\\x11��\\x1d\\\\6�<�\\x00g�\\x1f�[m�\\x00\\x11��\\x0e�U����{TΌ��*�\\n\\x17�\\'�\\x11�~���7!�Ҽ�*�E\\x1aU\\x0b�6�E|d�\\x0e<ey\\x19_<��\\x7f\"��7��_��Ok���3��Z�Z�bvF>�r?�\\x00\\x0c\\x00K\\x1c}����uS���$c\\x04�U?� �@��) y�&��h:R�u���r��\\x1d�_�T�q�\\x18�MWU�{Ҵ\\x15��ƅ\\x18m���D�NT\\x05�~\\x01\\'��\\x00*q]}%2\\x7f(]�S�O~�ٷO�};֣�F)�\\t\\x1c�����$rJ��3�I��\\x00�Q+\\x0bq���),�H�g{m\\x07�ps��A����K\\x04��&\\x17C���\\x08�#�m�\\x03�=l]:�*ڌ:��F\\x0e���pU�\\x0b�ڥ�\\x0ev\\x01�2|��@E\\x02��=��\\x19K�4M\\nD���zٞ:�Ш��bX�w��\\x05%��\\x07�\\x1dE.U�.jz��5\\x18u%�f�0R$#�\\x08�\\x15p\\x00_�\\x07R�kr�\\x1d�=�;a5�q��U\\t�cq�\\x1c��iY��+ڞ+��R)\\x17֪�Q���$�8\\x07\\x18��g�փ��߃\\x19��\\x03�ݤ�n�c���6E���t�Y#V�Y�o;rC\\x7f�g���v$v4� �i�:w\\nz��=E�\\x1b��\\x1eY~9\\\\��\\x7f�1�S�:���N��:��� gA�Ǖ\\x19�\\x1b�#�8�4�si7\\x15��,=�g�4�\\x10��c�����\\x07\\x19��ga�eB֤͍\\x16�}\\x12��;N�Z\\x18�)\"���\\u03a2OP�w�����\\x07�c�,_�4��Zk\\x04%V{\\x05�L�aFI�R@9_���]��U��kz��8\\x01��\\x0c0�Y��\\x04�\\'h�\\x1f��\\x1dAv�Z^�n�u�Cr\\x01<���,�Ip\\x1bl�\\x06 \\x10<�q\\x07\\x03�W$\\x12D^��;��f�oi1Q�<6�\\x12Aꐱnl6\\x14g.q���\\'�eMK_�nj\\x04IKӫ-U��G$�\\x19Pr8�����c\\x1c��5%��٣,U\\x7f�Zw�+�#WpIT��?�\\x03ds���pټ��ٽ\\t���K~�C�F\\x14����\\x12\\x02\\x10W�\\x1f���\\x00�8���]V���T�i�n2$�z�y\\x0e�ۆ|��G�N�~�[�j9t�**�#�섳6J�\\x0f9�9>:��S��\\\\U��Y�\\x1dxUkͨ�DE�l�\\x03y�)��\\t\\x04~�\\x13wx\\x17�A\"���S��\",����n��pN3�\\x00\\x0fW\\x05�@D\\x02�%C��\\x1eڡE���l\\x0b���[j���\\t|)�!N<d\\x1e����O�n�4^��[6ey^f�H\\x03\\x05%\\x00<d�bI$\\x1cr<�>��5�\\x16)��\\x12CA�˖R^H�{�\\x00`�ic����ښ�^�����6�\\x7fBg\\n��\\x19%��w� \\x0f\\x1dG� �\\x7f����+oӳa~�S/N&i#�\\x0c��,7\\x00~\\n���<㞆���\\n�g�j��r��\\x1d#:����F��Rx$\\x02W c�\\x06�>��\\x0f��2ۋ2G,0�J��\\x17��\\x14�\\x7f��Yw�I�j�4�jԤ�\\x19\\x1de/�I�B��q�F6�#\\r��\\x02�A��[��w.��G\\x18k-��%E��\\n���0<c�$\\x1ex\\x1d\\x13n��6����kI�ȣ�X�!�>\\x15c�\\x0e\\x15\\x0b\\x16o�\\x00���V��J��i���+�-JOf����\\x0e?O��#�\\x1cy��Z���Q�_V�\\x14�pc]6w\\x03j�ި�d\\x0f\\x00�<}��\\x01�:�w\\x10���Q~�j�k\\n�d\\x06�\\x05�b\\x0eĀ�\\x1c0U�\\x00�\\x7fˆ}�B(�z]F�P�G�\\x04�+\\x1f�)�*\\x0e=�\\x08o<�\\x1d\\x0fn���Q\\x1a�5����H֔r)YQ�TFN70��pNGCւ�}U����\\x1cU=F�j�ڲ�\\x1d�C`�\\x18\\x01~��\\x1d\\x166��P^����\\x14�)\\x1bU�,AB�\\x08�N\\x00�>�\\x0e~�WA�\\x1a-\\x02&6\\x1a��\\x19�\\'�\\x0c��\\x97�\\t\\r��\\x07\\\\ϸ;rm\"�v�z�`��P��\"�����\\x19}�\\t8\\x19�[\\u05f6,�Ѽ��3�\\x11�\\x06\\x0e��}��\\x0e?��W+��74Z0�\\x06���Z��\\x08\\x1f�1\\x08%���7��\\x1f\\n~\\x0f��\\x19魍\"�0���$s}D�<��gO�6��K\\x1f�8�q�N�q����e�\\nR�� M�&�\\x1c 8�S�8��qj��Z\\x15���֖v���o�\\x1dm�Y\\x031��r|��\\x1df\\x18�\\x02�������SO�]K7��Iu�+\\x0c8\\x7f�!`r���o�c�s�\\x10Q:8������]\\x0c��-��T�vg\\x1b�ܞ\\x14䟿<M�\\x7fŃ�k�\\tUa�m\\x08���\"�Ɂ�OI2\\x08�H d�$s�]�\\x1a�qM��:m\\n�v���_^y�$�D�\\x1c \\x03#q�\\x0f\\x03�=Q����q\"\\x1aڵ�!��I���R+�\\x06�I$�f\\'�\\x038\\x1fo�\\x1d\\'�cX�4����0i�\\x0cs)-���l��\\x0f?��\\x0e̷��.��\\rB�/�W\\x7f�2Rk\\x12\\x06H�HAR\\x10�`2pw\\x1es��ϧi����,�ĥM���\\x08DnK�@�\\x1c\\x15��8\\x19��\\x03\\x19�\\n�\\x11\\'o.�c�\\\\w2D�$�ˣ�b\\x15\\x11�3q�Lc#\\x1c(>\\x0f>z��kS�\\x13�B\\t(���5d�a�d�\\x1e1�?OP�֥E!���[�=hwF�\\x15�\\x11��c�\\x00�\\x1c���QҌ6f��g��\\x1a�d��y\\x03�g��z��_wQO�,5J�{�S�A�\\x0eȠfx�Y�\\x19ڤ�\\x00j��8\\x1fs���\\x0e�ӵ��U�\\x15�\\x16:O\\x1c���UG\\x08̹۴�r2|t��H����&�K\\x1dĸ^���\\x0e\\x01A�\\x03�\\x01<�\\x1c���j��\\x03ֆK\\x11F�B��\\x10�<\\x1099�|\\x11ҾB�˅A و�;:�r�0\\\\��QnLJ�D̑XF�|�� ���\\x08��Vtm�2}U�N:��\\x06\"6s�8\\x03��p\\x01\\x18��@��\\x00�)�Ԫ�N͏QL���\\x02�ۀ��\\x05>>�\\x00��;۽�9��9.i��I<�$���\\x7f�H��I��A\\x14�|a�n*��x/�2�\\nd�G\\x12��9���sg�o<\\x1f9\\x18\\ua7f1o�b\\x17�n�\\x1brHf�3\\x03\\x19�\\x06rK�\\x0eT�\\x00\\x03���\\t{�N�NI���pФ\\x1bl7����\\x06��`T��\\x1c�M���4귬�&ש\\x1ck\\t\\x00�H�$ƣ�X\\x16b=��;rGS���\\x15<��{�mҲ��\\x15t\\x11=\\x7fM\\x1d���O��\\t!�����s6�.�F��F`�\\x00�������\\x1b��>\\x7fH�\\x00*~�Ո�32ù]a�I}2X�Y��][\\nv��������va�3^J_XCX�\\x1fy��\\x0b\"��\\'\\x18�\\x07�:�H��\\x11*c�T��Ծ��#��\\x17�K0�� \\x03�����89\\x19�z��\\x1aV![��X��D,`�_!A\\x1fm�q���o+�b(n�:[Gb��w$��rI$�#8<\\x1c\\x0e��GkJ�\\x02ӱ�z�Vb=��s�1�N\\x07�z�O�}G����^3B-Ԑi��%X�����0�h�\\x00���<\\x10�,�3\\x02\\x06q㞲��I,O^1�8g-��~�`��0�\\x1e|���ؐ�P#vc�2\\'���3���\\x83���CZ-�!������b�z�Y\\x18�Uܫ�?\\x7f�U�펱�{j\\x11�_~��Q�����?��;�F�}>U<qǎq���v��\\x10\\x06\\x7fn�5�\\x03\\x16\\x08\\t\\x19�\\x12|c�\\x00���Ě�bw �\\x07�ze�@f�\\x02�����\\x0f\\'��(\\x04�ό㫚5\\x13F�ǫ0���x\\x1c}��\\x00�=iϐcM�\"\\x0e�ժ�ƫ++\\x15\\x1c\\x1e1�������5Q\\x10�a�=����2\"��h�PrO\\x03h\\'�1�\\x04�Ir���ز�E��(�a\\x01��\\x14��w8��c�tômЧ�.�\\x1d���\\x10�\\x0c�\\tI\\x19�\\'\\x0b�\\x19\\x1eH��_\\x0b�#f\\x7fr�\\x00Đ\\x1e�wQ\\nQ���\\x17u+�@Z�G\\x17�D��@�r��ǃ��n\\x07�@���QD�eFR�%�}��py\\x07�����\\\\��baFUE���\\x12a��\\x12��չa�\\x13�0�\\x18�0��e�_�O�,Plh,;�9�\\x00�g��\\x0f\\x00�� `�.[\\x1b�q���\\r��\\n�oI��\\r��\\x0b\\x15���1�\\x1e���Y�XK�X���TD�|��\"M�ɏ�\\x0e3�s�>�<�\\x0cT���F�l�>�kQ�T�����A\\x04��$\\x1f��P\\x1a��߳\\'��r](��I2�$�L)\\x04����^�\\x17Ȕ���۹��rޜ��)Pݎ\\x15W���d@�f>I�\\x00����8���\\x1a���h��Y#�J�5R�\\x17nX\\x10\\x08�w\\x07\\x07�A8�ezB�j��~�\\x15�\\x04�\\x0b\\x13mR��\\x02��m�����#�ut�oD\"\\rn-rYWԍ��J�!BB�!O�@\\'\\x19ꔬv$��b)��j�K\\x15���b�%�����.�T��ظ�\\x03�q�uQb�{�/[P�H,�I�o��\\x03�\\x07�\\x1c�0\\x02��\\x19�\\x0cz�z]=J��d_ԥ+<��F���l�U�y�|�q�\"1\\x1e�mꩪS���Z�q����\\x002\\x0f$���\\x00?~�\\'&k~��.�ԣ����%�\\x14c0ЬU\\'Y�\\x0c����\\x047���9�\\x07\\x1cg���F��=Xh�g�Ԑ1��\\x15$�\\x04�ϼ��8��&��]��\\x1dz�\\x15��hY/��gt�y\\\\\\x13®�c�\\x1f#��ۚ�Z\\x13j���6\\x1fR��>�\\x01�lO1F\\x01\\x07<~��|\\x0c\\x1e�T\\x16*��\\x1b\\r�o\\x06�?xj��ͪ�J33F�:�\\x10ȥ}�gh\\x03�gnOKF�k��%�F}&ޠ\\x04\\x1e����8\\x0b��$�8�`\\x13֥Ӵ��{_w�jT�c@2\\x0bE�[��/\\x1e\\x0e3�z����F���D��z��]Bخ��)ڥs�ci\\'h�c��@\\x07��?ǍB5���J�&��U�rZ��\\x0b�\\x14�\\x01��\\x00��\\x01���<�E�R�%�L�FIeU��Q�b�\\x19\\x07<�\\x04\\x03�<\\U0004e9e8\\x19�\\x1b�e�%��j\\x16Zt\\x05wJ�Ŗ)�K7�H�\\x03\\x12G�����R�\\x1a\\\\1�y�T\\x11��\\\\�\\x1d���;r\\x14�\\x19\\x1c\\x11�x늪\\x10�9YUM@�����i�t\\rf�v\\x14\\x0b�\\x02>X�\\x18�rQw0<�z\\x0bD���mT�Z��Ȉ\\x04\\x15�\"7Ǚ\\x1c\\x1cq�9�q�]�>��e��\\x08�k\\x15�8\\x17hU�@����\\x1c\\x03�y=VS��KXh�i4�\\x1aC�I\\x11\\x05�\\x03Ͻx���\\x00��\\x00�\\x10d$\\\\��K�\"��ו4{�\\x1bE�\\x14��{�\\x15�r�r�99�\\x1f~�;\\x1bK��$�䫲\\x15VgTe\\x121眜�x�u!n94�D�{\\x03�;��L4���a�I\\'\\x01ry#ώ��eiƽH�\\x12�\"�1\\x1b\\x07\\x07z�\\x1e\\x7f��\\x008�\\x13�ΫZ��2�\\x04\\x0c�H�p:�*nRXg\\x03\\x04�:�\\x12�e�\\x00���P3�8+\\u05fc\\x0e�5wNH���\\x014,����\\x06~N\\x7flc���\\x049�\\x14\\x1e|������ \\x18\\x1br��9\\x19��[(G�g�Oi\\x07�\\\\�\\x00�Ջ�\\x1b�\\x13Z�\\x07p��\\x1dA\\x7f\\x11tz��6�,E�`���\\x00\\x17�8 �G�\\x1e<��,��\\x1e<��\\\\ғR�B�%��\"c\\x18\\x1c�_\\x00\\x7f�=e�\"�r\\x03b#�\\x13��.�L�n�]!�Պ\\x1b\\x0c��\\x02�d�y\\x1es�:m\\x05o�tLR�B\\x1f���\\x0f�\\x05��\\r�;3�\\x0e\\x1e7�h�98\\x1d%\\x12ܫV:�d��r�[�����\\x0c��۴����\\x1d\\x05�wݭ\\x15t��\\x1d\"[���\\x11��ꢽu!T�G\\'i�\\x03�㞱��\\x07�s��QՏ�ok�bђ�\\x03b/�u��\\x04�<�9,���&FN\\x0eF��:$z\\x06�.hu\\x1d�$��a�Y�)\\x02��<x_�����<tgx<�/C��\\x16\\x1e\\x7f���s\\x1ca��ϩ��˨^K\\x0c� �H�{�{�T�X��#�`���Ӑ�\\x17\\x03 �<�G$�\\x00u\\\\K�%\\x1b��)�\\x1b�;�$�m�z�62�%�������\\x07�9�Gǜ���4�KG�\\x163\\\\�3]R\\x10������T�3�\\x02Fv��wۑ\\x04Вd�3\\x18\\'�a ^$9a��\\x03-�\\x1c�\\x1f��/�\\x13w��n\\x19�A�0S_�Y�\\'k�\\x08R�\\x1b��(�`�@�ٙ���짓\\x1f�g�:Zт�*��ֱzg�\\x00�;\\\\\\n��ȑ����p|\\x12~:��4�;��}@ؽb=:(��5\\x02Dx/4{����H�sղiյK&�����\\x1d-K3�ί�j\\x0eq��A\\x1b���\\x1d\\x01wL��\\x16���\\'��)\\x1a�AXn\\t�\\n��\\x00�se��\\x18\\x03\\x03���t�\\x02�+1�g�+P�\\x0cq�\\x01`G�\\x15e)��9>GF���n�H\\x07w�mH\\x18/�H\"\\x04\\x00�#����t\\'�\\n\\x10ٹe.[_M�ku�7�$jvz��\\x07\\x03q\\x03 �\\n۵N�d�m%b\\x04�JKJ��\\x03\\x0e\\t*\\x06��I�u�\\x12¾�jie\"�����u�\\x19u#j+\\x10��l��BH�\\x022�21�\\x18Ǒ�����붛�L��Ԫ+T�Y��g,Tz�.\\x0b\\x00r��\\x18l�c){���e�\\x16���Z:�D~���\\x0c�%rY�\\x1e��\\x11��$\\x1f\\x19�@iZ��s]7t�Mk��Y}1a��\\'-�\\x00�! ���e�\\x0eqǎ�\\x16�����7�wS^Q�\\x1b\\x1a�)�ab(�9=7\\x0c��m\\x03 ���?Ks���-�\\x1a~�zxj�kU�P*>�\\x02�д�H&A����\\x17\\'�0zq�]�\\'��Z��J�j1���\\x16)�@3�3\\x13�Y\\x19����\\x1dOU֪�#<r,6�\\x02�M�\\x0e#\\\\����\\x19��H��\\x13c���u�W�:�cR���Y�B\\x17��˰�+���\\x1eG\\x1f���L�n�i�J�li�D\\x10O\\x1c���\\x00\\x18\\x060\\x08�<��y���Gqv��$T�l�CpW�\\t$���{\\x0f\\x0e�;py �Ǵ߮�6z\\x05�Ul�h\\x8c�\\x00\\x03��<�ӊ�7�\\x00�j�\\x06���wE�c��O�P�\\x1a�j�V-���\\x147\\x0c}�\\x1e��[t�Áuh���I�KtM\\\\�#sB��\\x17+����\\x00=>�-��zf�:^��\\x00�F\\x1a�\\x7fy\\x19�8\\n<�<�v��{=�\\n�h�q\\'��,L\\x15]��rNAQ�#\\x189�D�=!ܡ\\x08E\\x08�[�\\r:1U�u�\\x10�r�lh�&��$`�\\x1c\\x0e}��R\\x07=#�+�u�NzO\\n�+����Æ]��x��ѫw�����4�\\x15Q�\\x04X�BH\\x00\\x100\\x1c\\x15S�\\x7f�Swwk\\x1a|�nY5-A Z�YUJ���J��A�y� ����?C\\x05�wU�\\x1e:Q�iٕљFЩ��G\\r�\\x1esӖ���\\x17�P��*̪dX\\x1f\\x0b\\x0c��c��v�^>�t��\\x14�V��x$�\\x06p�T,��Hn\\n�\\'�����Wԏnя�6���[�\\x06جb^\\x01R�98 �#\\x07��QrI���/��S�opjzq��)6!�a��@A�ب�,K\\x13���GFQ�-\\x1fQ�k������a�j4\"@00\\x13�\\x08\\x0b�\\x03\\x04�,v�\\x1d�o��*�%�\\x03\\x0fY��#`�\\x08�$\\x02@�O���?�\\x15�I$\\x16��\\x1eQ4��\\x04u��%Er\\x182��8�89����\\x15�r$�&�w=��ڊ��P�R�\\x18 �P�\\x108y\\x0c`�s&A<�\\x00v1�V�N�-(cr�l��\\x1a]�\\x04^���Pp�������\\x1d{�\\x7f�ZJi�\\x7fNa�I\\x11A\"�e�bN�B\\x01�\\x01� \\x12p3�ZHEh�X}3Q�\\x08zS\\x0f�I���\\n�(\\x0eG ���\\x1fo ���\\x1e��\\x1bq�7!�Sb�T��K]}\\x1fKqڪ\\x17%_\\x05rĒy\\x1e1�9u�3��}\\r2hݤ;�Ǉ�\\x06}�����N\\x01���mZ�*h��ͧ�)2MfF,%�\\x0eSo���?`x\\x1d\\x07F\\x0bZb�n�ة\\x16\\x14Υ�R\\x0e6�\\x0cd\\x1eG?�ۢ�8������Vj�\\rK1X��>�0\\x03\\x03�Cc\\x00�/#��F:�[zV��ѳn�r��z�\\x1deM�����\\x00\\x00\\x01�gw9���^��S\\x7f���R\\t\\x1c��g������\\x7f�q���GN?�\\x1aLZ��5\\x0b0�\\x03M\\x0b\\x1c;��8e`��|���@\\x19��R�%�\\x12�\\x00:��-6(�\\x1d!\\x16k��՞&\\x1bw�nܫ�i��O���L���\\x1a\\x02��N\\x17�X:i�,\\x06\\x0c�%�xܤ��\\x0e1�Ҫݯ\\x040��\\x08�ՔD���H5J�s��rr<q�z����&�~��j��0w[��WA�1�Q�����~C�B.SCF���J�Ȭ�\\nXS*C\\x06́��Y��S�#ܸ\\x18�z.:��~��ȫ�\\x0e�$�\\x16\\x00}������\\x00��s�\\x1c3\\\\_��O�b�8i����H�\\x0c<`���)8\\x18�\\x14g���\\x00\\x0f��Z$��\\x1d)E�ޒ(�/��)��i8\\x1bw0<d�1���x%�:���i\\x15�\\x14[��\\x0cw,@���L�,�\\x13�g�B�\\x08\\x07�\\x1d-�;SJ�=\\x18��CNV����\\x1c�o�1�\\x1c}�����o˩T\\x7fQkTb\\x1d��5��\\x04�d�\\x10���9�#�tIt�\\x1a��oW�-F�\\x12�f�1<{Ws*7����8�\\x18�\\x13\\'�\\r\\x11܆�;/�n�5D��W��V�y�\\'�NAu\\x1f�W\\x1c7�t�^��\\x0fBř�U�fk���C�\\x15\\x11 b��\\x1e\\\\\\x12\\x07?\\x19=Sڷ\\x1f�zѽ+U��ɲ�`~\\x01�\\x00J�H?9\\x1f\\x07\\x1dFj�\\x7f����\\x15\\x00�,���]\\x11\\x1bq\\n�\\x03�v3�\\x0e8�\\x00zr�~P�\\x10JI�k��F���\\nX�,�P�J���/�q�~�\\x05�v�:\\\\ i4�\\x00�OYㅤ�s<O��\\\\{\\x14\\x13��>1��t�G�㭢\\n2ĳK4��Vħ\\x12\\x00͓��\\x06_��\\t\\x1d\\x07��H�O\\x15ٍ9��\\x0c�\\x08^�,T0���\\x079��\\x03�=\\'�ܩF�\\x1e�E��V��rP���;��1�ǩ�H#�����=P-d�-D����vY\\x14DF\\x1d\\x03\\x02�Q�\\r��H�\\\\��aj�Y��:�\\x0c\\x12��L\\x11�*\\x7fܱ \\x0c�����3L�O�t�^��X���=B��v�0\\n�\\x01$�:��X��\\x00������Ֆ��&�+N��\\x12��\\x14\\x1f��Id\\x04\\x11�s�<����A��y�\\x15\\x13A\\x12��v2���\\x1b��\\x1f \\x06\\x18�\\x18���\\u0fe7-I�8S$&_z�噌��ǜ�>:Y��D��U��f�bei$;��CF�l�<g\\x1dcT[\\x02\\t����Z`�hK��_�\\x01�\\t�\\t#�~y�?����\\x04�2�VI����v�q�\\x14琠�\\x00����Q�\\x0cb9�,�(\\r\\x1b\\x16;��q����#㮣�[\\x12Dc*��\\x14*J���8\\x0b�8���ӰǏ:;_\\x7f��4�\\x0bRZZ�KfY&\\x08�[q\\x00`\\x0c�x��i!\\x1e\\\\�M�\\x0e1�髧�,�\\x18����$�\\x07��\\x00�T44Ȓ�);�\\x1c�\\x1c�\\x00�����\\x02R��\\x06��\\t\"\\x1f�e�\\'���\\x1f�\\x18���Z\\x11\\x0cj�6��:-\\x0f��^s�#r�\\x11\\x1ex<��zS��\\\\\\x05�����������r\\x12���=c�q���E\\x1c��\\x04��A%I�9Ы�\\r�<��U\\x1a��T���]\\x12G1aC1\\x18n9�#�\\x07\\x1d-���\\r�y�\\x9c��?��\\x0f�tv���˧�Dd$�O��\\x1e8��~�}�\\x06���X\"D%i��F#5��ZZ�\\r�̌�r=�/�\\x1b%� s�:�Q�t��-�\\x14��2�V�O�Bŷ�02���|\\x1c瞬/鈄\\x05l(P�� 8|��\\x009��=D�6��\\x1b�F�Qe�lD�=��H8#����\\x07�������$\\nЎRH�]3�b��\\x13���Ĩ��\\x00���}܃�zQv\\n�ΩJ���k��<�\\x082��1�1����N�4����+B,�}86z�\\x0c\\x1b\\x07\\'w\\x19\\x07\\x03=t����\\x1aLu5N��+�\\\\$�8\\x05�\\x01c�J�\\x0c��1]��#BH��J(�Q��u91$l��:�=��1���\\x06�~��$�V�0���4\\x08�\\x132�,X��2��#<�t�Z�J���K��\\u05ceBC\")BA\\x18V�}�i�\\x1fn��\\x1d\\x0e���ӭ�^��&}���\\x128�|\\x0c\\x020\\x0be8\\x1e\\x06\\t�=S\\x10\\x08m�S���\\x13Y���SS�J)gO������|r�\\x05\\x08˒v�I\\x04\\x10s��s\\\\�tʽŦߟT��b\\x071*���b6��\\x01��\\x009���v���7�h��\"���\\x195m��\\x038;Wh\\x03\\nX�ܤ`��Bh}�����M\\x1cj���\\t4<$��w����\\x01O�<uEk\\x1c�\\x7f�� �~P�?C�qb�\\rf�V��]ZǪ��!^\\\\0�Y�N�n<�r:[��Jh\\x1aM������q5y*\\x16,�H\\n�70�\\x00�s�uT���J�q�\\x1aIf�َ*��cv���oP\\x0c�\\x18�\\x0f� \\x0e�߽J��#Y���p�\\x00\\\\<c�;�l��.x��?aɉ �jW�\\x07FOi�Y�V(ua5\\x1a5e?P�e#}� �\\r�����\\x0e��\\x07U�bK�T�-�!�\\x1fj�@���a�\\x05<s���ޕ��bJzC��|��5�Ip�G\\\\�\"d�\\x08Ǒ�~z�Kխ�$z`�uCM����(E�>\\x1ar6��HR3��=q.\\x1c��_���ڸO|j��Z%jK\\x0b�\\x1e�K�\\x16\\x00B���1��N01�\\x1eq�wf躵���_e\\x1bڅa\\x1aM\\x0c虎PS\\x0e����s�\\x1f\\x1d\\x0fJ���֭CS�;��\\x7fE\\t���B��\\\\\\x7fy�\\x07\\x19$���}\\n�fX�F�Ͱ�2�X��.�Ƞ���0>H�\\x1e���\\\\\\x07}�r�\\x017&e��[E]\\'��M!P��<\\x19Q�\\x0c��I �\\x18\\x03���\\'��i\\x165:]�.V�+^��D��Ğ��\"�\\nO���@�\\x03��:�����t&}%�ip\\x06z�r\\x7fD4�~���Fs������\\x16���Ӟ�8��h�\\x12Lb�D��A��H�n~\\x07\\x03\\x01�y\\x1d\\x03]\\x1e��@P\\x0b3\\x0b]�j��cV�ܰ�He�b ���\\x1b\\x15W�1#�1��=lQ5��OM-�\\x0b\\x18�[\"p���$��G�*נ�HeJ�\\x00T�B@ݸ� ���{r����\\x1bW��X�\\x06�I�MYѦ���8�о�J�9�-�G�����1Xu�\\x13F��[�o^*�r\\x0c�F��\\x8c\\x13��\\x02s��\\x00\\x1dv\\x1eך\\x11��Z��\\x10�����<�u�4�\\x1aI�Ն���T�@L���\\x1b�\\x16S�2�\\x1f�zs���ڢ*d��X�D�E���\\x00P��\\x00O���q��?�|`,�{��y�\\t\\x17���z�JF��vR��\\x1f�\\x19\\x07���z�2呿Խz�n^\\x0c�\\x03 ��u��(\\x1b@P9\\x03�La�\\t\\x03�=j�/c�9>1�.t\\x12U�s\\U0005e0e8�.��wn\\x04c��\\t\\x17(����k\\x19m�\\x18\\x04g$�������p�KB��j�t�گ���z��\\x039ݖ9�A\\x18�#��~��ivΛ�MPC\\x13I+<u^BZ@\\x1c\\x12\\x08\\x1c��9\\'��]�\\x0boD�M@�\\x1fKZI#�\\x03\\x02��UK\\x15\\x1cq���:��=^�E�U�\"�<6$5�>�\"7�8�P�\\x00\\x1eT\\x0f�u�b\\x19��G���L�S�\\x04nQiR�sNe�#�bMI��TB\\x02z\\t\\x1a�۵�X�2A�#�\\x1aGliu-}.��[<)�܆W-� pq\\x19�)� \\x13�\\x00��\\x07����-\\t�3�i�f�Id1���\\x00�jwr߫�`\\x0c\\x7f�:��^\\x1d\\x0cǣ闤�fx�e�a\\x0b@��7��n=��\\x06\\n�\\x1brq�\\x01�2\\x10����2��\\x1e ŚƝ_�!�\\x0cahab�f�\\t��Fvg#\\x7f\\x00㏷Zt�:���;%�kX�4�$E���D�$����i\\x18�br\\x0f\\x05%���Ԡ�W\\x1e��@\\x12\\x18��D��8�\\x00���A�O�n���jK��\\x1e�)����Wj�#$�\\r�Cg\\x03\\x00�<u��\\x15��-\\n0���=���m\\rͭ>�\\n��P��D\\x18�\\x1c�p\\x03��W m\\x1cg8�.�CR�.5�oZ�\\x1e�xl�Z����`Q�@v\\t�\\x17\\x04x��7���M*\\x10��q�ݨ���\\x10R��TF=%e\\x00�\\x064\\x0b�0w/���\\x06��U�jS������\\x08xe�\\x19��7�Ubx<�_��߮^E�\\x01\\x13*��C�-cN�h�e^�\\x16k�^� \\t\\x1c��9ڸ\\x1e�<pq�GO$�`�j]:�\\x7f4�.$b�rI\\x08z��R\\x03\\x02�(|��@=N��>��J�j-\\x19gh���;�%�\\x10&��~X1\\x03��F��\\x0b ��\\x16\\'�T$0�Y ����X�$��7q��㪸a�-������{\\\\ߣ�ԊI�by$��+��\"��I�\\x06x\\x18Q���Mk\\x02���}e�\\t\\x16�\\x06%E9\\n���i>��\\x0ey�~����-Qv9$�zI%��e`l��\\n<g%v���~�A�B��)��GE����\\r�,r�`v���x�\\x11�����\\x05�s��R�ƞ�f���\\x08�b�Dy\\x0c\\t\\x7fy\\x1e�6\\x1cy�N<�=�v�jsV��5D�p,GꠒC�inG�rG$\\x1eF:ǹu-[�l\\x14I�j\\x0fV;u\\x16\\x14U��le��l\\x19R3�\\x1f�tFڅy�������dyv���t��m�s�c\\r��\\x14�\\x03WR3�;g�j��Q�5\\x1e�ch��D���\\x1dG\\x07�R\\x0f߬{{��&ӫ�(k~�p�)/�<\\x13������=\\x11�]����5�� ӪF\\x1e\\x15�\\x1b�9�!\\x1f��3�\\x01�\\x1a\\nf3aVS�+\\x18QK��pG�@?��J�\\x18�q�8��u-.W�\\x12Lk,r��I�u��(Æ�$�g�<����%�B�\\x10\\ngI��-��i�Ĝ\\x01������}\\x1f��z`\\td�``�A:\\x1d��\\x7fRA����\\x1d:�3bnݹ��鈬�N@x\\x0b*\\x12\\x0e�\\x07��\\'8�\\x1f�Q\"�\\n��؆�SB��=KT���ޅX\\x1bs[�v�\\n���\\x19<\\x0c�\\x1c�~�ݽ��-؞��Ui%H�c�r��\\x1f\\x18�\\x16��`���\\\\ȴtVC<�$��rFIf��w.<g=U�}�\\r�^�V���v\\x15m�r\\x03\\x04?%��\\x00���cUɣ��,�z6��og��}2�(���9]��\\t`A ���q�}{S�ok�X�i�r\\x10�,J#lN끸\\x1f��\\x0c\\x1ep3��t�;i\\x05MZ�Ւ�\\x05�\\x13�V�£\\x0cy\\x04�\\x00i9�\\x00</��jZ�K��\\x02��|%h�T1�@\\x07��\\x04�\\x11T�^%�W��-v���h�r��Cg��D��\\t<\\x16\\x07ؾ�g�ֺ:���:K�io$V5\\x05}��X�{s�?\\r�\\x0f>G��_\\x1bYֵ\\x1bQ�f:ds��{SR\\x1f,xc��\\x0f���F\\\\�mن�m$p�\\x16ډ���\\tU9`\\x15�Tg<���\\x1ekD|k�H�`j\\x1f�\\x00\\x17���0�N�\\x1d5 B�P�ʡ[s�Pp��\\x10s�\\x1c}�5�����\\x17�J�R6�\\x18�\\x02�0T�7�\\r��(O\\x00�\\x1e����C}����*��m�\\r,1&O�p@*N~�<\\x03�D\\x10�\\x1a����?V[\\x16\\x1b����`�\\x14\\x03�����ԩ\\t$E\\x17q��vֺ�=���Eh�\"M��\\x12���9�\\x0c|\\x0e�w\\x14Ҧ�kFҭ�����\\x03��\\x06J1�\\x19~s�\\x1e߷[����}*�\\x1b\\x0f\\x05�G���\\x00��\\x0b��7g\\x189��ҺRGr�ױ-�\\x12f\\x19%/���\\x01\\x19\\x1c�~|�@\\x7f\\x1cz��]\\x07��6u\\tD\\x11zFj���\\\\��\\x18\\x1c\\x0f\\x19\\x19\\x1c\\x7f����O�j���JYu\\x08�h�&=Җ\\x01�\\x07\\x19\\\\����\\x07=U�����>��Qd�z�7V1�~�d$�c\\x1b|�x�O�����7�\\x1e�^8�\\nW*�\\x0e\\x00\\x03��H\\x18\\x1c\\x1c\\x12|\\x0e��oɿI�y1���;_^�\\r<G�K\\x15\\n��X�\\x11[\\x1b�p\\x0e�!89\\\\{A�\\x0c�g�=SM�NRj��8\\x11(��I,��\\x01\\x18��\\'\\'�\\x1eO=J���ӽ_Q�}�K�t�\\x1eL(\\x07>�(#�(\\x04��s���X��e�t=J�)\\x0e��A�G\\x19 ��\\x19c�\\x00���3\\x1b���\\x00�j=�^�\\x15�E�OM=:��1�\\x13\\x02���w\\x00�����$]غ.k��d̰\\n�{Wj��Vl{9\\x1eNA㏸��f�V��\\x0b7\\x0c�aI\\x15ت�\\x14��\\x15��\\x00\\x0f�:��=:梲�Wsؖ��nY�(Ka\\\\~�|\\x0f��S\\x1f=9�k�A�kU ��ɨF���Z�<�oM�=��\\x0f�\\x15��\\x03�\\x14�o[��ӵ�Hmi���\\x08d��\\x0e\\x14�ȸ8Q�\\x07�\\x1f\\x1dg��uo_R�Rv�5:�\\x10[e�\\t��\\x03F�I\\n��\\x01��\\'��=Z]\\x1e�E���*�\\x1a�~W\\x03d�c$g\\x1fr99�IѤ���!���\\\\j�j\\x16*����\"(X�8�(\\x1c���\\x03������Zf4��b2�L,�� ��\\x06\\x01,\\t#�\\x05�z���\\x07��LH(�d�����ds�\\\\6\\n�!N|(��X��Y(v��Zy��ɥ�(<j� �\\x1e\\x18\\x03�Q�>�F>z����1O�r��^��H4�cZ��r(�\\x01�6��\\x06H�\\x00\\x1dE�ԫM��1߭\\t�e>�)\\x18h�\\x14\\x0b���[?9��\\x1f\\x1c\\x0e�?�\\nYcҧ�m⾞����\\x02�L�\\n�0\\x03`��\\x188�:A���,U��\\x00VFe�}5\\x04\\x12�&��$\\x11�x$�8���@yI;��\\x14t]ZF�D���ӜH���\\x1fo�IPFJ�7\\x03=Si�������/Vzp��fh�8�]��6ӂ̤� �\\x00���A/��=J�\\x0c�F���M�f�9�0�\\x06\\x0eҀ�\\x04�����l��-Qԩڝl�>\\x00�$\\t7��\\x14\\x0723Ɇ�˰\\x0f89�Rʣ��\\x1d}d4\\x06�mZ[P���F�$QM1\\x03|${[�ld��,08\\x00~\\x14���V��q�Ձ (\\x19�U�\\x1d�<���y�\\x1dT����t�+�q6Dj�(��aA\\x07\\n�o�~G�\\x1aY`\\x16L�\\x0cQ�-�\\x04���p\\t\\x11���\\x05��Î~<_�9AЩ�$dQ�V\\x02�-\\x03�U�\\x04\\x04?\\x82~\\x08�\\x00\\x039���5j�+\\x1d�+,j�\\u0605ʞ9���?ۨ-2\\x08�K�4�T�y\\x0b���,}͌x9��O]���>�u��D��\\x13�FH��x�\\x07>zٓ\"�^Gb�K�\\x1f(�O�\\x1b�4�}(�B��~O��\\x15uV�O\\x07��:�G\\x10���\\x17v�,\\x0eу�ǟ��=Pп\\r�\\x1a�Rf�e17����{Y,�h\\x10�L\\x0f���\\x11\"�*0|\\x1cg�\\x118\\'��Pĭ�q�>��\\x04ƞ\\x11\\x14�\\x02q��NA�\\x00W�}�,\\x0fi��z�����\\x00GJ\\x0c1\\x1e�@���T�֙=Ѯ<��\\x00�S�i�E�Wc�n���>qվ6����!V:��\\x04JQCo\\\\��w9�\\x00|�\\x00�[1� �\\x16\\t�[j5%Td�I(���\\x1c�\\x1c�\\x07�8�:�v-A�6��i\\x1e�\\x0b\\x13\\n��1�҆�d�����p\\x0e|�\\x07V}�\\x1d�4�GV5\\x0eb�L[�s�\\x1f�md߆���qP�N�\\x7f��O��;\\x07ۆ\\x1f�9\\'\\x18��}Zs�r/�?��ԋ��/�\\x16�iD���,B����A���\\x078\\x1e1����Jէ��MoP��Q�Ydt:`\\nX\\x00\\x19�V\\x04\\x0c���8�u\\r\\x12�N�P�/�\\x14F\\x11\\x1d�\\x1a�,�J��>H<�\\x1f۞���O�j\\x11��>�\\x15X#�fL�VVe)�Nr\\x03(��۞\\x06zʤ�F�o�\\x00RtF�\\x175qݚ�i�&��:D�g�d݁���Wq�\\x18;�c��d�\\r�m{��\\x14&4���+8�S�\\x00��#98\\x1f�E��h�\\\\�\\x05��-�,\\u07bc��c����<d���v�Ǹ;Vz�o�����(�\\x11�\\x1c\\x12�����9�\\'9\\x19�:93� \\rk������\\x0e�<�����؟��y$\\x12͂��8_�Y��\\x00ӌ��\\r�ګ\\x7fU�T�!��z\\x15>�$�L>���ZV\\x04l\\n\\x08�����\\x03��;j���jS%��b��FF�Z5�cp<�}�\\x00A\\x18<u7����K�U�D:��<�\\x1ai�\\x171K�\\\\�8\\x05q�\\x10�ǜ�W�\\x00����F\\x1dT\\x86�����K��O\\x15ٙ�\\x1fF`B\\x13��~H��\\x1c���g��\\x1dr����E8�m�Y�c���3��\\x16fm�~>����[��ֵ�N�٭#�\"�#Q���\\x17�Nϟ\\x00\\x03�:�Я���]0ҥ��a�\\x15�D\\x1b=%Br\\x0b{܂��p���ւ~\\x1c��̪���;�P�u�2֫x$3A\\x04�SC$h�lr�[݇\\x19#\\r��<�:gۚ$\\x13ؚ-E�\\\\[��Zg���\\x00\\x01\\n�g����\\x04|����\\x07K��ݱ�V��KN�M��#�]�BX��\\x18/\\x00��ʎz+Kk�kU��d\\x174�\\x1c�����T��ab��!v�\\nq�$\\x02:��2�V�>dԏ���XƷ!��j\\x11�\\x1e�Z5m�F�\\x0c�\\x01��@>z���wl({\\x15�MQ�gH�C�8�\\x19�9\\'�\\x08\\x03v8㎄�a�5{:e��ӹvT�<�]������?H\\x01r\\x00\\x03�\\x1dl�}cN���\\x14\\x16=JT,4�d1n2\\x02<�H����<��b�B\\x17b�d�\\x04�q�\\rI*҉�m\\x1d�\\x16�i@�\\x19�+�2T\\x02>���l�+��\\x1a�Vg2�Rkә��\\u038d�,p\\x00Ry�\\'\\x07\\x1d\\x036�B9�\\x1aL�ұ��\\x03\\x1e�c��3�\\x1f��I=\\x15�j\\x1aԐū?����,\\rA+�N\\x18�\\x0e�Nܨ\\x18^rI8<��1\\x1a\\x1f�Es��z���\\x03�o��ѿ�n�6��=��\\x1a�A\\x1fs�d~GT]��^д���J:�3\\x18�\\t\\x1d�\\x16�r\\x19�/�\\x0es��\\x1f>:D{[k5�t�,����K����,H;ԟ�<x��Ɲ���@4F8\\x00;`�C�z\\'�\\x00Y9,����\\x04�w��\\r����\\x13�Ri�����\\x0b�̲\\x16�b��\\x05���9�7\\x11�O\\x03�yص�_E�1\\x19�\\x1aF\\x0f���#��:��+Y\\x16����J�E��T��-�H�:~�a�\\x1eA�\\x7f\\x1du�\\x061O}I\\x0e$�����V\\x19V\\x07�\\x1f��\\x00�\\x1d\\x0c\\x18X�,v%\\x13\\x1f��\\x14\\x11�\\x0c��\\x1e�d\\x0c�\\x18~���\\x00Nq��\\x16\\x1e�<e�����\\x07r�\\\\\\x05$��\\x0e�K\\x19\\n�?��=\\x11$D`1�<����}\"�\\x1e�A?s��:\\x02G���d�*�Eed\\x1f\\x07\\x04��z�G���z�\\x18�#}���>:�4\\x0c��\\x7f����^E���\\tkoD瓂\\x1b�~<\\x7f��\\x12�)��\\u070eXǥ\\n\\x03\\x1a��G�p8$��$\\x1f����i�jH/��� �p�]�%0q�}��\\x00�z���_���l����c~\\x19����\\\\\\x00s��x�\\x03��zo�1���7�5=�n�Ks��#ia�na\\x18�0Q�\\x13���I����vA-=\\x1aS,�\"h�\\x03N)$*��6�*�7\\x192�\\x16<c#����ݵu\\x10��\\x00�>�@�Ը�\\x14�20q�\\x008<c�Ԯ�\\x05�l��l���\\x12�L���G�\\x0c\\x7f�\\x04c dy�MT�1����?�#MSL�gP�`�r9���\\t7�K\\x00\\x0eHQ��\\x1c��z���i2�T��:��=3�>�d,\\x1d���v\\x10>\\x07�\\x03�\\x04�Ë�4�F��j\\x12��EX�-$R��\\'��$\\x00y�x\\x1d2����ͩE�]�\\x05�B\\x16�Ќ+bFa0P�vx\\x1c\\x0f\\x19����!\\x1e\\x04��CTgwE���#W_����[Vb��\\'�\\x7f�\\x18\\x12\\x08�1\\x1b�8�=��N�@)�=�A$,\\x0e�)��I�`�r8<���5�\\x14���CXc���D�ٟF\\x14LG/\\x03��_����:��\\x00\\x11��\\x15K\\x11Y�b�\"K,ɹ&h���S��,\\x7fn3���\\x00\\x1e�Z�q\\x16��:\\x1e���;un��\\x1a�Y�b$e�y$\\x13�c��ƀ�[G�iڍ���c����H+\\x00v8\\x0c�H�\\x01�<x\\x19�|b��%�Z���3W�\\x04dnB\\x07\\n�\\x1b�br8��Ն��h����0G���fYb;]\\x03n\\n�Il\\x12F8\\x07\\x19���߈��g����v�ڏo�6-A^�\\x12��\\x1c�J\\x04��\\x06\\x00a\\x07���<\\x0c\\x1e��Z>�\\x0b�\\x06�\\t0Z�҅�8\\x101\\x00mV�2�Ny��t�D��Z\\\\�kR��^���\\x1cS�܇�v�\\x1a \\x03\\x11�\\x08o��\\x17\\x18�Rڽ�\\x1d���\\x10Y��^�$5l�N�����6�\\x12\\x17�7\\x03�\\x00�N��� ����oW���\\x11�^�ĜC\\x1bzaٽ����\\x0c\\x00q�3��}���}e\"�`\\x03�\\x8fUh���[�O9��#�Z�6��6����(j�oTY�3�\\x7f���s�J�a���q$���i���~\\x1b�u��\"\\x05X�-��rb\\x03<\\x0c\\x1f�8=r\\x06]�b-n ��VuH�Z���\\x19�с3.��ԟ�}����h\\x1b��˧ߗ\\x13B��\\x1a-��\\'*99\\'\\x07�uA_���zsZ�R{�du��bFH�\\x90\\t<����\\x18�\\x00�Z���+Q���5\\x1e\\x1f�V\\x0b\\t��� ����>N~s���%n=��͝��[��)OT�49I���d�\\x0ce<m\\x199����]�jz����K��Ij\\tD2+z���\\x1bq�\\x04y\\'�ry��Qj�{�RI\\x1e�ƥ���K#r\\x1c�\\'�\\x06\\x00������&]\\x16h�>�Pk�$��n-�\\x1b\\x08\\x0cK\\x1d�瞧\\x7f=�\\x00�Ro�����jZ=Z20��h���Mߩߝ��\\x0f\\'�\\x1d.�>�e��4Aw�\\x17�&\\tc�j�����Gtj˫A\\x15;\\x14M)�JHr�f\\x05��\\x00`\\x0c�\\x07#�ISA�^\\x18dB��2+�\\x02��ws�\\x1c\\x1c\\x02:���\\x03j3%(�y�iF\\ue33a����\\x17)�X�;\\x1a 1�F���W� �������X�G�\\x1e��:I\\x0bH�!��w���\\x1eq��}�\"��C\\x1a=o]V5��d/�3��\\x03?㦚f�N�[T�Ei��&�-\"\\x123��\\x0e�y�9�t���\\x82��_[T�Z���VoU��I�\\x01�\\x01�2\\x7f#�te���Z��اRH\\x19b���B\\x1e2��\\x1b\\x0cs�ۜ��H\\x1do\\x1d�4뵒[6\\x02��4��\\x00Ty;A��B���3���[W�R�Mhݠ�B@���؍���\\x18���s��z�ē�m��\\x0b�K���6�\\x01���B7zg��\\x1e2J�9�o��^���\\x18*���8�af\\x1d����\\x18�x<��\\x18�魨V�Y�ju��!\\x18�&�UM��\\x101���\\x00x�н�ܚN��Q�\\x0f�*Fk�b8˙\\x0e3�@�U�#\\x1f\\'9\\x18�j��\\x02q\\x1a�%�\"��ْ��j�n:V��ʠ�}5d� \\x03�y�J�4I�G���v\\x07�=8NT.�۲9�����ҵ(n^�֑J�����Ĭ��Dcn3�1�\\x1c}�~:M��5��R[2V��%h\\x12\\x1fJ��� $�8>ṎC\\x0c��u�]����p��\\x1c��X�JzBi7$y\\x19�\\x16cl,�X\\x1e~rI��g�����2֙l՞�\\x17�\\r�\\x00�U�;\\x02����s�<p1֮��{|W\\rz�U!�XWH�dH�6�_;\\x01�\\x13�L�wTU�ekAM�G�fM��C��v�\\x0fo9��\\x1dB��I\\n\\x02�ݮi�?�\\x12��9�K\\x1a�<*�*�\\x18l�Q����o��Tr�S��\\r&�y��̴�ۈ�g$�(g�� \\x1f���\\x08��,��R)�\\x1cr4\\x1773\\x7f���[\\x14\\x0c �\\'�uC�\\x00�t�&�Z\\x14+��\\x1d��&\\'1zE��N~p1�\\x07@�Cp��\\t�:\\x0fr,\\x18�P����\\x06\\n�ZW���\\x04mQ�w\\x1cx\\x1f=6�{q�\\x00&��.�5�Dz�v%-;B��\\x01\\x04\\x1fi��|\\x1f�\\x1da�S��j4nj\\x1a�l= .�\\r`��a�9v>�qQ���ۯ��^i���%ɛF��H�Ս�$�JFY���N\\x0f�\\x12|\\x13�sf\\x1c�ф\\x00!z�l�\\x1al�V���$�]��ט�G(\\x07�\\x069E�\\x05NGϜt�T������\\'���2$��T>��\\x19!B���:/��W�e���\\x0b8w�U����{�\\x10H\\x1eJ��\\x00\\x07��;��:uxu�g�j\\x10��\\x0c\\x15�p\\x15\\x1b\\x1eN3���z��PDp\\x01����\\x1b��Q�\\x1b\\x12*�2�5��Ł�\\x19ϻ9=LX���G\\x0e��I\\x19���p%�#�\\x00s�\\x7f#��M��,��%�7�s\\x1a\\x0c����~@?n:��M\\x1cz\\x16�MNF�e��׆c\\x0b\\x16G�Y�\\x04\\x0c�����z�\\x1d�lȳ�5!+h��\"��\\x11���$�\\x12��#���q��\\x1dum\\x12���X5\\x12��\\x1cҪ\\x14v`q\\'2*�g#\\x1f��T2v�Q���\\'�b�Ufh�=�\\x1c�È�\\x01�\\t�\\x7f���J��\\x01j�Qa�I�Uʻ\\x12�]��Mܟ�\\x01s��/1P�!�|�O,�ك�Za�+G\\x18�)�\\x18�p��=\\\\p@\\x00��3㞵w?\\x7f����+Y�Px\\x0f�Q�k�+\\x0c�J\\x1c\\x14R\\x1b\\x07%��=j�n�M�6��r�(\\x14��ڬ�-W\\r�\\x08\\x0b\\x05��J��o\\x03��w�����˶S��J�����\\x00��\\x109�rx��B�?�Ϙ\"5/Rv-:\\x18j�O�I�*�aO!��bW ��f\\x0cÏ����Ѵ�\\n�\\x19�P�#\\x10���\\x07h\\'�\\x00s��~zݦ���!��Ɩ�\\x1b\\x18�OcmU_q�\\x01�b\\x17\\x18�s�\\x03\\x03����\\x07��@I\\x1f�2H��$\\x18}�Y�E��\\x1d����d\\x0e��{OŎ���,�t���.B�T�� \\x05�Q�e>�@���\\x00�]\\x17C�l�?�����3#�\\t\\x00\\r��\\x0e8?��<�����j�Y���__hF�\\x02\\t��p`\\x08��o\\x1f\\x1dt����Q��Ե�ch�E\\x14���$�$We�p\\x0eF\\x17*\\x01�y��̈�2]\\x1f\\x1fyl\\\\�jXݍa��j��H��D��BW8\\x03>?���-\\r@ê�#Zx�<��W\\x04zc�\\t�\\x07\\x18��=\\n�/њ�I��\\x7f�#]���px�\\x03\\x0cWi��?\\x1d\\x0f]ͻVbk)R\\x1b\\x16#Ia-��\\x04>��H�?#<\\x1e�oᾩ}J\\x15j�c:�\\\\\\x12\\x01\\x19���\\x07磢_h\\x07���P�\\x1d\\x05��\\x01�(��d9*��\\x13?a�?n��\\x07�zV�\\x08�aP\\x0f\\x1f���\\x17�d\\x7f�\\x0e��\\x1e�\\x18�\\x03=k�NT�\\t\\x18?�J;�\\x0eG=.�����F�Oc\\'����#9�_\\x1f�z\\x0bS��Ю��g\\x12\\x06?�\\x01\\x1f�>:я�A>�a����\\x02?\\x7f�R=禙4�#V��\\x92����~�~�]\\x08B\\x03��\\x16\\n?��]GK��V�a�a���\\x00�Y�F1�(v:����kni/Nƴw\\x1a�\\x08�l��ۀG<�?n:]\\x14P�>���S�jcbh%�\\x02�.��D<\\x06\\x089��<g��w���M�8^?MB����x#\\x07�G��:���b����\\x10�\\x17e�c8\\x1b��v��$s����>.\\x04�\\n��32��$��3_����2ہ��r9���,���\\x0e���6{AO�GG��\\x0e�Fk\\x1a���J�\\x06$\\x15���f���6�\\t�\\x00\\x00A�:;U�3W,am,��\\x18\\x11X\\x0e\\tvu��y$\\x01���\\x19�N�M�}4��-t�$�K\\x0e�U\\x06�d,�g����\\x18<�\\x1clZ�\\x1d\\\\\\x060��Z�^$�4٫W�0\\x17��<g;B�99��\\x1eG��\\x01�l�\\x12��z��Zw�q^\\x1a0@#\\x16\"�ZFWRC�\\x03�\\x1c(\\x18Ϟ���{f$�<�Ρ`-}�\\x18��c0,A��\\x000G���r&��!�\\x1c\\t���]F}a�oq�Hf(Y�\\n\\x15���s��\\x0f��)9\\t\\t�\\x00���\\x12OP��ܴ斅h�\\x1fRi�ڄ,��Z?L�\"�<�\\x00g���SEkG��z-��۹\\x04{��Lr3\"0!T1\\x03\\'\\'$\\x0f\\x00�>:��\\r6��K\\x1a�E\\x04�T\\x0f�ڱ\\x11����^\\x0f>A\\x1f\\x1d.j���b�4ߨx촔�e��J+\\x02�\\x00�x\\x1c�d\\x03�=lL�\\tO�M\\x00ҍ��i���U��\\x14�t�Rj!�V�\\t�s�\\x04\\x07�\\x0ex��篺;Ϥ�\\x15��!�*���\\x1c�q\\x10�9�\\x04�I���:#�5{6��4�Ѵ\\t��W�u`0?V�~O��>z���������(}J�f2\\x1d�&<�\\x00o\\x1fu�J1�S&Gή����ٿ�j�݄��\\t\\x12\\x16X��\\x1a��g#�y�<|c�+Vݹ㬚]�f��E*}Ҫ䌜s��#\\x1eOT\\x1am}w����\\\\C\\x04��,�*\\x08Ÿ�\\x0c�\\x00�/�|�ǜ��\\x1bD��ֻ\\x1bǥO@��Z\\t\\x03�K�Xm_�ǐI\\x07#\\x1d-�}\\x0f��Rv|�\\x1dY�TJQ�V�5��9����b4�� ~��bpr>�\\x1dY����\\x1b���\\r��}(���(ar�\\x05�\\x07�q�A���;\\x11\\x0e�ӽ:�Y�\\x05ew�à��q��T\\x1eA\\x03\\x0cq�\\x1e��Y�\\x00��v�u��Ê�a��JҲ嘫\\x0c1 \\x05\\x07?<���\\x164\\x01�FP�\\x12#��X�\\x945\\x1a�-�_�㉌�%\\\\\\x06�\\n�\\x06N2\\x7f�?\\x1d6��m+R7u\\t$���\\n�� ��}���\\x00����ӈ�c�X�\\x1a���fG��U\\x01\\x01a��2X����m�\\'[��\\x00��?��\\x13����\\x0e\\x0f�����8S��\\x11\\x15��Ī.�1h�<\\x14li��oE��m���W�\\x03$�?I\\x19��OsK��\\nm��f108#\\'�H�q��|��:f�4�BY���b?9�\\x00?���\"R��q�\\x7f߯@U]w4n*�$�V�ڄ�(b��y#�~:)����|\\x7f�[B�|�\\x06s֩$�{��l��g�-�:b\\x00<8�|du��\\x01\\x00Q�?�\\x1fa�\\x1b���\\x1d�y��t=���\\x00�`\\x1f���g@0v�~1���\\x10��q��\\x0fC� s��\\x1d4f\\x14�y$e�9#�\\x0e�����\\'&�-w\\x14Tt��h�-x�}xb;�FT\\U000df05f���;W�u\\rB\\n�)��\\u058c�\\x13M\\x18Ew 6\\x00$y�>I#���|[ӯ_�\\'����\\x07F�(TH%<p�\\x18\\x18�\\'\\'\\x1c\\x7f��=�=�\\x12\\rn�\\x12��(�Oe�+$�w\\x1dˁ��>=�?�)�1�f��ɐs56�aE�\\x05U�(����i�E\\x18\\x9f�d,x<px��\\x0e�;�DV�]5���MѪ�@6mV\\x1f�ٜs���Λ}5�s_�c�=\\t}C\\x14��?�.=�ϸ��|������-���[��CB6bѧ$\\x10W�xݜ�y�z֙G+m\\x11 1�A�\\x1aGnE�A\\x1c�&Mj*��\\x1e\\x0fb4�˖\\x18ʌ\\x01�\\x07$t���ѫ\\x05�rA|궥\\x11U*��\\x15G�\\x029\\x00�\\x1c�I\\x1f\\x1c�M��N��W�r�f\\x19!�������H\\x1fs�U>~\\x07B�\\x00\\x12/�2�WL�9\\x0cr�f�9߄�\\x0c?��ld�# \\x0e�3\\x17����97o����\\x1fRժ��:F\\x01�\\x00�e\\x00�7�3��u�h���Eꮞ�\\x12��$M�$\\x01�9�Y\\x1c\\x03�=JX�qZ��zUj0,���iĆ2\\x181�<{��r1�z6�nV�$��w�\\'*f�\\x1c�\\x04�A\\x03;�\\x1c}�#�Z�\\x1c��\\x05ر:.�Q-�\\x16��*mn\\x1a���s��,�@̠�\\x12Wh��zK�\\x11\\x1a�[��ii\\x10�I#��ģ����ݸc\\x1c��������̆x�\\x06�\\x1e��\\x15H�#\\x1e��� �\\x00\\x00y\\x1e\\x07\\x1d1��y4\\x06���4���8�nĐ�\\t�\\x03��\\x08�Fry��ʠ���X\\x0b���\\x14�J:V�id�\\x18=�\\x02W���}�P\\x001����C��j:5{��\\x12�����hJ�ar�����\\x1bNF9\\x07��>�5�P�5�3V�g\\x0c\\x08�S���܅\\r��I��1�^��\\x17��)(�+DL\\x1e����)\\x0cK��<��O?|t�J7\\x0f\\x100�u>��}m\\x16��KL�4�W�^�_d�?�]�v��6\\x06�>9�wl�]�}(���\\x17@���rH\\x1bN@��]Ó�����\\x7fP�*ɡ�An-�w�]>\\\\��\\x13�Dc�\\x03���\\x07�Nݿ[N���6��}z\\t�\\x13���C.�\\x03�@a�� px�H���^&�l���v���;5��^�����)e\\x00\\x12I<\\x0f������J{kP���I4�Jޏ\\r�,B�gS�7��[ݸ\\x0e\\x0f\\'�p0:���Z-\\x0bYx_հҩ�\\x08���6\\'��x\\r�O\\x19��T����3 M6Ř�p\\x15�\\x02P��m�\\x18��\\x04d����p\\x1c9\\x03w\\x18\\r\\\\2k���tjbSXݖ4X�ne�\\x18\\x1bW�w\\x1ca�\\x00\\x03��GX�wB�$��}|ɟr�U$�R\\x7f x�?q���\\r�mL4]bz~�Hcb�P�\\x19\\x08��\\x1c1`<x���v*ޱsO�ZIf�>ߨY�\\x11���QB�x$�:�;�J\\x06�D\\x1a�V�=^���#�gY$ڇc��:�~�#��\\x00��G���Z��CX�i�Dް\\x12��A�\\x00�x�Y9�s��zq\\x06�-=n���H��Y�ne8�m\\'\\x18\\x19;x�<g\\x1dj�H��Ҵ�0ȶ\\x19�9��\\x0eP�N��p?9\\x03�X0\\x0b�\\x0eD�����Vơ~�}-\\x05�j���\\x00U��U\\x00\\x07�9�G�\\x07ۯ���\\x1cIz9�m�\"��d�ӹ���?�8c�*r\\x0fۢ�gT��Bӎ)fȁ��]�v\\x1d���\\x0cc�z���\\x1a�kC��\\x1a\\x13�I\\x0c�V@�0V#ې�\\x1c��0\\x08\\x1f~�����fP�\\x16��wY��\\x16*N�\\x1d?8�\"NYTy�p\\x0e�O�c�/�\\x0e��i\\x1e���[W��\\x117\\x0f�:`\\x1d탕\\ny��ۡ�\\x0bW��kw͙Ye��Q�\\r��n/�\\x06IQ���<q�=��\\x1a}z��X���_��R�_�݂x!��\\x1cp�\\r\\x17\\nЀH�\\x01n���s%��$�,}aM�\\'�\\x06�L\\x16\\x07��\\x06\\x06??n���J���x�F��VX�ll��\\x19�(N\\x07�\\x19�bՖ���\\x0f\\x11�DE�\\x08�\\x03\\x03�0��e��\\x0e�F�\"�drp���7���P\\x0e��\"�eBk/b=6>\\u074ceݣ��q�\\x00��Ȁ�\\x03��㞆��5kqƲK%\\x12�д$8�y�\\x00p�\\x00��g�Ԟ�;��=8r�O*�ѳ\\x0c*���\\'\\x00��\\x07��T���cT\\x13��(�:@#�\\x16����\\'\\x1eҸ\\x04`\\x7f�Һ�В#���ná~��\"�Z��������\\x04]�3�ı�>?=\\x1d�w5��e�\\x14K��Pd�\\x16Y\\x04���3\\x1f�F\\x0f\\x00\\x0cg=D�ܤ�v=��cmVi=6�ɴ\\x00$o��@\\x07\\x19\\x1f�Eik\"��ܗ-CvG1�JRNҟ��\\x0c�|\\x11��z�C@�p\\x11FT閵��ѣ�fWҩ �\\x0b\\x0eвɽ��#|\\x0c(��`��\\x03֭%��x�\\\\i�Z�1\\x1c�K`�+\"\\x16̀6[�2�\\x058\\x1e1��&�\\x1e�ښy\\x15�z�#\\'��2<jH$\\x12y#\\x0b��\\x0f\\x18\\x18=-M\\x1dfinٺ�By\\x16�B%�<\\r�}���������z\\x10�����ڬ�h�=ޔ��G2�$P���\\x03\\x05�\\x10\\x7fN\\x08����OO��8t�\\x05�J�eh R���B�s��FI��m\\x07A�B�R�_鉯j_��f/ks\\x15(\\x187����\\x1c\\x1e:�~��9t�`�f/��\\x12,�l\\x0c��\\x15rNK\\x0fn2v�\\x03�=9�:1��&\\x12���EŚ�fyc\\x11.�Pbm��\\x0c\\x0f���<\\x0c\\x11��]�k5{\\x15s!�F��s�����p>\\x06G��u�;���hj�!\"��Ka�p�\\x0c\\x08\\n\\x0f�69\\x0b���mط�@�閫z�+\\x1c2\\x03�\\x19�<g*\\x01����G w\\x08\\x04���\\x02�U�\\x96,T�\\x1a�\"\\x16&4�+ln3�q�?9�\\x0b:m��)�\\x12Jd�\\x1c��F�D\\t�᳐2A������r�*\\x1a��.��z�M\\x14�<{6�de�U$�1a����Yߊ�\\x11G\\x0cb\\x08�X$��\\x01�G�8���\\x00�:�pǈ������W�l%�Q��:� C�n��\\x14�\\x07��G\\x19�\\x16�v\\x7f��N�>����S�%�\\x00�ޙ�I\\x12�\\x02YI��\\x01�·�ݳ%�CTG���\\n�>b}�z��O�\\r�\\x07���A���bxቤgv*���|��\\x01�9�O#�\\x04,<\\tЂ��4Z�\\x05�7Q�.��\\x15�E\\x0c��Y\\x19�2\\x7fp�\\x1b\\x0cI����GP�S�U��H�Q�.GVE�\\x02�;gf㑵J��䎪U���?�\\x1bJw7�[\\x1b~\\x01\\x1f\\x19�?>:ƭv��\\x13Z\\x18lW\\x07�\\n�l?�\\x0bnf�\\x03y`y#��\\x1e�q[\\'�\\x16�\\x16�(��%��NhH���FYd_P�\\x01�\\x1c\\x002\\x062O��\\x00�-Oe�M.�vDu�e���&+#2.���р�c�v�\\x0f9�i��X���\\x1a��\\x00)X�K%[\\x0c�U4�7q�\\x04\\x18\\x18#9#8��Mo@}ncb�\\x13�Ԑ\\x01<�3M9\\x1e@\\'\\x0c6c\\x00��\\x1cu��*���p&7 }%\\r�/K�ܝ�\\x1d��Hd��P����\\x1a�^~C�2@\\x1e\\t9��Ie�#@�&�F/�}�\\x19�r\\x07�y#\\x1dp���\\x06��h�����\\x113U��d��\\x1e�\\x1aF\\x1eS#;p~\\x0f<c��3��+H�\\x0c�0�\\x07j(RA\\x0c\\x07,\\t\\x04\\x0e\\x7f\\x7f���\\x00\\x15��2�@\\x7fI��|~��OԒ-?p6��:\\x00R\\x19�t1����\\x04��x��\\x0e���\\x00/֪jZ���\\x1c渌�\\x12.9�y$�-��c\\x00uOk�(\\\\��t7�\\'�<E�E�V4\\x046���H\\x19_?��~�)��ԁիƁ�8\\x00��?\\x18��׳�\\x03Ӱ��d݁�ur�l:mp\\x17o�����㟏��t�\\x08+��\\x1d*�an׆�X�\"�\\x009��G��ʻ\\x02�\\x1eG^�\\n�C�Dۃ�\\x18\\x19��Z�tu�6㻞:�y\\\\g\\x04���\\x00��\\x02��fD\\x0e>���,�\\x0c��0O�\\xad*��)�������\\x07\\x0b���x�;���W�0S\\x02\\x19y�\\x02x�W�w\\x04d\\x15}�\\x18��� E�/o�Z#�����\\x1f�Gƻ�8�W�:�\\x1a�\\x00�7(ܹ$x\\x1f\\x1f��]_D\\x13V��OVWB�w\\x11��?n�K0���̊�@��z�D\\x19W�@E�u_��$)vg�<-�wg��\\x07\\x19=Lj�,R��X�k=MF�\\x0f\\x0cS��0\\x1eƑ��N�$\\x1c��\\x1f~;4��{����:G��X�S,qL�6�a���\\x03�}`�\\x1e��et5B��e~��꺴��[��>\\x1bZ$ʫ#RH��\\x00,q)`\\x0e\\x15��\\'�<t.��S2�kB�ًM�\\'�ݸ����\\\\&�\\x00#���\\x00 \\x18��]\"�+U\\x0c�\\x10Z�4�#\\x05c����\\x0eF\\x01o��t<�\\\\zΫj�p��Ԥ�F`}<�^T���\\x188�����\\x01����ȕ$ԗ���,\\x1aZ5Z��H��n�\\nЂH�\\x01���Q�\\x00���,���z\\'p��k�+H#�\\x13�\\x06T:�\\n\\r�8��l����U��P����t ��BbyDDF\\x17!��N\\x02���0I�\"����Y����M.�,l���+�!������۫ald�\\x03��q_�]ݚ\\x1c��\\x10,��6�#e�$r3\\x1a����d0\\x04\\x10\\x7f���I4=\"����,�\\x91]�6ð�C��9�>z�B�q\\x1b\\t-����+�7.x\\x11�NI�\\x00�8���rۃO��i�S+X�X$���\\x0f�X\\x1d�$���G\\x1ewc�\\x0f1^��=��:ƙ���%x����E\\x14�)�I�Iܹ�\\x05�\\x1c\\x15�㞵\\u05f7\\x07m���SN�Z;���,�\\x06�V��u���9^G��ӍB�R�\\x16�H\"�Γ��B\\x00!X\\t\\x0f�ld\\x11�\\x0f�7�[K�ug��\\x18fa\\x1e�i\\x14H�\\x062�~\\x00�A����\\x06%��\\x1fo�\\x06ھ�oiֵ�\\x14�z�Ņ�^@�L��%�U�3�#�zg<�U\\x06�nj�{\\x15�U�r�,c�]U�I��}�\\x00n�����e\\x1dE��T�l���N@²�\\rǟ�O[�kO�t��E�)\\x7fzn88\\x1bP�\\x00h��<u���#�m\\x1f��������Nl�\\x1de�8�\\t\\x0c�\\x16�\\x00aI�p@�#\\x1f��@���\\x10�\\x1e\\x00,s��Д;f�K\\x0b4[�E�A������\\x1ct�a+��\\x0e\\x7fۭ\\x18q���]E\\n��\\x1aL�]�9\\'���Ҏv(\\x07\\x1c�\\x00谂8�\\x1e:�\\x13ۓ�?~�\\x1br�F\\x1b\\x10���Z$B��G\\n\\x7f�x=\\x174y��:�@�\\x07��#��PM\"(=0\\x17���<���l�/�\\x06\\x08<�����\\x12�zj��B�@{@$���T\\x06t\\x14.x\\x1f9醱XXў\\x17\\x00�R\\x18\\x1f�~:�z��\\x0b�j�\\x1f��\\x0fxj�J���T:F�rp3��\\x1f��\\x0ew��D\\x13�\\x10���٥�$\\x08�l\\x1fZE\\x01���7�h�\\x19�����8 �{�Xt���R53ɰ��\\x1c����.�\\x0fh\\x03��3��/O���;6m�cb���3τ*��~q���\\'ώ�k=��դ�$�ͅ\\x0f\\x0b�� �\\x0c\\x05\\\\\\x1c��p\\x0f�\\x0b�\\x1c�,%\\x13�읎�L�~\\x17\\n��i՛P�mCf�t��\"�!$�6���623�\\x0f\\x1d;�B;�\\x1dE,Z�;��Zx\\r\\x1c[@\\x10��2�S���\\x06\\x19�\\x1dH\\x7f\\r\\x1e�.��`�*����6J\\x13\"���\\x03ۂ�� d\\x10\\x08�������\\x00��Z�`�\\x02��dxVh�\\x7f�\\x00�\\x0b\\x03ʒ2yS��u�-.R\\x07�H�\\'�>wΔ��\"-ݒ)呫f�*\\x0e¥��-��NI\\x1cq��\\x00i�Wf�CW�(��J��FҮ\\x0f\\x0cN2G\\x04`�\\x00���w\\x06�oZ�F\\n�\\x13륲�-�0\\x1bn�)X����\\x13��\\x07=JK�Y�m \\x16\"x`\\x08%��\\x068�(\\x07��ρ�ֿN���2��\\x07��*��ZѮ=�-٭$�cY\\x12V,�.\\x19�������Cٚ��|���CV�\\x1cWY����U\\x04����\\x19�\\x1d �ێ�\\\\�H\\tQ$ ���`��~@�$\\x1c\\x0e�}-�\\x1b\\x15ڲ\\x0b(�C\\x04�v��\\x7fR�\\x00�\\x0ep\\x0f[\\x15\\x11V��T\\\\}\\x19л�J\\x15�{T�\\x18��_d\\x13`\\x17%\\x08\\x19\\x0b�F�F~sԖ��z;���i5ͤ���n�a��`\\x0e3�$�N?O\\x04祺&�\"\\\\�\\x15������,X�\\x02�B�\\x18�G\\x00�\\x1d]�\\x15�\\x08[L��z�V�[)8*�+�\\x11���\\x15>O\\x07��\\x1b�3}ԧ�A)_����f���I\\x04�\\x03(����b\\x012K\\x00�G�\\x02q�9wRާ����0\\n5,����\\x1efm��s�\\x17$\\x1c($���i�)����e��\\x02\\x1a�Y@�#K*�I\\x18\\x01\\x01\\x19c ��\\x03\\'��\\x06��ڵD\\x0b-���v�� P[\\x1bG�\\'��\\x03 \\x13�x�^# ��\\x7fxgf�b���Ғ}R�\\x11H��AS\\x1dp�8�\\x05UǴg�\\x18�T]�V���Ūz?D�띵�<�y\\x0b���~N\\t s����\\x0e��,�\\r����\\x12,��I�Um���\\x1c��\\x1f|���4I�]�\\\\�y��U]4�\\x02�G7��>�Ҍ\\x18\\x1ey?���l����q\\x0f{�\\x1a\\x7fs�QiRZ�&�\\x1bDg�S��s��>1�����sM�oEU��\\x04[\\x15�y=@$ �p\\x00\\\\�\\x14s����:Ab�VT6\\x18Ⱦ�\\x05��݁�w\\x7f���g�=�B#�\\x7f2�\\r�\\\\\\x0b\\x1b6@!�أ#�\\x00yϏ\\x03��\\x04��\\x14�C)\\x7f\\x134�*�\"���=]�%�I�<\\x1e0�\\x0f\\x04\\x11�$��=3��t����,�jY�*=r�T�8�/���\\x16>O�=s\\r\\x1bK�i���2��\\x1fq�\\x00�A\\x03�2\\x0f����\\x13G�%�\\x02j�ic?��A�a%N�8�c\\x1c��Ҿ,b�\\x16��j��t�\\x1c�Y�Vd��\\x1a\\t�\\x17$7\\x0c\\x0f9*\\x0e|��\\x1dg�iJ�\\u05ce��ah\\x1a�\\x08�\\x0e�L?S`�n2|c�q�I\\x13G�KX \\t-���Q\"e\\x1e4��b\\x0f\\x07\\x01��\\x7f�c�=�\\r\\r\\x12MJ)d�$\\x12\\x11RH�>����8�,�{�\\x1cm#�\\x00?\\x08:�`M��������A\\x0b��v�o\\x1b���\\n�p0�W�G=ek��S�b�}3Os+��=w���\\x0eH\\x19 |�>��J��_K�j�<\\u07b4�\\x18\\x12�#:�\\x1e|��N?��VǸ�jZ=��kE��&�\";���o\\n=�\\x00\\x103�A�\\x00b��Z�L}�ك�m��7j\\x17��5+\\x1b*$��Ib0A\\x03?s�㨍w�5�VX\\x7f�Ga4\\x04��x�J\\x0c��a���n\\x00������\\\\���\\x1fS����� �W\\n�\\x00�\\x17o��\\x03���V����!�,W}>��%uf��n]@f�\\x05��@�\\x1f\\x1dAJ�,D\\x16D�֤N�ɣD��ӫ\\x04Dh�r)#,v��p?�F3�\\x17C2��Y�̘\\x08Uw\\x13�\\x00��\\x7f��\\x00=WC�\\x1af�b\\tacy�fb�\\x0cB]�û���\\x16\\x03�㨭WW�\\x17p��n�ō�E\\n]\\x037,\\x17<��G[\\x13�4#�Sb;Nͽu��\\x01��^��2re\\x00�\\x03�9\\'�Ǟ��/EV9F�i�h�@Z6��a�#\\x1c\\x1f\\x18\\x07\\'�}\\x19C�F�T\\x1aZ\\\\��K\\x1f�IY�\\x0b`���Im�\\'��zA.�G�gi\\x1c�d\\x7fTW�*73\\x1c���S���1��4�%řo��:6�CS��Y\\x16lH����c�,�\\x1c3\\x0cm\\x04\\x1fp�#\\x07�#��Q^Դi.$v��Uf�i i&��$�\\x01�\\x19#y�\\x1c�\\x04t����:v�V�z��a\\x02��\\x16Y�x �\\x00\\x04\\x0es�z+���Ζd�C����쩆$\\tʶ|�.\\x00\\x00��\\x03穆����QF�5[mZ=\\x19�C\\\\,\"Ő�\\x1a�A�|�\\x1c��\\x00�\\x13�\\x07UTmw\\x0fs����R�Ԛ�Q�;�#��2����\\x02�g��#\\x07��D\\x1f�)G%��,���1�\\t&b\\x18\\x00\\x1b\\x18��\\n��x�{�;��_�\\t�4�y�_�&O�l8\\x03�ns\\x9e\\t�E7�C�)+kU�-6�����\\x17�7�H���\\'�DjH�7���1��B��W��A4�b\\n��9|���q�\\x0cs�\\x03$�z���k:�V�_�d�,�²N\\x06��\\x7fO�_��\\x0c��zp;v-7W��\\x08��:|��R��2ɀv0�X�m�\\'\\x18\\x1c��T \\x0b\\x00�\\x12I�u~�pю���Ո\"�[B�ܿ��\\x0eI�>>:ۢ�`�f����++F�\\x16%�gw��\\x0e\\n�>��z�O����,�˾2�Pa\\x0c� \\\\��yL����:\\x16�pi�\\x02׆ȯf;\\x13G\\rX��2�8g�3�\\t\\x19=@r\"���\\x19��7�<Pi��X�$~\\x10��\\x0bc\\'vq�b�r�q��qi\\x12k� \\x1al6�6�V\\x11�!�ޟ�Q�\\x14dgϴ�qӛ}���N\\t�O$I\\t1�s�\\x1c\\x0c�\\x00L���s��=i�tSZ�*u��}��c�X�\\x12���pU�G�3���v\\x0fP�3ur�.��t^�I5\\x19\\x16�կ��os&8\\x03$��|�OKa�[\\\\�e����(�\\x16��\\x17ӴX\\x00�7�p\\x0b\\x03�<y=|\\u0557U��ŧ~�%��!�U�s&0N���\\x1f\\x03\\'�4\\x19�MV����i�t��C2�[Ѣ�S��d�\\x1cx�\\x0fR�D�!��ݱ[F�i�$�!�8�1YC\\x16�*����\\x07?�:��Xӿ�\\u070eг\\x1d��14!�L� ��Ƿp�k\\x14g(�t\\r��dr�b�\\x12Sr�X`\\x1c\\x0c\\x06\\n\\t\\x00���:=��ӞH�M\\x03Z�\\x02he\\x0cĨ\\x00\\x1c��1�1���碔\\x05��j&��i��kN\\x13Ov*�G ���G\\x14�Fb̠�\\x1c�@_݀8\\x03�X�۵aҭ�:bؕB}[;*��e�{��#\\x1e�g��5�\\'\\\\�4��\\x7fE���#�_9\\x0c$9χ\\x1c�.x�\\x7fN�gT��^�p�֏iRA��\\x05��\\x109\\x07��Ub�Kx�r��0�tږ4T�V���\\x03\\x14YS*YT\\x02\\x19���#��\\x1f�z\\x05}G����\\'�$d�L\\x13l2�ǽP�\\x1bT\\x00Ǐ?��E�ѥy\\x0c\\x13F��g�əd^K\\x16F<�\\x0b\\x00�\\x1f\\x1e:�3i����j�D��\\x11G(�\\x00��\\x01�$\\x02\\x08��ߞ�|���\\x17w!e��G��[W1�u�\\x04 �`N�\\x16B�\\x146\\x18���\\x01\\x1c�q�M;[N�MWU�=h��V�$#d�J�ZG\\x07a�\\x12+�\\r�q�:\\x1bW���!N�RԦ�:�Oj��a�� \\x08���3�\\x01\\x1d_�6�^\\x1a\\x11*I-��2\\x1d\\\\\\x13!l�#\\x00x�ǟ\\x1c��\\x17�����\\x0bܺ2�G]��ŶJ)\\x1e\\x1a=��˕f�� c��\\x18������m�������E].����\\ri�I=W9ݻ\\x1b�\\x18\\x07;�#\\x1f9\\x1e:��5�jy�Y�Z�!>��\\x1c�����?�~z�r/��*teD�B\\x1dr���u�UHc\\x9d��\\x13Ъޛ\\x02?��G \\x11��X�O�\\x00��?K��A\\x1f��N�\\x03OQ�>d\\x18*s�\\x10z\"B\\x042����?��k�Q��3�\\x06 �\\x0cצ���H#�\\x07#\\x04���&6\\x05[\\x04t\\x05Y��9�g\\x08�c�O��1\\x18\\x15�<����7:\\x12�2S\\x0f�\\x1dc�\\x08�^X�\\x103�<��[Ypsǌ\\x1e�S�� 0\\x12�\\x03�~ߞ�k�AB\\x7fA���\\x15�d���\\x0c��\\x1fc֗��!I\\x102\\x12\\tV\\x19\\x07�?�� ��Ӓi]�5�]��K\\x15\\x18\\x1e�ݻw \\x1f���^ܞ\\x0e�夳n`�\\x12]챯�\\x00\\x03�펺�4�Ua\\x12(\\x0cK\\x108����e\\x16�\\x14\\nDp�\\x16.H<���2�\\t�\\x00\\x04���z]B:��8Y�K�\\x10C~�A�\\x060~�k�tG���ab@v�R2\\x01���\\x0f\\x1cq��\\x11�+�\\x07��D2\\x06��\\x0c?��\\x7f��\\x1a��\\nٹ�{�����W��skO�]�d0\\x06R�\\x00��\\x18\\x04\\x1f�U:^��j\\x1a\\x12A�P��F\\x14W�\\x01\\x0c�\\x1f �<`��\\x1a\"6\\x042�r\\t��Y5y\\x1b�\\x03\\x07\\x07=2�U��\\x03\\x14c\\x00����2pPO]R4c�\\x1f\\x18<�\\x17��\\x00~���mC\\x03�<��grT\\x03\\x18\\x00��A�㞭E2�\\x07��z�)�`�S�<qҜ8�Nc��D�\\x18�mUE]���E������C&\\x06���\\x1d\\x12�\\x14\\x00|�:,Dy��qV\\x1f\\x07>:\\u0600\\x00Cq�>:�<\\x1e\\x07Y�\\x1cn\\x1dD�g�S1�}����\\x08�\\x7f�\\x00���u�\\x19Q����+F\\x01_�z�P�W8#�����\\x04��\\x7f�ך\\x1fy*@\\x03�s��6\\\\���#��\\x12\\x06�\\x00�<\\x03Ѿ�\\'\\x1d\\x10!\\x11�O���8Q��!\\x18�3�\\x01�\\x06�2w}|�Dp\\x01*��d7�o�\\'\\x18�w�uVѴyl�\\x1d\\x1b%c\\n�m�\\x00b��\\x1ez��Zs�jV$��U�fnkɄ-\\x18\\x19m�8\\x01N1��9o��a�%ψ�hM\\t��d�9l�sF�c|���P��2\\x15B�\\x1e\\t?\\x19���N�r^���E\\x1b\\rB��֥�#\\x0e�F8\\n�a�J�p\\x00����A��܋P�Z�e⳾J�\\x03�$�[;�\\x04����\\n�\\x18�y�w5�(z\\x0fU�����z��\\x18��\\x17�\\\\g�<~OU��=��N���P��M8�-;\\x1d��6�\\x06�^�eTV\\x05xB�0C\\x1e0N0\\x0f\\x1cp�~�i\\x10kz����X\\x11,�S\\x06R��7\\x068��8#�q�:����ɣ��^��\\x0c�;k(a��;�\\x08\\x1bG�џ#�:�S�lk%,S�������\\x07�ϑ�n\\x0e1�z�=8VfV\\x1f���\\x00\\x13*��z^���w\\x16�B0��-���\\x034G��<\\x02�y�z����9\\'�R��r]��5\\x07\\x03\\n�w���\\x1f�z���h�4�R��Uz��1Gꠐ��\\x0e\\x062H<}�����u�)\\x04\\x01H0:�\\x04{\\u05cc��\\x00����\\\\/\\x11�Bn�G\\x19IR��Q��\\x0b\\x07�0�ٮ\\x06�@p8���\\x18#��z�ҡ��=��m�kәQ��6�>�A���\\'9��\\'�9�j�k�\\x1al�MT���\\x18ʳ30\\x0c\\x18\\x11��`}��mW��R���IvZ�B�\\x0c����F��X�0y��\\x07SBT\\x1f�f�֧OY�*�;f�N$�Q}�B���A����q�㞌����R�儫�_��\\x0c\\x08��*$p\\x19���\\x0c\\x18�߱�MnшP�T�Dva��hIfvU�\\x06H��d��\\x07\\x1ez��\\x1dF�sگ\\x15z�cH�pC�P!y\\x18\\x0c\\r�\\'>07\\x01�\\x1f=p���Q�[��F��}��E%�\\x12FL\\x1bc���S�7�0\\x03;|{���}B�ӽ���U�/��y�\\'\\x1e��2\\x08,0\\x08\\x1e\\x06\\x1b\\x1cq�ӭ\\x03[�,]�\\x13�Hmj6\\x19�\\x07�G詏j�>\\x17ǟ�\\x1d\\x1d�\\x1a�Z�\\r\\x0e�Ik�\\x00,2�3I\\\\\\x1a�Ԍ�D�Fq�\\x0cʹ� �a�x\\x12\\x00фl�]���r�z��!X�e�J�E#G\\x1a*���$e�$\\x00y�\\x1dc����[�-\\t�z�Z\\x1fW�X̑�\\ne\\n��ղ?�r\\x079�L�~������}j�a�\\x02�\"E\\x1bX����w�\\x0b��x��j�\"�m[�rR�5��\\t��6�ȬC�H���#$��\\x0e8���\\x01�Q���Mv�Xg\\x11_�YB���P��q\\t\\x12\\r�p\\x02��:��\\x0b��c�4J��3}0,���1\\x07�Y\\x19\\x00�9\\x07�&��GH�c�M�\\x1c�_-�3�F�9�m#\\r�Cm?$�#���f��m[MV�k���7\\x05�;��B8\\x18��\\x18\\x18\\x1fn��\\x06�\\x00�`<H^��m���>k�K=)��cX�2��\\x15�\\x00\\x1f����\\x1d\\x11�z�f�ٷR\\'b�\\x15h�(+�g���$���?n�\\x1fo��ؖ�s\\x15ՋC��º\\x06<\\x00x9oՐr<`��{��ih��c�\\x1e�R\\x1evU��\\tD\\x025�1�\\x01�����Փ*�����\\x0b�c[�\\x0c\\x11�\\x0f\\x1c���\\x1d�ġE�\\x0b8\\x1c1\\x03\\x07�|��0�^mJ�R�i/C]�j�.2Y���9*��rFN:�D�-#�\\x0fB\\\\E �,\\x12\\x19\\x00\\x19\\x19R��\\x0cG\\x1e>�:#� ��9���0�%�u��GU�[����\\x05�z�?�\\x13��FN��\\x15Y��U�Ӛ$�\\x0c�$- Br=M�\\x1fj�\\x01�==��Yk���d��\\x1d\\x02�MSn\\x1b<�\\x07�9�ҺS�k\\x02}D;-�\\x04�\\x1a7���X\\u070f�\\x1b\\x1eH����U��ä�#�_N��\\x1b�{�9\\x1b~���\\x03?��#_��8\\x0b4$����:�k�n�\\x19��\"�����\\x189\\\\sϻ�����֩gԦ���8羰\\x16�Nw(�\\x0388 �����4Zd���\\nPx��\\x00Sh�,q�\\x00\\x13�9\\x04�\\x1ezj�KS\\x15�B���\\x11Z���9\\x14d��8\\x00\\x01�s��BUuR����\\x11IgժZ�\\'�H�DlI�x\\n��g\\x03�\\x00n���ٹV}J��\\x1e(�ãs�c��`\\x7f\\u05ee���>ڞ\\x1b��J����DJ�\\x00n��\\x0eG�\\x04��:�Mr�j!�M}7N�W���l��ʡ��@㏜|t\\x15�$�NL��t��NZ�5��\\x19\\x13z�pe.\\x1f9\\x7f�8\\x1eq�����I�j��bH���=7�n�1�v�\\x0f9\\x19\\x18\\x1f~\\x0fT��I���Qh(�x�R�v�\\x08\\x07\\n�HRI�\\x00���Դ��,\\x17�ɴ1%\\x14���=ܒ��H��?X((���c�ƌ������R��\\x19\\x16E�M�0\\x06>\\n�\\x01����P]�^��zt��麌f�6��2\\';\\x1b\\x1fv��\\x03�F����贸g�>�\\x1dwi�Y�13�ͽO\\x07h�q�s�\\x00n��n����\\x14�aK�\\x14\\x16 ���9-�w��\\x07�\\x0es��\\x05�lH0X\\x1a�.ż�\\x1du�\\x1b�\\x00teM��ǌ��x��Ԧ��K���\\x13J�LD�ڛ�Q�q�3�\\x1f��>zժwN���1�\\x03i-^@f;���eX�\\x05H�<\\x1d���1�_mBK�G\\x1c��\\x10\\x04�\\x17dJ3���\\x1cg>>ǭX�5Q�X��f�y��+Vj��\\x12��O�\\x19\\x08\\x1b\\x1bh��\\x06\\x0f�=|�\\x06�O�^d}&��lKu�\\x0f�e���l�PA?\\n\\x07�(4MWV�:SO�k\\x0b\\x04T�\"1C\\x10I\\'V\\'�/܌�x�#>z��mZ�X��>��hcx��\\x07�\\n\\x16�v�ʜ��q��B�np�,������\\n�\\x08�6��M+e�@U$\\x01��G<\\x022ı��\\x00���ՠ�(�.�e`6�M�\\x15Y\\x04�V8\\x1e�-�q�\\x0b~�x�GS=�wU�D[V�k\\x13�l��݃�p\\x06\\x19r|��\\x11�T�v��>�E\\x18�\\x0c�\\x14�$�\\x163)ݑ�q��8��@D�\\x0f2��T�cW\\x17.��CWx�\\x18�2�b�E���1�#�����:#OKP�-HSP�h��-�++�\\x01�ە�ϓ�|t�N�[���\\x1e:���I\\x03ΒΊ�\\\\{���H\\x19�?�z!�K�B�\\x00��v�\\x11��r�Ǵ(�\\x1d�ry�)b,\\x18����\\x1aՉu\\r\\x19�8^�Z��IY̑�_r瑱����� u/wW�\\'�C�2C\\r�eX͓\\x17����\\x0b&�K\\x0es����S����\\x14p��j���Xc*̸\\x06D�cg\\x03h\\x198�x�M\\'O�\\x13���*�ȓ�����\\x18c��\\x0f9�\\t�u|d(�QMw\\x1d��\\x00w�O��i���6�E�H�E\\x07�\\x7fj�\\\\�=]���0?\\x07��\\x7f\\x10(�y�H$Ԩ�\\x11;�\\x19�Es��s���c\\x00g?\\x1d1��自�X���#��f��m�8Q�����ƱV$��h.�X\\x08�\\x01׆��W\\r�1���#�\\x04tS�1ԙ\\x16�&Z���\\x0e���\\x19��$��\\x1c�4!c���\\x01�c\\x1e�I�?��_`k�\\x1c6%\\x16/ZX���3��f$0\\x92\\x07\\x04c$��硵8!:DTu\\x1d=\\t�gkFfv�\\x1eN�\\x0e1�\\x1f�3Ϟ�ջz�Դ��\\x04�Uc\\x11;�t\\x12(UR��\\x007�P��\\x11�\\'�ȋ�\\n\\x13��A��h�,�Ֆݱ\\x1cq,�@�&h�R�H�\\x0cF\\x08\\x18�\\x04\\x12p>:\\x1f�$!��`3F�\\x07�\\x15UHǖ�?��>�|u?��uz\\x10_�V{`Ṇsmb\\x17�|���\\x05�?\\x1ez*폭�P�L�;Ζ�\\x02�a�\\x16$����@;��\\x00#��\\x0bc�QN��ْ&m�PId>�M�@\\x03;J��2g����e���t}A�I]&�(�I �E�oLM\\x0eHT�\\x00�o\\x00����\"CF��\\\\�h�#O\\x1a�\\t�\\x1eH\\x07�p\\x00\\x19��C[����F�e�\\x1fNI�\\x18г�2U��3��\\x07�M��/�0��v�\\x1aHu�K\\x1d��7@O��2O-�A��I�~�\\x1e�Y�*��J�<�Ұ́��\\x1c\\x1c\\x12\\x069\\x03��=r~��g��$��C�䣫���\\x1b\\'\\x03�G�q�<��t�B���\\x01�A\\x16���\\x0f�h\\x07�9���Z=.l�\\'�N��5c7,\"��PO���ޒ\\x148��zWE��\\x1d�\\x12=�q������?����*�-\\x0f�\\x15��?b�l�\\t_o�\\x01����C�nf\\x1e|td\\x12\\x7f��&x�\\x1d)��3=��\\x1b�\\'\\x1c\\x1f���8�8¡8��_��\\x12+�X]�|09�_6��8�>�\\x07�\\x04Ό#\\x05�\\x01�\\x0cǏ���\"ca( g��K��l�@�tu[�,�%\\x02E\\x1f�@\\x1d!\\x04N���\\x08\\r�\\x1e\\x03u�ܤ\\x02���G����\\x19F��088�\\x08�V�1�\\x16P|�:�nt�q�r\\x0e\\x7fۢ�$\\x16\\x1c�:�D�\\x03+gw8\\x03#��J�\\x14�y\\x04r1Ғ\\x0c0���\\x07i�#篞�����_#bx�\\x1f����Ï��\\x00��\"jt�A������8X\\x7fp����\"\\x0f+��筁�\\t�\\x1e\\x0fHX�1\\t�|\\x13��\\x00N|��9�Yg<�\\x0fS$ΞQ�?��\\x16�o#�y��9�x��JA\\x07h�\\x1e\\x07�3�\\n6��\\x089\\x07����\\x0fZ������\\x1e0zC:lF�!�\\x1f\\x1dx�\\tǃ\\u05cf��\\x00~��\\x00��DΚ��\\x01�\\x01㭥Cq�͘��=L��:}�@�\\x1ezC\\x1e�an�WR�Q6���\\x1f���x���\\x05\\x03���f\\x04�\\x1eU��,r߬��z�!2\\x12\\x1a\\x039��GS�5��<�\\x14\\x0b�6�Ƿq\\x07�����\\x00�z���aԖ���\\u05fdZ�M�1�6�\\x08NpNq����z�� ގ��~\\x16T2) \\x10\\x06���???�+��5\\x18��g��Q�\\x15��pH,N0��\\x0c\\x17�\\x1f|���(ƙ9w3��Bnw�\\x13�)�ku�H�\\x08�\\x0f<��\\x001���9\\x07�I��=I݂[]�-+t�&��<q�3��z�݉�O�\\t�@�J�\\x0cQ�^H�\"��`\\x1d�\\x1b�$�ˑ������oǣ֒5�\\x1d\\x1bi\\x0e�B�\\x18\\x12dc�|g<y�\\r�\\x15`����H�>d$�<��қ\\x16�W %�c�*zs~�ʧ8<x\\x1c\\x0c�6���z�2,��\\\\\\'ԕ\\x18>2B�l�2��~\\x1b�Ӌ�?�J�Jξ�\\x04U��1�\\x14���9\\x1e�O\\x19���\\n$�\\x11�O)R�#\\x01_!��1��d���\\u05f6�\\t\\x14\\x7fH��t��F�\\x04��T�<�\\x0c�\\x0erp\\x079\\x1c\\x0e8��\\ue76b�N\\x05�k\\x02�CW�u1�\\x04�>F2O\\x1eq㩦�d�,�S��S�8��#����@߆�}-�^����k�\\x00v���~�<}�~㭸��6�UƟ#�:�N��*Q�~��\\x1d;Q-Z/M\\x0cxL�H���\\x067\\x1c���z}�Z[Zz�� �^8,�6�.\\x14,�v�\\x14�x\\x07<u�t�Vd�Z[P���P�X>�FJ��?>:btK\\x1a\\\\2jtmIF�ƞ�֗\\x0b�/�d����\\x07\\x1f=L�E��2���j:�Ze��:�]W��\\x00�\\x03\\x14���\\x00��g�F\\x0f\\x1dn�����i:M�ڃ��Y,�J9�\\'\\'���\\x03\\x04�`�\\'\\x1d#4-]�&�zͱz�\\r%���j,�\\x04�S8�`����wkT�\\x07���o�\\x00�\\x11��K*\\x1cH%�p\\x18��I�\\x05lg#���W�X\\x17yv�7;�Qz\\x11-x�0�\"9��U\\x05��>[ ���z��B�H��Kzv�ni+��}�F�yR�!�\\x00\\x0cc9��W}��ʟTڌ3�`[�g�yĊX�i\\x1d�d3 \\x189ᔜu�W�4N��cXjY���\\x18�rI�n\\'��\\x0e\\x1c\\x02��#\\x03\\x03\\x07���\\x1d>\\'�I5P�\\'���Fy)�,\\x7fD�y\\x12Hм�\\x13\"/Q�\\x05G\\x1c`\\x1c�y�^�4\\x1dϥɭ�7^��Z�K����P\\x0b*��\\x0b�A�\\x0f���4\\x17��\\x19+�ءb�8��gEW^2O#�\\x0c��#9?\\x1ft��KZ~�,�c�$��zG�X\\x0c��xQ�3�Ho�I�_XT\\x10.\"�;��ҋ�ji��6�b�B*HF�F\\x17$�\\x00hϞ<�K\\x14�(�O_\\x15R�L*�*K\\nƪ�PK\\x1ewH�+��q�}��֧-H�Ԟ�����L�� P��\\x0b��}�O]\\x0bF[w�AFg�,G���#H��\\x05�\\x07�p,\\x0eq�\\x06y�A]@���}\\x17����Ud�de34ҼQ�b�p��ǵA<q�\\x00N��\\x00�#L�.�\\x14a�J�S�5J\\x16C\\x11`���a�ܓ�3�֛\\x14i�z�յi��k\\x12\\x12 \\x97u\\x7f�\\x1b\\x0f��7\\x1f8=}ִ]N��|v�Z�t[k%x\\x04Ӻ\\x1f�$�\\x14�pe$\\x12@o�ǎ��\\x7fH\\x0b\\\\q�j�BX1�ij�V6U�[ld�P�\\x187\\x04�y\\x18�zi�z��\\x1e���\\x0c�=MI�\\x02����˽�<\\x0cm��`�|#��,���)�_\\x08ȲJ�\\x14\\x11�%1�R00�?㭗4v�פ^[�f!,�v\\x7fO;��<�%�\\x1f�\\x10\\x03N����Q�u�%F����\\x00\\x1a�a��\\x0e\\x0f �/$�æ�uס��\\rj�J�K��P�Ub�\\x1c\"\\x008ϒO>>zc\\x17l�\\x05���\\x14� �!�^Z4h�2\\x021�$m��\\x00�K��&���t-��0\\x12�\\x11F��\\x1eN�S�\\x079\\'Ƿ\\x1c�~.G\\x11p��q�W��KVtDG�q\\x10ٌm��NPq�\\x0eps�#穽_�u\\x1e�Ԡ�.�I~�A�e��+\\x13�\\x16\\x00\\r�RA�$\\x13��\\x1d\\x01�Z�3X�M�\\x12ī\\x1b\\x19,���L�\\x042�\\x04\\x00\\t��@�>���3R\\x1ax���*�2�s��3���d����\\x1f���2��E��p{��f֯[��+i B�ՍY\\x0cy$���\\x1b\\x19���T�c��B�uHf��@Z!\\x03HbW�{�\\x18\\x11���~è�c�ơ�ͣ�Q4J\\x165�\\x12\\x19�$�\\x7f�~�uO��n\\x19]kKR��f43��c��B��r\\t�??\\x1dS\"�kP0\\x06\\x1d�M>�-���\\x1fM�$�`1���+�8\\x19#\\uf7ff\\\\�S��4�ὤM�j�´Q�R�����\\x00�G��=t9g��S�5!�ks�TX\\x08X}Es���aJl\\x07#ݞpA�]]KBԵ*���S�]���܀�9�>\\n��|\\x11��O��\\x01���4�:4����)\\x13X�3�nX�Jc\\x188�<`�\\t�uW��u�Ш_�\"y55R\\x1d�AG\\'kF�\\x00\\x03-���s�J\\n\\x12j�,D�\\x05�Xz�����\\x14��P�|\\x1c~�5m9��Q� �\\x12,�y&��¡�\\x04�\\x1fռ�1����\\x06\\x00�\\\\\\x00�\\x1f�\\x0cQGB7�4�䙽C\\x1e\\x19��d\\x0fx\\x07��\\x1fs��:EXZ�dX*\\x1b�N�\\x1c�\\x06��oh\\x07�3���:g/l��CN�O%�$\\x1b�=���\\x19ʌ\\x1c\\x01��$�\\x7f�4{f���\\x11�c�d���zM(l�e�\\x18�\\x00c9꜕@\\x11\\x0e>Gq�\\x0b\\x13i�\\x10�5�*=Bx,\\x034�p�`\\r��r�G#�vy�U�oO��[��A8�+�Vh��A����`�\\x1c|\\x00\\x07�H���u�\\x0b�2^V,�\"\\x16 \\x07\\x1bY������Z���|r�m��j�E�z�x6WM��\\x03\"�!}�c�d��c?�\\x1b�F�j�F���\\x12�3I�\\x15��a\\x1d��\\t\\x19wF�|���g���_�5}>m��U�D��7��TbW\\x06F��\\x01�\\x00�>>\\x00��G���Ѕ[u�\\x17QL�q�V6\\x15�Wj\\x0c`\\x03�\\x0c�\\x103�@j=�\\x0b�M(a8�R{ӓ�\\x0b��\\x0eN\\x00\\x1c��`s��2qn3�s䖿�>��\\x12�j�ZQ,�֔ϼ�n�W���� t\\x0c}�T����a\\x1a����c�=�\\x1cL�x$\\x0c# Q��9o����w�y�X��U��x挜F��T\\x01����o\\x00\\x0c��uZZ��<ת�\\x1a�U\\x16��\\x02\\x02ʠ6\\x1c\\x11*\\x0c��s�/%n��{�pzRQ�kK�X�\\x01���x�3�@�>NO��ۧf��%�R�\\x08ٶ��\\x17}�\\x01�\\x17�|�q�9���:V��i\\\\2[�R�\\x08�L#L�ƙ��\\x089\\x1f\\x07��>��^�\\x1c��W��J�.��ø�K�\\x01�ϒz̷u\\x0f*�O����h��\\x11�ԻH�\\x03�\\x7f��\\x10�\\x03�+��>\\x7f��ΐ�ǥz\\x18\\'�\\\\�{\\x1br��\\x1e�\\x07�\\x1f\\x03\\x1c~3�-[F��GjƬQK��\\x1c��Y�\\x1d�0�U�?>OK��z��\\t�Z�5i�\\x07�J������_�\\x1b\\uf70c��@ ���ܖ�\\x0f���k�m�%i�e\\x167\\x0fTr\\x1d\\x17�\\\\d\\x13�\\x1c\\x01�-]>mU�+�\\x1cq���\"�\\x1d�\\n��<\\x01�\\x061�54\\x16mkEzu�D�����$7�ʰ.r\\x19��0q�~�w5(t\\x18�\\x0c^���\\x0e�2;>N6����\\x06G��Ug�����s��\\x0ff��$\\n�t�!XV ŦP�:ǞW��\\'�|d���[��Cj��T�r�!2���de9�\\x0f$��ܽ_C�I�E\\x15�\\x16C˶\\x04ˆ��?��HQ�9�G\\x07�gPԴ��n��U\\x04���\\x01�J\\x0e�\\x19$;>O\\x03�x��=g͈�\\x00������c��Ň�ye�)H\\x0ca�- h�*��~��\\x1f<n��XUӂM2O$�=\\x08�G�-#{\\x7f��R0Np\\x07��t\\x04z�GJ�f�n9�\\x0c�Rʪ#����;�\\x0e1��OK�n�b�\\x19-��ؚ&�}7m�xc�\\x1bI�\\'\\x07���5����L�or�4�bI�Qm��jL$>�*\\x0e\\x14\\x15�Gqǂ8玩t۶bj�\\x159�&_W 7�\\x13�NO����\\x0e�[v/i���h�Y��c��Pv�@���@\\x1c\\x1cc��8��J\\x12hY�\\x13+���ȉW\\x08\\x0e�P9\\n@a�O���z�\\x7fN���x�ԡ��B{�㰪B`n\\x07\\x1b�\\x00 uaP��B�|�n\\x1b�p\\x13\\x07�l\\x7f�~�~x�5�[�\\x08�\\x07����x�D�|�|\\x0e\\x08\\x18���u\\x0f���x=:�}+21�@�ːH�\\x04\\x06?�z��\\x07�c��.*[R��d\\x17\\x0c\\x0b�1�m�o���>~���<J6�������Mi-E\\x18`#�ms\"�N\\x00ǃ��\\x1f��U0Z�Y��b+�0\\x0b�d��2x��-���:�r���A��Y�ǵ�|���`�1$R�Ǹ.T���\\x18��淚��>\\x0fۢ3/�f�۴�\\x08V\\x1e2<�\\x00��\\x11�1\\x1b\\x1908�#�/\\x1b�FG����j:c%F~H�=Z�bta\\x0f0,L��p\\x07��\\x00�׀¶O����ybA�2K� y=m#�\\'\\x1c�:��t��5%I`\\x07[!vpr0~q�֔\\x1e2���}��\\x14.\\x1dx?\\x19���\\x08H\\x04\\x10��~�\\x11\\x12�<n#힇wܘ\\x04�\\x0f����$2\\x02\\x1b*�<����\\x18b\\x10��?\\x07���\\'���1R>�nl2����\\x13�\\x0c�n>q��u�8���\\x1c6<�>:�\\x1a\\x13�t��N�\\x120\\x7fY�Y,x�\\x1c\\x1f߭�<s�#���\\\\\\x1c��f�.t\\x1d�\\t���\\x0e?~�\\x18�?��\\x16L\\x01�=\\x11�\\x19�\\x01�{��}��08>:�G#��\\x01\\x1f����\\x04���\\x1e9\\x1dc� s�{\\x009�z\\x07P��i�;ܝbT]��8\\x1f��%�\\x1dN�^�*֚w\\x1b�4$/�����\\x00�n�\\x1au��G�IJo|8�\\x13|mS��1��y=S�o�kJ���N/g�BG\\x1bw.q�?|y<\\x7f��\\x15���ݽ<v��W�\\x19K{���Pr�d�\\x07<~:Ӌ����3V�ڮ�\\'�#K��i���\\x0b\\x16�����\\x15\\x07\\r���-z� ���\\x7fշ�)\\x12?Q�C�n\\x1c\\x01��9?v����PmN6Қ���i��<���C#?\\x05��\\x05��PA9��>9\\x10�VZ�\\x1b��qV/^�!D+�\\nT>\\x00@\\tC����8\\x1de\\\\��\\x1f\"M�w\\x10w6�Z\\r9�j�hj<6j\\x06E�1�i\\x08�+�G�\\x1cqԭmZƳ$�V�[s�\\'�+!\\x07p��p\\x00��ǎ�n�\\x04���(�P������,����8W\\x04q��#�=s���&��I��mR��\\x1e9V6��\\t$�\\x00���q��\\'�>z��\\x1b�(P���$\\x1cL�Β0\\x16&���>�q�E\\nN�\\x03\\x1c.G��0�m:\\x05�8#�髍�6*\\x7f>\\t\\'�߭ڙ4g�XO�e�#��!1\\x12��U<\\x00Č���+���[{O\\x1d��?hb�\\x13\\x18�\\x10��\\x07��\\x1dl�\\x0b5�q2��4�,2�\\x11z�~�������2n8�rq�����?�ӝ\\x0bO�i�l�v�\\x130�\"\\x07\\x1bUK\\x01�p�K\\x01�c����y-��d�\\x00�\")\\x08\\x1c\\x0c�\\x19����uQ�s��Q�I�jdg�\"�ڍ\\x0c%\\x02\\x04\\r�y>\\x00ǎ�\\x1c���P�ف�\\x1a�?��J\\x15�B\\x08Kn��W#1�G\\x07�3�\\x08\\x04d�]��}U\\x16HD�F��T\\x14�5M��\\x03\\x1c\\x16�\\x07-�|�tlf��]{��fj�뢕!� \\x16D$�9\\x07�<p:�ѥ� �\\rP��t�<t�\\x1b;N\\x0f�2�\\x02���\\x02z�|�߉E\"WS�\\x06�(�Zi,�yR�m*�\\x1a�\\x07�r�\\x00\\x02\\x06p7~å�ѯ�ph�vƧ�r\\x04\\x0e��\\x11\\x00-���W��)����_5�ڞ\\x0eܭ��\\x0bN�0 ��d�e���FA\\x04�6�q�\\x03���\"��&\\x1fU�.���{>���\\x1cm�J�S� \\x05��x�@\\x0fϹ҃�\\x1a\\n� �\\x0c�;D������2�oRxـ1��pq���y��\\x1d��N�X#�%+[ �;�썪�����֬���Ӵ\\x1a���1��`:��=���\\x7f-�~8瞡t\\r>[\\x16�\\x14dň�_�i\\x07�Sa]�\\x0e2rN\\x06G8\\x1dQ\\x07+-8uf6��w\\x06��i��5���y\\x14K%z�f�\\x14�y�Hn\\x00����i�MbJ�(i�*��,6Ld��b\\x17b��\\x0e�N\\t$�q���f���^�����:��hk�fH��\\x01XH�\\x01\\x0b\\x0c�\\x01��\\x1e��&�:u�DZ:�\\x0c�א\\x06s�%\\x14�\\x00����\\x1f9R\\x0b.�TBI�[ݲ[�A�����5\\x02x\\U000add11��\\x1f�+�`�\\x19�-&�F4_�\\x17\\x1eib.!��#2�\\x14;\\x1f�\\x14g\\x01x?������\\x12���)$Q\\t+�?��\\x14\\x05��\\x0f�N\\x08��\\x07���[S�]WL�P�\\x11}]��\\x10\\x0bm\\x04�\\x19\\x0c\\x0bc����\\x00�9w\\rبU�6J����#}=��jk;\\x11�\\x192$@��.r2x�\\x1cpz��ti��N}\\x12��n�F\\x05���E�\\x16C��x\\\\\\x12J�\\'���:���Ez�s�`~��!����G�v��\\x00\\x078��BX����5�z�6(^��*I5bvͼ�s�xǸ�|\\x0c�\\x00�����=\\'@��F�d5�8���\\x1c��vwD��\\x18\\x19��\\x01�\\x1ct�S��R�� ���\\x19��P���\\x04���\\x0b>@�$\\x1c玥���t������h�x�\\x14��\\x00�$\\x008b\\x0f�3���Wh���P�fq�Vs�dQ\\x02��v�-�#�\\x7f˥`@��8\\'�3~K�Ǩ�u�Ϯ�FZ�ĦHP����\\'� d\\x0f���ۏܕE���]Z@҉e���\\x00r\\x04\\x1er\\x08�c�:K��\\x15��J��q��G�\\x0bWc鲒3\"��\\x00g�\\x03�GL4_�4�K��TTgސ�/��\\x1eؑ\\x00\\x18ܪI9��\\x07�z%2\\x04\\x05g\\x15\"h�N�GF���8�HUZ\"��\\x17�{���#�\\x0c|��R�=m>\\x0b�\"U�\"\"x�? \\x02G��py�IL��VI\\x04�D!\\x01��2\\x0fP\\x1e\\x0fǑ�\\x1f��ۧ�I�;E=�Rz2����k�<�2�<n�\\x1epz���CW�1��H\\rP�ƹoUd�\\x1b���T�䑏�\\x0e�t�J:\\x17\\x12��m�Hg����p�ܹ�2�\\x1e~I?n�ĕ��rƌ\\x1b|*��B�fE)�r9-�:i��ӗK�e�����֨��p��\\x18rx\\x07#ǃ�v\\x0cw�W�\\x13\\x0e��#I�J:}��C\\x0e吟e��\\x03s�\\'\\x1b��2Y�\\x19�|u(\\x7f\\x10�I{YG��x����\\x160�B&O�8\\'$����y\\x19-i�L�\\x1dg��B\\x0bRJ\\x01��c\\x00� �?��.��Y�OZm J�����\\x12R���qny ������*(\\r\\x1f���gN\\x1b��fi\"�eg��\\n¶\\x08�y*y\\x00���#�\\x1a\\x1fpj\\x1f�\\'�(,��n\\x11fic,\\x16R��F�\\x06�\\x04�\\x08\\'9\\x1ct���KU�^�ʕ4�\\x1c�V�E,bV�8R0�~ḟ�\\x0f���=Z�om,~��Ʃ1�Ź�\\x00\\x12��0P8\\x0c3�y\\x05~:rB�$F\\x07F\\t��\\x00(�2�lI=�g��u�\\x1b3mV\\x1b\\x141��\\x05��\\x1c�\\x11�Y�յ}]����l\\x17c�U\\x1d�\\x1cs�,=��\\x18npX�\\x05�I�\\x1a���5�t�s�)\\x13\\x10�W\\x0b��A\\'��֙�MtW�N_�����\\x19���ф�}ܕ8\\'?\\x18\\x1d-Y\\x07��*7=�GG�\\x1a\\x14�)Sw��֥O��\\x1ep�J�s��\\x0f$\\x1f���S�ާOF�e�^uhE�sƎ3�2\\x0f�f\\x01���s�Zt{:����s����9�<�\\x00[y8�#�c#� ����B\\x1a�x5����$\\x12х�\\x02:�+~��\\x0fT��\\x00q�p\\x00�D�_#8T6��^��Խ,F�Eh���$1���b1�!|�������ڵ�X]F�Y�1U�(��rX�H\\x003\\x02\\x7f~:ѩ�wS��ԯ6�\\x0e�\\x04�\\u05eb8Wn\\x182\\x15��3�`\\x10\\x0e\\x0f=3���җT���^Ο1B$��\\x10̪\\x15��<���>:`\\x19z;�\\x01�\\x12�K�\\x058�M�-�`�.���d\\x03\\x18@�2UO�\\x00ϩy{���mi�ַj8�M\\x04\\x15Q\\t��,ާ�\\x1b�q�\\x0f���Ԭ[�5\\x16�<bh\\x14\\x1a�\\\\m2��K�~�\\x07\\x1by<t÷�hP�*���\\x19,���\\x18Q�\\x060|{I��\\'�g\\x1d\\x06A���c�8ř\\x17�k\\x16�f�M\\x19�&��B=OL�\\x0fw�c���\\x1b�\\u0557jПU�Ԃ�J��Yx���I\\x13��<\\x17R\\x1f\\x1f��>4h�<}�ݸ\\x15��Z�qnw\\x0b�b�eQ?Q>��\\x03 ��=T����vU�\\t��_�\\x1a1\\x04+���ʫ\\x04?�ON�\\r(\\x12d��.�\\x052�\\x14\\x7f��rf�\\x1atebޛq��\\x19�X\\x04\\x11�g4\\u05ee�\\x1d�\\x1e���ic\\x04�F5� N}S�T\\x11���<���sJH���:��\\x07�\\x05�i�\"���\\x17�\\x12��s�#�zg�\\x0fN\\x01�l�f�\\x1f\\u05ee���\\x00��\\x18T\\x03a��s����3��\\x01�NS��z�ƒ�سn�Ҩh>�C�@r%bG\\x1crw\\x1c\\x0f\\x07�_4M\\t����{o��\\x08#9i�\\x10\\x0c�x�`�3��=\\x1b^����L�nh��̿D�VϪ�4�AWg\\x01\\t;\\x0f\\x03\\x00s�=1�!��irV�=8��F؎%f$�\\x01�I9�2x\\x1ez��A�Y��ޔ�p�I���R#\\x18��*�6�\\n��\\x00H<\\x0c������a-_Ӗ�j�\\x1fԗ2�\\x00[��\\x08PK\\x0eA\\x03\\'\\x07�\\x0fM��\\x0b�f\\x1bB)(�c1\\x08��\\x0c�\\x1b��F�H�0�\\x1dh���d�zlVj���\\x0b��H�y\\' �\\x18�>9�\\x14\\x14�X��?Rj��l�~Ԩ\\x02*8R�`�����@`\\x17\\x04�~O=e%(�ޞۇ\\x0c\\x1a1\\x14q���xV`ˎ\\x17rc\\' g?n����H6O9ib��bR�����,?<�x�\\x1d?�)ܵ4_Q\\r��,X\\x1e�\\x12\\x0e�ˀ��v��\\'\\x1c\\x12y\\'�?�#��\\x00��\\x12h�\\x15�vT�fAVz��#\\x0f�\\nyW\\x05y��\\'\\x04�zgvΣG�#�u�u\\x1a;v\\x05@ш���\\'x�d�#�\\x03�O\\x12�}�Y����w,Fʩ\\x0cA翱?q�\\t,y!C|���OL�_��L �L���J@&v`ɽG\\'b�6O�g�q��)lޟ�\\x15{�\\x16\\x1a����)\\x1adv�/|�\\tB\\x15U@N\\n�b3��H��\\tV��֖���\\x04�\\x1f�L�ī6�3�Q�\\x01�Z���I]5Z�V��X�\\x04>x�N=�\\x01�>rGJ��6��_�!�����j�\\x07g\\x05Y\\x1d�g��\\x19�_�\\x0c\\x1ez��\\x17C�����|Ǻm�*کN�\\x0f\\\\\\x04c,�\\x08\\x0cw\\x01�|��G��1���H�J�����PKi�.#\\x0c\"\\n|����~3�u;�SE=:�5\\x11Z=3I�[�J]vǰ�\\x18\\x18�,@��N<x�+M�kP\\x17��hMKE{\\x0c���\\x18�\\x16\\x00a��\\x1c~3��\\x16LN瘕\\x19�n~�ӻ�f��q�\"\\x19�c�}>p�+��\\x07#\\x19��ꖾ�e���B\\n�+\"�\\x0c<�\\'#�����t��\\x7f�.�\\x0e��\\x1a>V5q�@�p��\\x07o\\'?�G۫j��N���g����3��m^0�|����\\x03&\\x13l.2\\x1b?i�f�\"�{�Җ�t�G\\t��\\'\\x0b��9�u[�j:V�\\x1aK\\x0c�L�\\x06\\x02Q�7�|\\x1c~:�t5��Y�)�-zH�Z��\\n���#�=�����V:Wui�L��V��x`�M��\\x15��\\x04\\x1cp\\x0f }�σ&bY�C����\\x04�2Tx\\x00~$��\\x1dNA�b?���<�=,���\\x03�[2��\\x16\\r0\\nP\\x1eJ�\\x1c\\x0c\\x1e�^��=D`3㑃�u�{�M?�)\\x06�F�>?a�����\\x00s��z\\x0c�\\r�g�㭢#�W?�z%�p�w\\x0c�A��\\x1f���\\tb�8\\x03��\\'��\\x05920?��|p��, ����\\x00�H�*t��\\x01㭹��x\\x1dlZn��0?~�$\\x00\\x1f�笭�a�*\\x16�\\x00�}�.8\\x8f�\\x19$�u��u�w��FX�\\x1d�kS�\"}>�բ!!�P\\x10H\\x0f��\\'>pF3��\\n\\x1b9�\\tҍ��k\"\"J���B\\x18�V\\r����֭_�+�:x�>K7\\x08�g\\r�P�5\\n���E=3\\x1c��\\x19Qv�����f���\\x12y\\x03�x�\\x17��q���u��\\\\HG/�\\x16�\\x1e��I�\\x1d7��9��w.\\x01\\x19��~����\\x08�Q�$ڎ\\x13o��)\\'\\x04\\x0f�Mt�RIg5,�<\\x12�y#�\\x04��fΊIlb�\\x03\\x19�*W������\\x1d\\to\\\\Ӵ����\\t\\x1am-��\\x03���z4��\\x1eG�u����_SKks\\x12E2��\\x18��A��\\x7f<笸���Dƌ�o�N��\\x17�ե$�!R�WOd�\\x7f���^�զ��]:Dr8�P�*�YT\\x0c\\x1f����S���Rh\\x17�O;�Ѳ\\x11\\x03\\x1d�P�K\\x0eI�Z��悜6VL)$�d�n���0.$%�̝�79���tj\\x17d�/E\\x11��+�fe�l+��\\x03�g�}�^թ\\x04�d�d���f�\\x17(Ҳ�T\\x00\\x08*�\\x00����:�gS��j֚x�<0\\x06�IpT��0\\x00�w�c\\x07#\\x1f��4m;N�n�X4����6{;��)*2!\\x00:9G\\'>7(\\x1cg��\\x18aR���\\x17�J\\x1d{V��ojz����k֒&A�)\\x13���\\x06A �09^\\x07I?�v��2iS�\\rc�\\\\Q\\x04��:I;�܀\\x00;�$\\x03��?\\x03�?�:M�?���k�!��D�cF�I�~\\x19�\\x01T��\\x00����\\x7f��ªPtA\\x1b�oB�c\\',\\x14��;H��߮����\\x0c[�\\x7f�F��4���\\x0e��Q\\x11�U��\\x06�)4��O�\\x16f��$�3����]r��;��m\\x0fZ�e#\\x05��\\x02��*x�b0A�ќr:]~{E>�L\\x14�����\\x18�Ƿ��F\\x06~|��\\x0ci\\x1a���\\x12C\\x16\\x07����#\\x04���c�\\x06:�<~ۗ����\\x028�v�J��O\\n��L��7�ų�>ßۤ\\x13�R�\\x0c��P���o\\x1b�\\'�y �`c<\\x11�:w�V�\\n�,j����\\x1b���\\x00q��|\\x1e��\\x19��\\rx�X���81�B��\\x00��~���MY6\\x0e�\\x14N�H55�~��#�(�]�\\tT��O��>9�\\x00����\"�\\x11�t���E�kH=��A�r�瑏�\\x7f��/h���\\x00�)<�/�!�\\x01\\'�FG x \\x0e\\x0f�c���{\\x0c4�.{U�:�v\\x15/�\\x08ݔ�\\x00��s�z�\\x1dC�f����ɣ�e�fd��I\\x0e�Y\\x08\\x0c\\t��q�#\\x03����2�H̨\\x04L�Α����N\\x01v`�21�$g |u�@��\\x15ME���OZ)\\x1d@�\\x18ʱ�\\x1f��>~�\\\\��~\\x19RܭY��5�q\\x1b�h�J��`>\\x0eI9�����J�1��Ttm�^xf���P\\r�`���\\x10\\x18�n\\x01\\'s�$�ǌu��ah�i�+�mY\"��\\x0eU��0�4l>s�#�\\x13��/�!�zf�\\x1c�\\x00W\\\\�PXJe�\\x1d��RxU�#�X\\x0c��ٻz�;�uto�A:[���\\x16I� ��9\\r�.\\x7f\\x00��\\n)�P��3�/\\x08\\x19�����A�\\x1e�\\x11X���Nx*���u%,M&�\\x025�k�\\uf2f2�^\\x0fPeI�\\x01����~�>����u\\x00H+֔BΐZN\\x1a/q�|���g\\x00/�V�\\x07�u���u�\\u0557QV�\\x05�_tS30]��\\x13g���\\x06\\'9��p$�0�A1�oV�X�\\'��$�������\\x18\\x00ާ\\x19M�q��s�Զ��\\\\�=��MZ�!u�Ҭ���9�`�\\x06O���������.�>\\u05fd\\x00���3$P�D�\\x1d�\\x1b��\\x18�\\x0c1�\\x0f��wgM�[�\\x16�j�d��\\x13���\\x0f�\\x08N\\x06p7\\x1f��\\x01��)`���\"�~��\\x16�]j�SO�!�A�X�\\x14yA$:g�\\x1c`\\x0c\\x0c�d���\\x13j}�kI,\\x1a�4-3Ak\\x19Fǹ��G�c�0@��]ɢ�ܺ��SAf�\\x03\\x04���c�\\x05\\x00\\x12�������:\\'�g��a�Թ����\\x10d�[p�?Vy�x=YB�\\x1f�0Qܱ��\\x08nF�jQb�Hۑ\\x0bBK\\x0c�\\x01�FX��`���Ox^�ۢ8�\\x1bv�33K\\x1c2\\x05�Dx(�U���xnv��\\x0e�j���v�4�U�z����7+��\\x15P\\t,Fp\\t\\x04}�9�ՍZtV����-\\x19���8\\x1ey��S\\x15�D�?���r�U�(�������O���bOq%G9�\\x19�9\\x1e1��\\u05fbkP��>�\\x0e�z�\\u05f6\\x03}L�A\\x0c\\x0cxP\\x7fQ�\\x1f�1�t^��&�I���1Z\\x19\\x05}��a8�\\x18�N@\\x07�y#��u�\\x1a�j�5]@�\\x1a��av�B�\\x0b`\\x03�O�\\x1d:��=\\x08��5\\x1a�m�_1C�D��f`�\\x10m$�q�|�Oۥ�Ӥ�ST�ƅQ\\x13C\\x065�Ǩ��\\u0cd0\\u070fq�\\x03#���m\\x1fJ��%�Z3��$h�$\\x0e\\tp8��y�W�-zv*=]B\\x00�Z��\\x16\\'*��\\x0b��Pv�\\U000de76b\\x19��ҝI�X5\\r6�Q��ܒ0�D\\x07���ą�\\x00>p\\x0f�c���!֥����l����2�d\\'�<d�\\x12?\\'\\x1fn��L=�~\\x08��\\'�H��v�~�\\x01�)�Cc�\\x07$�\\x1a�p�5v�\\x0brЁ#E�OL��)b�\\x02��\\x0eќ\\x7f�SRI���r�u,��]\"��L���(ȰM\\n0�6�}�8l\\x02�+�N>��Lr�\"�R��rE+\\x11\\x19ڣv\\x0b\\x13��$c��[i��7j�,Nd�,l�Y�by\\x15�s�\\t9*r9Ǹ�\\'��2����\\x1d`y)���ڏ *�!�\\x1c������=\\x04$�#\\x03b���{�QN�\\x15�M*H\\x16oL1�H�U��\\x01\\x04\\x02\\x07���UZ�\\x19��k\\x1e��\\x16H���B�N|\\x0c���s��:����ԭJ\\'4\\x02�\\x00M�Xá9~\\x08�xP9���=;�t��V�-\\x1a����ɕ�~�ߜ�\\x13�\\x1e:[*�\\x04�Dj/����\\x15gҮXy4�\\x11�#:���;G�\\x03�3�=|���Pz����ZG��\\x19�bV$\\x1bK�I��Py9\\x19瞊�E�����ݫW/Z,�\\x06b��mR������`q��WM��-\\x1cǨ�Q-�d1K;�\\x13*\\x0ex��{�\\x0f]`��Ocq�������G\\r�EkG��\\x11�К4\\n���\\x06O��\\'����4 �~9;�:�Wvz�\\x19���B\\x10��+�8 ��\\x1e�h���k��n��oT�>�%!\"�\\x17a�\\x0cy,�ܓ�eB�\\'��˧k\\x0c�)z�Y,�ňY�\\x10\\x12\\x1b<�#���=(� N�\\x17sފv���Z\\x0b3�1V�<\\x01\\tB9\\x0c\\x0f\\r�\\x18���q���ѮC�ڷ�I:�y=(�\\\\�ʲ�px8\\x1e3�>9�����H;^j�Zbe{\"@2��N@�~6� �����5\\n�](��t$oV��(ڑ\\U0007dd93��\\x1eT\\x12?#�r��\\x13��}��ťhЙ+�d�� ��\\r�@L��\\x03�\\x07*\\x088��=+j�S��\\x1dQ��q�N?҄\\x10W�$\\x1eH\\'�\\x1e2G[u=2��zͻ�j�[\\x01�(CK4HO�\\x08>p\\x01��֧�]>Yd�\\x1b54�;,���n?�\\x05\\x04�A��y�EH\\x1f\\x18�\\x06�\\x7f*����\\x10��s��x�S\\x07\\x1bFN1�x#����SIk�ţ��M\\x18���2Lc��\\tc��?��<\\x12:�Z]��٠��rc���\\x192\".��|rN|��<�=-��Ы�Z��\\x12-S\\x1d�\"��8y@��@��r�$q��O�x\\x19W�TF��k�Cf�\\x19qb�f�\\x05�_L�lT�����9�\\x18<}�[Ae}q�N}PT7��R���\\x16Wd\\x0cc\\x12\\x00B�\\nN\\x0f�y�\\x19t;��֡�+�R:�#��\\x16X��?�#\\x7f~\\x13��\\x07����vƙ�ݯ\\r��Q� ��A���F9,\\x067/�\\x01��\\x00\\x1e��U\\x15{�\"\\r�/\\x13�\\x06��K\\x14�.�2��QC\\x19i6p0\\x0e01�c�v��\\x0fD�m����g{Ci \\x0c��T�\\x04�]�����=|���Av�\\x1d��6�f�\\x12E\\x11�U�\\x05��!\\x1e8\\'��<�9�t��BFx�/����H�_Or�q\\' ��1\\x1c��>�r)\"���\\tЖ�z��䋹��i\\x16�VB�\\x11!u\\x11�L��\\x01�,�߃�F\\'\\x19=\\x05�̺�i�Х�ah�\\x0b��\\x04i\\x06p�+\\r͐HRF\\x0es��U�4i��f�r�m&I�įR$��\\x05�ܟ�\\x0f\\x1bI�[�\\'�i�j��{T�u9\\x16�-\\x12��$�4�!9,�d\\x0c���\\x01<�\\x0cu5+\\x7f�a%�_��h:f��jQ�!�2˧M账y\\tǦʼ\\x13���\\x1f �\\x1d\\x1fVc�h���Ւ�\\x1b\\nvUWp�H�6l�Ջ\\x10\\x069R��u��uu]Knf��\\x05y�<�_�V]�7\\x00\\x1b�I�9�\\x1d\\x19GV��k[�5�\\x1fMW\\x08�*\\x05�7d˳�\"`��{��\\x03�z�x��̙0�;K�\\x1f�\\'�G4�I�O�� S\\x10\\t��φ�>q�r�\\x7f^��2�V���m��I\\x1f�e\\x19�wR\\x00\\x1c�x�\\x1dl�Kw��Z�>�%jr�U�%�U�Y�ұrH�\\x1f�\\x1f`3���kk:N�-��E(R�AT$���B��x�J[��uѹ��#�����o���H�\\x111�\\nL��،�$�\\x07=.��䟷�7�9c��(i\\x14��U!Cȿ��G�e���ص\\x18�ꚽ�B��Z�~�0ufm��\\x1b\\x1b\\x1f;6��䞰�\"{Z���ŊtcUk3E�%�\\x00Z�#\\x00����?\\x1dw/$J��ϟ��U��wSՎ�x��x���͏Q����\\x1d�\\x07\\x03�zG����TY��] #\"Ԋ�E�\\x1a(,p��g���8����\\x14j�� B��]Ѹ\\'\\x18 �s��c��֯�ZԪ؋M�4��cQ`\\x12���\\x02�J���\\x01e\\x19\\x19���\\x0f�]\\\\�^lK\\x1e�Ƣ\\x06�j\\r9�F��\\x18�2\\x18�.=�vN\\t<�w�>���ݴa�h_x�S�\\x7fE*�\\x01q\\x1c.r�*��?8�#��Ҙ�Cz�f�]i�V�fR���\\x05��8\\x1f���B&���֩ObKn6�\\t��ı\\'9(\\x00\\x0e\\x18�<���\\x06:�!\\'S&E\\x00�^�\\x05\\rJ)\\r�&��\\x14�^x��0Ğ\\x18�Ӗ�H�\\x1c�1��\\x0eǧ\\x1e�\\x1c�djڝ:1K�\\x00�U�\\x04NH�YS�K{��� �\\x15\\x1d�����I�ҩ%�14�R��#T`B\\x00��7r3�������R��.�����\\x05�\\x1e�W�|�$��yM��8-����\\x03�ِ�)tb�p�p\\x0f��3��\\x1b �+��\\x0b\"\\x1fp\\x1e�]��U;F\\x01\\x18?#\\x07�(�sC�8�Q��T���\\x1c2�����\\x00�=\\r.��U!�%��(�i\\x16��}5b��h��8\\x1e\\x01 �\\x01u;���\\x1aP\\n�$�$�7*\\';�\\x18��\\x19<��1��6I�\\x00���J����\\x05��v�\\x7f�U\\x0e�s��Ì�#��W}��A��}-mZ9~�\\x07hܖ߷�\\x01�\\'\\x00q��s�3RYVܭ\\x14�Ȁ�A�\\x18\\x12\\x06\\x06H%�n1���f���2˘`W*6���*������q�\\x1f\\x03�\\'�\\x01��\\x19P�M���f��j��mB��7��8?���8%���\\x12A!_�\\x15�\\x11��M\\'�5]\"�\"�\\x12J\\n�`�9��\\x03�p3�\\x00�x>z����a�*�9�\\\\3\\x18�j�~�\\x7f�|��N\\x14`��/d1 �M\\x03\"��\\x1d��O���W�V}ۚ9\"`�n�\\x01��㤽�ߩGM��}��\\x02,��?���>\\x06x�\\x10�g�n�3SU�h}tY�,�4m�O*T\\x0f8��H\\x1dN���k��9\\x1c\\x1d�D�¢\\x01�<\\x01�\\t�?p:Lg\\x0b\\x02ձ�~p��%���K�#�lP�<�C�e�̅���T\\x13�9�=Wj�ƻ��(����%��z���\\x03�\\\\\\x7fp��\\x18\\x03=qԍ�E,�خ��TY\\x1c`��y#\\x03\\x04\\x002O؎���\\x1dg��d�`\\x08\\x10�(\\x11�.7�c����y8�\\x01@��\\x19Z�;&��TԻ�))�s�U\\x02\\x16��A\\x18q�HϏ����\\u07bas�\\x11*�\\x0b,�=�`�\\x11���1��\\x1e\\x08�=q��e���4�A��A\\x10`�\\x19\\x19?����y��li�/jȋ\\x00@�z{�a�\\x1c�}A�\\x03m\\x1bG\\x1f>>z��q�\\x10\\x07\\x7f��p��\\x7f�AD;Q���\\x1f9�\\x7f=8�]\\x0c���|q��v��V\\x15\\x0c��ܞI�n��D���Ծ�\\x13_��=&\\x18\\x05�\\x03\\x19�����A�\\x17j\\x12��[_ON#�+x$|\\x7f�=s�W��i:��%?P�\\x1aIwq\\x19�\\x00>|\\x1c�����Wp���X��ױ4��F\\n��\\x04m;�O??����oZ�kz�\\x0fR�%y�\\x11�R���\\x1c6쁖\\nS��|g�Yh�1\\x03nw\\x1a\\x1f�]*�\\x16�(�#*q�߰�\\x00���]�>ō˴��Π���lu#}\\x1e=6��h/�-P����p�㓂F7\\x1es�\\x11�V�}]b�u��\\x90\\ue56b��ߖ;B���`�\\x07?����ˍI$F�������BV�[�pDj\\x0e�s�\\x02�\\'\\x1dr\\x08�\\x00��K)�oy�\\\\�\\x19��F��8��y��Ljv;�*�b�5gp�\\x0c��& �����\\x00\\x1c|�y\\x1dUä��V�:��4ՙ�\\x12FK<��ˇ�\\x10�|�\\x11�\\x0e����\\x05ތ����Z\\x1d\\x18k��R��\\x06�\\x05�P��\\x12ѕ�\\x14�\\x1e����t�U�Z�4�\\x05��IeJ�\\x19�\\x00�\\x06�\\x03��\\n\\x18+��\\x00W?\\x1di�M;�t�B)�\\x15���I\\x14Q�k��\\x02\\x19�\\x0b�y��\\x1c���PZ\\x16\\x1d��c��yH�\\x06���H��<?�}��-��.�ݱ�\\x14~\\x18\\x07xKJ]\\x1e��k�j�H��o-^7Q�k\\x1c������n:\\x07���\\r�u��0�(T��x�.\\\\��\\x18foi\\x00�\\x02s�͛Z�e���6�\\r\\x16\\x0f\\x1a�@��n\\x07�<q�\\x1e�2�>q��U���\\x0b�+#�.��#��Be�\\x1f�\\x1e\\t�\\x7f<�\\x0b�8�76no�`��Sal��>�P\\x1c*7\\x1f��(U<�\\x00�>:X��@h\\x03(`\\x0c�W;�cs��\\x1f\\'\\'��C�e��4���4��ۂ���p0\\x07����S%�O\\rd�C�A��=��O9����us��\\x0b�A�����V-���\\x0c��7,�\\x1aC\\x1e?O�go�x�~�l�k�M�b��TO#�\\x16�B��{Yy$\\x1c\\x1c(<�x��-*�L�,�$��RO�\\x12\\x0f��x�\\x18��\\x1e\\x1d\"J7b\\x02��,J#WYr��)\\x18�\\x06x\\x03�g<���EE�%1�ưA��>�^�7J�j>��\\x18�Di�;Il\\x0cg$��\\x07=g�\\t��\\x005\\x02uv�r]�\\x1a��D\\x00�#�\\x1b�\\'\\x04�\\x1c��=4���\\x17OӖ��2��\\x04�\\x05��ٹ�w\\x05��pI��\\r\\x7fF�Qy�����\\x11I��\\nU�I#��2q��ۮ-���\\x05�+kG\\x16�]ZΖ�ݚ�\\x03\\x1dq2�U3�P\\x00���\\x0c\\x1e@�^���^ĵ/D�\\x08��-Ռ�Q��p\\x0f��Ͽ\\x07�\\x01�֮�\\x16���\"�u\\x1bt��\\x11�r֒¤a\\x11p�.3�\\x1cd�G\\x1f\\x14��S��إ�,:{�,w��M�\\x03�Y\\\\\\x06�\\'�\\x1f|�=\\x108�;�\\x0b�,�ݺCwMR1J\\x1a�\\x18�P�\\x11*����8�\\x04q�y g\\x1dP��t�J��u��o����%db�[?��\\'�+����WR�g�$g��_N?��a��pyc���\\x1d��T�,�\"Y~�h��\\x19\\r\\x16È�p8$rW�@���!\\n��\\x0e<c�s��iv\\x04\"k�ރ�V\\x04J�r��\\x1fo���\\'�=\\x04t��HI�[�d��<l��\\x08\\x0eH/䀹�\\x1eH�����,\\x18\\x17����)-%V,� �\\x15}��\\x13�NO����[��p��]�vG� {n\\x0c�HG�\\x0eX\\x0c�P��?\\x05s��t�H�qꌜ��I��\\x1a�����\\x10��D���\\x1e�$�\\'>r\\t<�\\x18�.�۫~u�,�ٻi%��\\x03��d�PFO\\x0b��<u�ƿs]���v�*Ds\\x1a�A��r2\\x14�#w\\x07\\x07ۜg�\\x0fu4�@R�+2R�\\x1a��H��\\x1biS\\x10X��\\x06�\\x00I$�za�M���ަ\\x7f�\"�\\x15���*���1Ue��.=�\\x1c�\\n\\x1f��\\x0f���_�{w��\\x00��\\x15`�(d�cFu\\x0e\\x19��\\x1cm\\x00\\x11��>�ZwF����֧�j�۹���$^�\\x11Td0�\\x07\\x00.<�\\x7f��S��f�\\x1aZ��,\\x14[l\\x10��Ș��202y���\\x0eBξ�x�B\\\\�V��)��\\x1b�Z)\\t\\x11/�\\x1d���$\\x1e<\\x7f�\\x1d$��ŭ�T$�k�\\x0c�$�Ó�1;H\\x1f��x�\\x04\\x10r\\x07���4�\\x1a�\\x16�\\x11���,��p\\x0bc\\x05��|c�#�Ob���j�~8�O+M�Z��\\x11�b\\x01l��\\x1c\\x12>�|c�Ս�u\\x14��2���qe��Z6�f�Uc\\x05�\\x1c�y\\x07�\\x00\\n8\\x19�\\x1c����b��y�\\n�R�r�0ƪ�.K&3�l\\x06bx>zU�i�ӻkZ��]�E2�vl�\\x006\\x10��c�c��\\x17oW�b�����қ\\'j�O�|\\x1c�\\x1e~\\x7fߤ��\\x0cP<�=+K�K�,P*4%��I���\\x00ع� 0��\\x1e�_H}���0�j�\"��+F\\x18r\\x07\\x00{G�\\x11�䎊K�]=N���\\x1ab�\\x11w�\\nW��$)�\\x19玹���K�!\\x0c�#;[��\\n���x\\x1c���E\\x1e��\\x07/3��DU;��0�\\x15V*�\\x14-\\x1a��g�n\\t\\x1b��?\\x03?=K.�\\x06����\\x16����.=���\\x1ds��(Q�p��wkش\\x1aH�^�\\x00��,Lؐz���\\x00�\\x079\\x03\\'�I;���隔�F�㵛\\x0c��YS<��d}�ώ�;\\r��\\x13���>��}\\x0e �]��f�sD��\\x19\\x11�.\\x06\\x00#��?\\x1c\\x1e��o���\\x05��a,D\\x12Xe��T\\x1c�\\r�\\x01\\x00y���;Qy!�\\x04P�ڐ8x\\x18`�\\x1b\\x00s����zm��64��\\x06�ͨ\\x1fW\\x11����\\x14\\x01����O\\\\��\\x07p�<Ct�5\\x0cQB��\\x1b �h�\\x04��\\\\\\x16np\\x00�^\\t�>:��R\\t��\\x0c�<v\\\\J��H&\\\\���\\x0eA�\\x00\\x04c�}kG��\\\\�Y��FHS\\x17V\\x17eel\\x00O$\\x02�p\\x08����ΚƨU���`b��\\x18\\x07\\x01�F<`\\r�\\x00>O����nq�õN�բ��H�\\x15��+\\x08�\\x07\\x07��d��\\x0f��Fv��kU�\\x13Y�b\\'�4��Z�\\x04� \\x04\\r�O\\x11�\\x1b��\\'��:V����j���_�\\x0c+�U�$\\x13�$�\\x03��@\\x1dh}k\\\\0��4\\x1b����rk\\x03\\x14A�$�\\x1erH8\\x1c䟿L@+I��A��-\\x1a����kU4\\u07b9wv��\\x1b`�Ƽ�X��\\x06=��\\x1akV&�k����\\x08\\x040VI�,���p��6���=0�u�+�-�I�z�\\x12\\\\�/L� B\\x108\\x18\\x03���\\x0f\\'��J}���ձ4ћI\\x08v���\\x1c���9�!}�\\x00\\x07��z�$i����١���{~�X\\x0ca\"�\\x10\\nz��n�xoc�8$}��\\x1e�z�j�5u�jF��z0z�vFd�����\\x0e\\x01�2y���siz\\x04m%K5V��T�\\x0b(����kg猁���t��Rn�֚}S\\x1a=x+\\x06���h��L�I����\\x1f�\\x00��tL5��\\x1a�}o\\\\Zzäu$\\x0f7�\\x14�z�\\x12�\\x01���-���1�z�\\x165j�VaY��E`\\x05\\x07n�\\x1c����\\x07\\x03=\\x1fj�\\x7f0��i�.�\\x04\\x0f\\n��{�;C\\x12��\\x00\\x0f����Щչ�t\\'��[��C���7\\x11�\\x038R�H�N~:�n\\x15\\x17cs\\r:(>��v�7�LŶk>��!\\n\\x0b*�;��\\x13��\\x01��Y��e�$�\\x1c�&�T��\\x06\\t\\x05Kr�\\x1c���қ�өi:�:�Z���CfTTE>�#�S��\\'\\x07��㎑��g����jj\\x10i�<.}8cA4��\\\\�m��\\x02��\\x00�\\x7f��S[4#���MXމ$�b�-?X<3Y�ı���\\\\rwp<g�=\\x07o���Zթ�u�B�G��x�e��$319�P��\\x01�$�������\\x15�����Z��\\x1a\\x06���]�\\x04m�(\\x18���\\x19�-WX�%�1\\r�W���\\t�2�\\n�:\\x17Q�$�[�\\x0e?q��P+\\x15\\x0b�CWs���R��ڞj��\\x02���(\\x06p�����3�g�m�7�藢�bHnW�\\x1b�D�\\x0b\\x16��@=��\\x13�z�U��\\x00pi��К�:ah�C<`��\\x1fH�$�\\x00\\x0f�<�)vb}f���[�<\\x1b���\\x0e���Ϸi$\\x13�?Ǟ�\\x1a(;0�Z��߱�]zr��]���\\x17�!��@�NB�|��\\x00��|x�T�ƫ\\x00�E�lW�]J^vH�q���>2�-�3��5n���gL[t�\\x19JH�)\\x0bi��\\x10\\x0cd\\x10H\\x07\\x1e:�oWֵ���S�Z\\x1aֳ\\x0bT�=V��p�l\\x03��\\x800|���\\x16k=D:��$�]��\\x1d�Yd�F�}XnE�\\x0f a\\x19S��\\x05���\\x1e@}���l�^�a��$P\\t\"\\x1e��!�A�6�w�<\\x02�\\x13�=�f}\\x0bR:��4����\"�\\x05�\\x18z�/Oڼa�6�p|\\x11�ŝZ��[mI��5�-V[\\x1f���=��pWo�~\\t�ҟ����\\x11�$��bֽiEM9^H��X\\t\\x1e=��]Ǚ\\x0f�?O����,�Ջ�ԘŦV�ӍLJ�xՁ\\x0c�\\x0f�8*\\x06ܞOZe�\\x04�\\x19g�i�\\x1cGF�1�����2\\x01��$g��\\x0f@h�j�>���N��[�b�+�\\x11e�\\x08���9\\x07\\' g�\\'�9�\\x04jq��`�N�Qj�\\tg�K\\x13�Do�{X��A�\\x1f�N\\u0ee4��\\x12��I=�5x�GV �$��M�}�\\x12~\\x07���-�z���փP5�Z�G\\x11�<d�>�ɷ��a�\\x03n9�[N���BS9�+G\\x03N�\\x18���6wJ���<\\x1f�=!��7��B�=*-j���i��x}<2\\x08��\\x0c��3y��\\x10\\x0e9�#�OL/j��U(i�-��ei\\x15T R\",��eG����H��_RJWD\\x17�Wk1�\\x1dP�\\x0c\\\\\\x06ϻ�,��9\\'�zi�ҟV�L¤\\tJ/T-|\\x06�!\\x0b�s�B��T��\\x0e�x\\x1d�\\x10lLa���y(ўH�0��fy\\x7f��\\x13 +\\x00rK\\x11�q�?���M\\x0bQ��}$�����A��?��\\t˩�s�\\x0e<y���jQi\\x1aV�%�\\x0e��QGXb$T\\x03.�7�p\\x01�$�\\x01��,t�=%�ZE\\x7fD+eP`�\\\\\\x1e\\x0b�\\x1e8\\x18?��n\"��GB&������b}<�\\x001ZƤN�B��+\\x18-�\\x7fW$�\\x1c�<�t��4���uښ��)C�݂��\\x07��UQ�X!�?�<\\x16\\'�Ѻwoӧ\\x02�r\\x1b\\x13<��z�\\x05�<�\\x1bw1�#�\\x13��z���kK\\r�6AI�\\x06Z�LQ��9\\x0f�+�k\\x02�\\x1c\\x10I�]�&K6\\x1e\\x1dC�{�4ɭ�<zr%��I�L�O#�(P\\x10S�[+�\\x01� u\\x0b�iϨӖ�\\x0b�\\x13E\"W0�6�/#s��\\x00q�;�x\\x00�\\x7fSZ��)��f�:�*���Z ����\\x00S�\\x04�x=?�-\\x1e�p�F�����kF����Q���71\\x80�p�\\U000c37b9QGs.�шB\\'�\\\\�@�=Fz�f�\\u0557��F\\x17k\\x13ό�c>G�u��oY�\\x12�Vei�1�\\x14t��$�\\x1crTr\\x0f\\x07��,5\\x01��-�Ʋj�!���\\x11��7�On\\x00\\x03��#��Q:\\x1e�D�u\\r��e��i��� �w\\x04~�\\x0e\\x0f�Ԝ\\x05\\x1c��V&\\x15i\\x1fOimZ�\\x13ii[ԒU\\x19h�a�\\x18�[8\\x03�\\x0e��Z}�5\\t��\\x16c\\x05�r�Y=9�<`�n���\\x19\\'��~��/�Z��U�ݯG�k\\x04G\"��nW��F?\\'�y�t�\\x0e�\\x0f�ڌJ�$U\\x0ec\\x12dg`V \\x1e2r=�o\\'\\x1cf8�%�����Z��7a��z�T\\x12}|**�QW��2v7�6�#<\\x1cx�\\x01��\\x06�\\x0cn��Hq$��\\x11c\\x04�ϟ\\x19ǎ\\x7f\\x1do�\\r]V��\\x0b~�\\x060eH�+¼����\\x19�|��L�v�v�iw��\\x01�O\\x0cr\\x15�P\\x07\\x03��\\x13�x\\x00���\\'�u5E[\\x06\\x1eU�L5\\x18��{l-��\\x1d���/�������\\x0c|����l�+�T�\\x1d\\x1e|I\\x16\\x04��F2x#\\'8\\x19ϟ�T:�:֩�%�.����$�ֺ��}��\\x08\\x07;���\\x03i�\\x07=$�U����.[�֙KC1\\x0c���o\\x1e�~B��3�\\x0b�\\x0b�B\\x01��A����=H�O*��m�{�p�E\\\\� �#$\\x01���:��~�+dX�\\x04��\\x12���W�ڡ�������*2�qCZ䲬��<��X���\\x17\\x01G�����\\x04��]�*\\x08��h�ц\\x15ǥ(�\\x1eUr��߫b��\\'�G��VU��[>e�ؕ��ߚ�qޖ�Z�\\x16(��z�\\x16IB��c�\\x1b��>8\\x19�z�pӻ<\\x02�l�W\\'i��e-�I�r0�\\x18*\\x15r�{��穚z�\\x1e��\\x14k\\x11X\\r5�f��]e\\x88��`\\x18\\x05\\x01p\\x14�\\x11�\\' u� �\\x1a\\x10��z�Tk�D�a�\\x18@\\x08\\x1b#h�J�r?��O\\x1dy>����\\x0f�h�\\x0f�ь�Z3�\\t�U�:���1Z,��\\n=��C�� �O\\x19$�a�:�j7�\\x16��i\\x06T�y�\\x1aU�1�ݖ��y��q��5-_L�ܷmޢQ��A\\x1cr�P2G�ʀw}ۜt}m_��{�YH�<� \\x10��T\\x00\\x00w\\x1eG���W&\\x10����R\\n�Z�IJqϨ�B$Ԭ�N-Й��*n\\x01�\\x00v>6�\\x0c�6N\\x08\\x19K��ܚN����$Qڿ\\x14�S=��6�\\x12\\x03\\x021�1\\\\�N8\\x07��Z�}���*�*zU�\\x1a��\\x05�q\\x19��.�\\x0b��\\t� �\\x0f9�ٱ-�mIaX,4{َw\\x01���\\x1c7<\\x7f�=f����ny\\x05\\n�u��\\x00i\\\\�<N����hkS����ed�� ��l�$�\\x1e>\\x07�\\x1cg��~�\\x7fH�mCb̏k��\\x0e�-�os�h\\x0c��\\x03\\x1c��#\\x1cg�c\\x16���\\x17����5\\x1er�Z97?��B��\\x00�6���\\x00��de�@Mr�3K2\\x02�\\x18�]��°�w�Ǒ���T��F!LC)?�%ȭE\\rnj�Պ1�\\x1c:uh���i�+��\\x1e\\x08 �O��\\x1ct�WG���)W��O^�<�@DG�s�����9!W�\\x07\\x1c�~�\\x04֭UMV�\\x18�\\x1cI=hꔃj�b��!�S\\x18\\x00�2q�^�5�7�kV �x��TUl�U\\x19��\\x08���Td���\\x1f=MZ�\\x00:�*�$��i\\x14R��ūfc\\x12�J͂2\\x19v;aYy\\x19��\\'�GSP$��b���h�Id�߆a�l��T\\x0f9$c���:,��t���\\x1c\\x18�/S�n#s����8�p\\x07�z\"��\\r�H�\\x14�T\\x16�L\\x16?\\x04���\\x1f\\x00\\x7f��|1�\"���m�E��X�9,\\x12�\\r���;=���1��\\x1c�:\\x0es\\x0b@�\\tI\\x15�\\x00��\\x00\\x01[�G���}l�c�5ɫ^��T �\\x05�a\\'\\x04�\\'k\\x1ey�\\x03�\\x06�zOR���suf���c�\\x00��?a��\\x07Zq�l�W�p�\\x12�B}��G\\x1b,H\\x1dѶ���$�x��$c�qҋM�7\\x0c\\x1a|�\\x1b\\x15F#x1��e�G��\\x00�_QX�ՠ��6�9a\\x19\\x03\\x1eO����\\x0fC�#D�^�o�D�}7!IU\\x00��n8\\x18?��\\x14��M<\\x17\\x1e��#E��ڸ��4I��ck�\\x13�s�?��9�]gJ�5�\\x13��-yD\\x0e�\\x1e\\x05OQepB:�>�\\x19H�\\t�>:�����a5*ڔH���\"��x>��\\x1f\\x18\\x1c�t^�\\n\\x0b�]V\\r-�\\x19\\x04����w\\x00=0�\\x1fqAǞz\\x19[��\\x08�!��ߛN{Sڲ-�^R�J��� .�����s�u�ڗ���zr�\\x1c���H��v\\x05\\'v>F2\\x08=u���AA���,\\x1b�\\x00\\x18��Ā~\\x06s�~\\x0f<��~��W�KU��\\x1d��,o^6��f\\r�P\\x17��\\x068�GO�0t7�?)s�ؿ���\\x07*bOAȏ#\\x0e\\x15Q\\x14\\x13�x%O�\\'8�\\x1a���5��.=u̱ٵ�o��8���\\x7fVNG�x y\\x07N\\x1a��\\x1d�<�O����\\x1bʧf\\x06B�\\x02�p�FO\\x1b�ߨۯ�\\x11_��W\\x12\\x18�\\tQ���\\x02\\x1bv�r\\x1b$��x\\x07�\\x7f��@f�3��[�=:D4f\\x0c%�l9\\'f��d|�\\x19���=$֮^�M=\\x14�ҢR��]\\x7f�l>�U���G�<\\x0f����}Vyt\\r[S��Y\"�RC!e��Ѹ\\x0e����#h\\x03nI<\\x1e2>����Χ��W�4�\\t�B��D\\nw.q�%W%���u��$��!>`\\x1d�}D��\\x12I����A��W\\x1e�\\x03��\\x1b�3\\x108\\x1d\\x0f��L3�\\x0e�f\\x1b�l_����2e?�����\\x00�<�\\x0fAvޫ\\x1d�c���\\x10ӾL4!�\\x00�E��#��l�2\\x07$��;�\\x08��LQ[���4�pd}����ۇ�\\x059�x�F�d�U�s�*���Au�l��C;�%�����>�=XS�KZ�I5\\x1dB5-T�0/�\\x1dC\\x04;\\x0f\\x1b��\\x07�:�Z�CU���vY�\\x12�=8��T���\\x07��3�@�p�*���J\\x18��#��7�r8>C\\x1cq��}��NC �q��F��P�45��\\x12�qTj�\\x1a�q,����\\x00�\\x7f9��\\x18�w%�&ޥ�jV�x�%�)\\t���\\x14�Ϝ�����V�N-v����\\x13�ʸ�w��ܱ\\x04���\\x1c���>���7���,�\\x1b�\\x1c��\\x160��v��\\x06q��ԛ�ji0w�\\'|j\\x14u��0v��q���\\x0c�w���w!l`�$�N\\x00#��\\'A�_I7�m\\x0fL�\\x00l,c�\\'\\'��\\x1e\\x07�OVz\\x0fth��Y��K\\x0c���\\x08\\n�^\\x10\\x12T\"�7���\\x189�vW5�O[M����~�e\\x10�Y\\x14�N\\n�p<�\\x0c���\\\\@�(\\x04a�\\n0}>���\\x1a��1ҝY#�fڬA��=�^N\\x06\\t�U\\x13ӚΣ4�<���\\x12_B=�*xL����6m7�j�R�]JH��}��$#{�\\x1e�09�~9�D\\x1a�M*[5m[�7���\\x15\\x1a\\\\�U�H��s�v>Xg�f-�$\\x11�;W���\"�:���W@���[\\x01،�p�ݒ8?�\\x1f\\x1dJ�p����5�mb%\\x01m!b�#\\'���\\x1f��Ə{�u\\\\�KN�,�&\\x08�\\x02\\x06��\\x0eT\\x12~1��\\x16�V\\x1fO\\x06���f�\\x19%��\\x07�x�c`�\\x00�70��1Ԕ��\"!6*e�PA6�J�\\x0f�\\x14��U$\\x05Lq`�Y[\\x1e���pyaϞ��ӭ=�r�\\x05k�\\x13�I��!�>C2nV�X��\\x01��Ѷ\"��J��K�t�v��hA��\\x17\\x0b\"�p�\\x01����+�t�u\\x1a�\\x1dU�w�)�̪�\\x7fL\\x02�P\\x1c($�\\x1f�s��/�]�7\\x1cP�FJ����5��\\x0cZX�E�$��\\x1bS\\'!J�3�\\x00�I�J�\\x16��Oz��e���\\x04��#;q�����^��\\x06�\\x1bq����ͽ�e�\\x11��W��\\x18�\\'U�)4�{I�M�ԋ\\x03�|0U<��Fs���3��\"��aD=\\rʝ\\x12j������-#(���]H�\\x1a���9;���?�6���r��}\\x1e��r3��1]�֖O�\\x0b\\x11�T���z�^�n��uP��h�vOY�����};�$2<\\';�k���$\\x01�\\x1c�t�����U�Z\\'Z�\\\\(�E�Dr�$\\x1c\\x06�>�e\\x04�������-�u��\\x1d���������\\x19��Q�}��Cd���\\r���ҵ�\"}V\\x08�n�����(V��Ǩ���\\x19\\x18�>�\\x1eNz�^ꪡ��\\x17�v�t���-Q��H�\\x7f�jʪ�d�� \\'ܨ0p�\\x03�\\'��{A �-Y�-�6*�G\\x1c��`��\\x12\\x00\\\\�[�p��A��{��O\\x12a\\x04�55\\x1azZ�=Ǧ�dx=*�ԑ^?D�Q��@\\x03w�?~����\\x1a֛v�,U+ʎ\"�C��d��6aF\\x14�\\x00���^��i\\'��\\x1ecd\\x15U7�U�N�\\x15�[�\\x14\\x11\\n\\x11�-$L�Hp��\\x01\\'ݹF8�\\'\\x1d{V�5\\x1d1t^ڢ\\x16�z�%��V\\x05�$d�ϖ\\x07�,y��{�M�(�-Φtx��Y\\x1aU�#��\\x15ܤ\\r�\\\\\\x0c0�>\\x07���sj5�\\x06�bg�\\x16�\\x1eRӀ�K�w/\\x1f\\x04�<c\\x04~}\\u05fa͏m-�sl��\\\\�]5\\x1a�\\n�y>�Pq��\\x13\\x1c)�\\x1c�r\\x018�����M>�n}4W��zh@a7�#-���\\x0e���g\\x07�^��\\x16����\\x02�\\t��*S�NC��P�����\\x12\\x06���q$\\x0f��t>��\\x1a������+\\x19��d�a�j�0lUt$��\\x96��?�\\u05fa�]�rA\\x7fYě����u5JVn�\\x1c���j`���<`��9\\x05���\\x0eI?\\x00g���v��M��F��U�g(\\n�`*\\x0c����\\x1b��g\\x00}��^���D�*.�>⓹�أN�j�\\x15U\\x10���$�Q�\\x1c�\\x18\\'�}�\\ua956��)\\x1d\\x0e/^7H�a#I\\x1cp\\x04C�{�[�\\x01��\\x04��\\u05fa�Tȁ\\x14\\x01�\\x01��v�����h�ui,��\\x12\\x18b��{\\x17\\x1c1?��o�\\x1b�\\x18\\x03\\x00\\x0e�v��oN���7��\\x03���,lև\\x07�Hܠ\\x0c�g�<�u��w\\x1c\\x10W�{��V���0���u2Z9lI\\x1baau�LA8#�9�\\x07�\\x1dQЭ.�N���\\x03�V����\\x06V��!<n`�Q���?={�u͠#)��^�N�C����ǫO#m�\\x1b�\\x00�\\x0eU�q��\\x0f\\x00`c�#v!��C\\x16�r�Kz{\\x13\\x0b��\\x7fMrB�#h�8Q\\u05fa�W\"�\\x13\\x0b\\x1e�\\x1d�wG�PPh�{l�@a��A�&L�\\'�\\x02A\\x1c}���ނ����Fs4�\\x1c�t_RI��U�Tav�[\\'����:�^ꈃ�\\r\"�\\x18Y���m[��0k�j�Jp#�.H\\x016��H�\\x19\\x00�~å=��>�Z��vKA�5W�\\x02�8\\'9\\'\\'ؤ\\x0c�?|\\x1e�\\u05fa�ȶ=�aPA��S҄����\\x10Cbk�RoV�e�\\x1bp\\x1b����q�y��=\\'�ڵo�HͻI�ngl:�=�r\\x169$�H�\\x07\\x03�u�\\t�*Y��\\x0e��&=\\x1e��6�bx��G_`��\\x00�\\x00\\x18\\x00� �y\\x1f\\x1d1ҡ�ںmsG��5-�BF\\rw(H1�v����\\x07?8Ǻ�Qf,w1\\x1e��\\'��\\x1d\\x0bW��\\\\�$1�\\x1aL�\\\\\\x01�g>�o;I#\\x038\\x07\\x03��u-\\x1b\\\\�QN]J}K�aI!��T\\x17\\x12n�Iϻ�`\\x18d�����4 \\x06��\\x1aMr�]ڵm8\\u05ee$j�Kk+D�\\x19\\x05\\x161�H�矷 �ϵm�մz֪��e���#\\x10$ppH���0\\x0f�\\x1d{�u�>%(\\\\\\n6?�Y\\r���Q�5��D�ך�^�\\x13Ξ�L�Xg�v��3�z\\x03��K:�\\x1an�\"߳]d��Y}EW\\'\\x06 3���\\x0e1�\\x1e:�^���\\x0f��Wb�o�ݎ����4���0y\\x17�N�˸��Q�8�Q�Hu���\\x1d\\x1d-�2I:N\\x01S��\\x08�\\u074c���\\x0f��\\u05fa�SǙ�ES��&�\\x1b���6�ZK��a��z�k��\\x1c\\x16?���\\x1c����wQ�(Z��`�����\\x02�p���Kd��8�u�����̲C[���n.\\x12�y��\\x16S\\x15Y�Npq�rrۆ\\x07�8=Sh���>�.���h��R�e\\x03a\\x19\\x00n�\\x12dn\\x00� /���{�\\x0e����\\\\n�=ݭRԶ��c�hf�g�b]T�m��\\x10v��\\t#�\\x07�\\x0ek@���v��\\x11\\x12�{l��\"=���A<�\\x00G�\\u05fa�]�\\n��\\x02�\\x1b2kT]\"��bK\\x1a�qNc�\\x0f�\"�T9\\x0c\\x08#�I\\x04\\x12\\x07�<g��\\x00O��$}�]\\\\�Ydk��\\t��R\\x0e7\\x06�\\x1ex����{�i�R��:�p��p���L\\x14��j��\\x1c��\\x00�d�`\\x1b9P|��\\x04y�G_X�i�\\x00#�J�IR��\\x1bgz��\\x0f;q�q�\\x1d{�u�tf�\\x1c6\\'�;+���Z�:�\\x11\\\\�j�Ԕ�r2�\\x18�\\x07��H;r�ӵG�Q���4\\x0e�7\\x18�\\x0eH�\\x05�\\x03��^��2\\x12Ŕį�\\u038b\\x15V�g�P�f݃\\x18+\\\\X%�\\n\\x01�@p\\x0b\\x13�㞂�=!\\x13F�\\x02ܳ^$A^#\\x1e����c�\"�g\\x04��z�^�\\x16y\\x08\\x04�JΡJ���{Ph���hnH�h\\x13fdf\\x7f!\\\\\\x1c�x\\x07\\x03=k�\\x04z���O�j�Z-�LOQ�`\\t\\x18�r��!\\x01��z�^�X�$N�\\\\yNXƙsO���\\x16b���u �J�\\n]G���H�s�#��\\rht}#U�\\uea39\\x1d��\\x065\\x02B�U\\x19B�*<\\x1d�\\x1b����\\u05fa�l��\\x10���nC��m^\\x14HnMi}J�)���\\x07��#\\x18\\x0c\\x10��s�\\x07\\x1c�\\x12kr��#ת�_f��JD�!Q��#\\x11��\\'��S��={�t��%\\x17���s�o��\\rn��<DԂ�;\\x07�ȑ\\x0c9s\\x16\\x07��\\x05�=KU�f�5\\x1aR]���-\\x13n��e��ڄ1��NO����Ց�\"\"���XI�շ���\\t�9�U�\\x02\\x12ҡ,0�r0Hʒ<n\\'��jZ��qT�T0�#���s�ؑ�\\\\��?�����{��\\r�]�;�G�4�n9T�Y����\\x16ݏh�r>x��:��&�I�w�4��*��R$\\x12�\\x1c�|\\x00\\x10\\x0f�\\n?\\x1d{�u�7W\\x05��<��D`���k5Y$M�O]��\\x18�X)\\x1e��\\x1fq�����\\x1cƱ�F��W�\\x04!&L�o��3��\\x18�N:�^赩5(@\\x02,��jծM\\x15*��!\\x1cU�d�x�ܭ�\\x00��\\r���8=\\x17�߃Q�b!�J\\x10\\x0c�,K鬋�0�O��+�pO8��{�\\r�ɟ�SV�j��A4kJ��u��US&c,�P00@���u�֧�!�b֛FX �\\x11ݷ���\\'\\x7f>�8##={�t\\x0fƄ\\x00\\x03=7s�-���.���i_}yR6\\n#S���|\\x13���G�����$�%GT�\\x04�V?T\\x126��v���y\\x1f�^��Q\\x00�\\x08�h\\\\a�ӿB�Z�A\\x1aɱ#T�\\x18\\x06<���\\'�~zq�Z4��0��z$\"2Y����\\x00QN}��H\\\\||u����p~���?��'"
      ]
     },
     "execution_count": 10,
     "metadata": {},
     "output_type": "execute_result"
    }
   ],
   "source": [
    "f.get_contents()"
   ]
  },
  {
   "cell_type": "code",
   "execution_count": 12,
   "metadata": {},
   "outputs": [
    {
     "data": {
      "text/plain": [
       "'640px-Zhuravlyne_ozero.jpeg'"
      ]
     },
     "execution_count": 12,
     "metadata": {},
     "output_type": "execute_result"
    }
   ],
   "source": [
    "f.display_name"
   ]
  },
  {
   "cell_type": "code",
   "execution_count": 13,
   "metadata": {},
   "outputs": [
    {
     "data": {
      "text/plain": [
       "['__class__',\n",
       " '__delattr__',\n",
       " '__dict__',\n",
       " '__dir__',\n",
       " '__doc__',\n",
       " '__eq__',\n",
       " '__format__',\n",
       " '__ge__',\n",
       " '__getattribute__',\n",
       " '__gt__',\n",
       " '__hash__',\n",
       " '__init__',\n",
       " '__init_subclass__',\n",
       " '__le__',\n",
       " '__lt__',\n",
       " '__module__',\n",
       " '__ne__',\n",
       " '__new__',\n",
       " '__reduce__',\n",
       " '__reduce_ex__',\n",
       " '__repr__',\n",
       " '__setattr__',\n",
       " '__sizeof__',\n",
       " '__str__',\n",
       " '__subclasshook__',\n",
       " '__weakref__',\n",
       " '_requester',\n",
       " 'content-type',\n",
       " 'created_at',\n",
       " 'created_at_date',\n",
       " 'delete',\n",
       " 'display_name',\n",
       " 'download',\n",
       " 'filename',\n",
       " 'folder_id',\n",
       " 'get_contents',\n",
       " 'hidden',\n",
       " 'hidden_for_user',\n",
       " 'id',\n",
       " 'lock_at',\n",
       " 'locked',\n",
       " 'locked_for_user',\n",
       " 'media_entry_id',\n",
       " 'mime_class',\n",
       " 'modified_at',\n",
       " 'modified_at_date',\n",
       " 'set_attributes',\n",
       " 'size',\n",
       " 'thumbnail_url',\n",
       " 'unlock_at',\n",
       " 'updated_at',\n",
       " 'updated_at_date',\n",
       " 'upload_status',\n",
       " 'url',\n",
       " 'uuid']"
      ]
     },
     "execution_count": 13,
     "metadata": {},
     "output_type": "execute_result"
    }
   ],
   "source": [
    "dir(f)"
   ]
  },
  {
   "cell_type": "code",
   "execution_count": 44,
   "metadata": {},
   "outputs": [],
   "source": [
    "for f in course.get_folders():\n",
    "    if f.full_name == 'course files':\n",
    "        folder = f\n",
    "        break"
   ]
  },
  {
   "cell_type": "code",
   "execution_count": 45,
   "metadata": {},
   "outputs": [
    {
     "data": {
      "text/plain": [
       "'course files'"
      ]
     },
     "execution_count": 45,
     "metadata": {},
     "output_type": "execute_result"
    }
   ],
   "source": [
    "folder.full_name"
   ]
  },
  {
   "cell_type": "code",
   "execution_count": 49,
   "metadata": {},
   "outputs": [],
   "source": [
    "sub = folder.create_folder('arstoienarsioe')"
   ]
  },
  {
   "cell_type": "code",
   "execution_count": 27,
   "metadata": {},
   "outputs": [
    {
     "data": {
      "text/plain": [
       "Folder(_requester=<canvasapi.requester.Requester object at 0x7fbcd1348bb0>, id=25609, name=arst, full_name=course files/unfiled/arst, context_id=3099, context_type=Course, parent_folder_id=19073, created_at=2022-08-29T21:56:38Z, created_at_date=2022-08-29 21:56:38+00:00, updated_at=2022-08-29T21:56:38Z, updated_at_date=2022-08-29 21:56:38+00:00, lock_at=None, unlock_at=None, position=1, locked=False, folders_url=https://uws-td.instructure.com/api/v1/folders/25609/folders, files_url=https://uws-td.instructure.com/api/v1/folders/25609/files, files_count=0, folders_count=0, hidden=None, locked_for_user=False, hidden_for_user=False, for_submissions=False, can_upload=True)"
      ]
     },
     "execution_count": 27,
     "metadata": {},
     "output_type": "execute_result"
    }
   ],
   "source": [
    "folder"
   ]
  },
  {
   "cell_type": "code",
   "execution_count": 48,
   "metadata": {},
   "outputs": [
    {
     "data": {
      "text/plain": [
       "Folder(_requester=<canvasapi.requester.Requester object at 0x7fbcd1348bb0>, id=19037, name=course files, full_name=course files, context_id=3099, context_type=Course, parent_folder_id=None, created_at=2021-07-13T19:29:59Z, created_at_date=2021-07-13 19:29:59+00:00, updated_at=2021-07-13T19:29:59Z, updated_at_date=2021-07-13 19:29:59+00:00, lock_at=None, unlock_at=None, position=None, locked=False, folders_url=https://uws-td.instructure.com/api/v1/folders/19037/folders, files_url=https://uws-td.instructure.com/api/v1/folders/19037/files, files_count=0, folders_count=3, hidden=None, locked_for_user=False, hidden_for_user=False, for_submissions=False, can_upload=True)"
      ]
     },
     "execution_count": 48,
     "metadata": {},
     "output_type": "execute_result"
    }
   ],
   "source": [
    "folder"
   ]
  },
  {
   "cell_type": "code",
   "execution_count": 50,
   "metadata": {},
   "outputs": [
    {
     "data": {
      "text/plain": [
       "'course files/arstoienarsioe 3'"
      ]
     },
     "execution_count": 50,
     "metadata": {},
     "output_type": "execute_result"
    }
   ],
   "source": [
    "sub.full_name"
   ]
  },
  {
   "cell_type": "code",
   "execution_count": 51,
   "metadata": {},
   "outputs": [
    {
     "data": {
      "text/plain": [
       "'arstoienarsioe 3'"
      ]
     },
     "execution_count": 51,
     "metadata": {},
     "output_type": "execute_result"
    }
   ],
   "source": [
    "sub.name"
   ]
  },
  {
   "cell_type": "code",
   "execution_count": 52,
   "metadata": {},
   "outputs": [
    {
     "data": {
      "text/plain": [
       "<bound method Folder.upload of Folder(_requester=<canvasapi.requester.Requester object at 0x7fbcd1348bb0>, id=25614, name=arstoienarsioe 3, full_name=course files/arstoienarsioe 3, context_id=3099, context_type=Course, parent_folder_id=19037, created_at=2022-08-29T22:05:46Z, created_at_date=2022-08-29 22:05:46+00:00, updated_at=2022-08-29T22:05:46Z, updated_at_date=2022-08-29 22:05:46+00:00, lock_at=None, unlock_at=None, position=6, locked=False, folders_url=https://uws-td.instructure.com/api/v1/folders/25614/folders, files_url=https://uws-td.instructure.com/api/v1/folders/25614/files, files_count=0, folders_count=0, hidden=None, locked_for_user=False, hidden_for_user=False, for_submissions=False, can_upload=True)>"
      ]
     },
     "execution_count": 52,
     "metadata": {},
     "output_type": "execute_result"
    }
   ],
   "source": [
    "sub.upload()"
   ]
  },
  {
   "cell_type": "code",
   "execution_count": 54,
   "metadata": {},
   "outputs": [],
   "source": [
    "files = course.get_files()"
   ]
  },
  {
   "cell_type": "code",
   "execution_count": 55,
   "metadata": {},
   "outputs": [],
   "source": [
    "f = files[0]"
   ]
  },
  {
   "cell_type": "code",
   "execution_count": 58,
   "metadata": {},
   "outputs": [],
   "source": [
    "fid = f.folder_id"
   ]
  },
  {
   "cell_type": "code",
   "execution_count": 59,
   "metadata": {},
   "outputs": [
    {
     "data": {
      "text/plain": [
       "Folder(_requester=<canvasapi.requester.Requester object at 0x7fbcd1348bb0>, id=19074, name=images, full_name=course files/images, context_id=3099, context_type=Course, parent_folder_id=19037, created_at=2021-07-14T17:06:31Z, created_at_date=2021-07-14 17:06:31+00:00, updated_at=2021-07-14T17:06:31Z, updated_at_date=2021-07-14 17:06:31+00:00, lock_at=None, unlock_at=None, position=2, locked=False, folders_url=https://uws-td.instructure.com/api/v1/folders/19074/folders, files_url=https://uws-td.instructure.com/api/v1/folders/19074/files, files_count=5, folders_count=0, hidden=None, locked_for_user=False, hidden_for_user=False, for_submissions=False, can_upload=True)"
      ]
     },
     "execution_count": 59,
     "metadata": {},
     "output_type": "execute_result"
    }
   ],
   "source": [
    "course.get_folder(fid)"
   ]
  },
  {
   "cell_type": "code",
   "execution_count": 62,
   "metadata": {},
   "outputs": [
    {
     "data": {
      "text/plain": [
       "'640px-Zhuravlyne_ozero.jpeg'"
      ]
     },
     "execution_count": 62,
     "metadata": {},
     "output_type": "execute_result"
    }
   ],
   "source": [
    "f.filename"
   ]
  },
  {
   "cell_type": "code",
   "execution_count": 63,
   "metadata": {},
   "outputs": [
    {
     "data": {
      "text/plain": [
       "Folder(_requester=<canvasapi.requester.Requester object at 0x7fbcd1348bb0>, id=25614, name=arstoienarsioe 3, full_name=course files/arstoienarsioe 3, context_id=3099, context_type=Course, parent_folder_id=19037, created_at=2022-08-29T22:05:46Z, created_at_date=2022-08-29 22:05:46+00:00, updated_at=2022-08-29T22:05:46Z, updated_at_date=2022-08-29 22:05:46+00:00, lock_at=None, unlock_at=None, position=6, locked=False, folders_url=https://uws-td.instructure.com/api/v1/folders/25614/folders, files_url=https://uws-td.instructure.com/api/v1/folders/25614/files, files_count=0, folders_count=0, hidden=None, locked_for_user=False, hidden_for_user=False, for_submissions=False, can_upload=True)"
      ]
     },
     "execution_count": 63,
     "metadata": {},
     "output_type": "execute_result"
    }
   ],
   "source": [
    "sub"
   ]
  },
  {
   "cell_type": "code",
   "execution_count": 73,
   "metadata": {},
   "outputs": [
    {
     "data": {
      "text/plain": [
       "(True,\n",
       " {'location': 'https://uws-td.instructure.com/api/v1/files/292443?include%5B%5D=enhanced_preview_url',\n",
       "  'instfs_uuid': '9de5c86f-5e90-41fe-968f-e78670725f1d',\n",
       "  'id': 292443,\n",
       "  'uuid': 'fryK180diI5YhvtVzteZk29VOcGd6NVO9PFeEMld',\n",
       "  'folder_id': 25614,\n",
       "  'display_name': 'ds150_course_logo.pdf',\n",
       "  'filename': 'ds150_course_logo.pdf',\n",
       "  'upload_status': 'success',\n",
       "  'content-type': 'application/pdf',\n",
       "  'url': 'https://uws-td.instructure.com/files/292443/download?download_frd=1&verifier=fryK180diI5YhvtVzteZk29VOcGd6NVO9PFeEMld',\n",
       "  'size': 30857,\n",
       "  'created_at': '2022-08-29T22:23:45Z',\n",
       "  'updated_at': '2022-08-29T22:23:45Z',\n",
       "  'unlock_at': None,\n",
       "  'locked': False,\n",
       "  'hidden': False,\n",
       "  'lock_at': None,\n",
       "  'hidden_for_user': False,\n",
       "  'thumbnail_url': None,\n",
       "  'modified_at': '2022-08-29T22:23:45Z',\n",
       "  'mime_class': 'pdf',\n",
       "  'media_entry_id': None,\n",
       "  'locked_for_user': False,\n",
       "  'preview_url': '/courses/3099/files/292443/file_preview?annotate=0&verifier=fryK180diI5YhvtVzteZk29VOcGd6NVO9PFeEMld'})"
      ]
     },
     "execution_count": 73,
     "metadata": {},
     "output_type": "execute_result"
    }
   ],
   "source": [
    "sub.upload(file='a_file.file/ds150_course_logo.pdf')"
   ]
  },
  {
   "cell_type": "code",
   "execution_count": 74,
   "metadata": {},
   "outputs": [
    {
     "data": {
      "text/plain": [
       "<PaginatedList of type Module>"
      ]
     },
     "execution_count": 74,
     "metadata": {},
     "output_type": "execute_result"
    }
   ],
   "source": [
    "course.get_modules()"
   ]
  },
  {
   "cell_type": "code",
   "execution_count": 77,
   "metadata": {},
   "outputs": [],
   "source": [
    "for m in course.get_modules():\n",
    "    if m.name==\"manually created module 1\":\n",
    "        mod = m\n",
    "        break"
   ]
  },
  {
   "cell_type": "code",
   "execution_count": 78,
   "metadata": {},
   "outputs": [
    {
     "data": {
      "text/plain": [
       "Module(_requester=<canvasapi.requester.Requester object at 0x7fbcd1348bb0>, id=23291, name=manually created module 1, position=1, unlock_at=None, require_sequential_progress=False, publish_final_grade=False, prerequisite_module_ids=[], published=False, items_count=6, items_url=https://uws-td.instructure.com/api/v1/courses/3099/modules/23291/items, course_id=3099)"
      ]
     },
     "execution_count": 78,
     "metadata": {},
     "output_type": "execute_result"
    }
   ],
   "source": [
    "mod"
   ]
  },
  {
   "cell_type": "code",
   "execution_count": 85,
   "metadata": {},
   "outputs": [
    {
     "name": "stdout",
     "output_type": "stream",
     "text": [
      "Page\n",
      "Page\n",
      "Page\n",
      "Page\n",
      "Assignment\n",
      "File\n"
     ]
    }
   ],
   "source": [
    "for item in mod.get_module_items():\n",
    "    print(item.type)"
   ]
  },
  {
   "cell_type": "code",
   "execution_count": 93,
   "metadata": {},
   "outputs": [
    {
     "data": {
      "text/plain": [
       "0"
      ]
     },
     "execution_count": 93,
     "metadata": {},
     "output_type": "execute_result"
    }
   ],
   "source": [
    "item.indent"
   ]
  },
  {
   "cell_type": "code",
   "execution_count": 86,
   "metadata": {},
   "outputs": [
    {
     "ename": "TypeError",
     "evalue": "create_module_item() missing 1 required positional argument: 'module_item'",
     "output_type": "error",
     "traceback": [
      "\u001b[0;31m---------------------------------------------------------------------------\u001b[0m",
      "\u001b[0;31mTypeError\u001b[0m                                 Traceback (most recent call last)",
      "Input \u001b[0;32mIn [86]\u001b[0m, in \u001b[0;36m<cell line: 1>\u001b[0;34m()\u001b[0m\n\u001b[0;32m----> 1\u001b[0m \u001b[43mmod\u001b[49m\u001b[38;5;241;43m.\u001b[39;49m\u001b[43mcreate_module_item\u001b[49m\u001b[43m(\u001b[49m\u001b[43m)\u001b[49m\n",
      "\u001b[0;31mTypeError\u001b[0m: create_module_item() missing 1 required positional argument: 'module_item'"
     ]
    }
   ],
   "source": [
    "mod.create_module_item()"
   ]
  },
  {
   "cell_type": "code",
   "execution_count": 87,
   "metadata": {},
   "outputs": [
    {
     "data": {
      "text/plain": [
       "File(_requester=<canvasapi.requester.Requester object at 0x7fbcd1348bb0>, id=288699, uuid=1kmojZzrRxNU1Dcs8AFesJKxFInb3A9XNCc7ul2d, folder_id=19074, display_name=640px-Zhuravlyne_ozero.jpeg, filename=640px-Zhuravlyne_ozero.jpeg, upload_status=success, content-type=image/jpeg, url=https://uws-td.instructure.com/files/288699/download?download_frd=1&verifier=1kmojZzrRxNU1Dcs8AFesJKxFInb3A9XNCc7ul2d, size=106099, created_at=2022-07-29T20:45:27Z, created_at_date=2022-07-29 20:45:27+00:00, updated_at=2022-07-29T20:45:27Z, updated_at_date=2022-07-29 20:45:27+00:00, unlock_at=None, locked=False, hidden=False, lock_at=None, hidden_for_user=False, thumbnail_url=https://uws-td.instructure.com/images/thumbnails/288699/1kmojZzrRxNU1Dcs8AFesJKxFInb3A9XNCc7ul2d, modified_at=2022-07-29T20:45:27Z, modified_at_date=2022-07-29 20:45:27+00:00, mime_class=image, media_entry_id=None, locked_for_user=False)"
      ]
     },
     "execution_count": 87,
     "metadata": {},
     "output_type": "execute_result"
    }
   ],
   "source": [
    "f"
   ]
  },
  {
   "cell_type": "code",
   "execution_count": 88,
   "metadata": {},
   "outputs": [
    {
     "data": {
      "text/plain": [
       "288699"
      ]
     },
     "execution_count": 88,
     "metadata": {},
     "output_type": "execute_result"
    }
   ],
   "source": [
    "f.id"
   ]
  },
  {
   "cell_type": "code",
   "execution_count": null,
   "metadata": {},
   "outputs": [],
   "source": []
  }
 ],
 "metadata": {
  "kernelspec": {
   "display_name": "Python 3 (ipykernel)",
   "language": "python",
   "name": "python3"
  },
  "language_info": {
   "codemirror_mode": {
    "name": "ipython",
    "version": 3
   },
   "file_extension": ".py",
   "mimetype": "text/x-python",
   "name": "python",
   "nbconvert_exporter": "python",
   "pygments_lexer": "ipython3",
   "version": "3.12.3"
  }
 },
 "nbformat": 4,
 "nbformat_minor": 4
}
